{
 "cells": [
  {
   "cell_type": "code",
   "execution_count": null,
   "id": "ff2fc7bd",
   "metadata": {},
   "outputs": [],
   "source": [
    "import requests\n",
    "import time\n",
    "import pandas as pd\n",
    "import os"
   ]
  },
  {
   "cell_type": "code",
   "execution_count": 4,
   "id": "f5d7c2e2",
   "metadata": {},
   "outputs": [],
   "source": [
    "# 엑셀 파일 불러오기\n",
    "df = pd.read_excel(\"C:/Users/hk522/Desktop/병원 풀데이터.xlsx\", sheet_name=\"Sheet1\")\n",
    "#pharmacy_df = pd.read_excel(\"C:/Users/hk522/Desktop/약국 풀 데이터.xlsx\")"
   ]
  },
  {
   "cell_type": "code",
   "execution_count": 5,
   "id": "cf18fe02",
   "metadata": {},
   "outputs": [],
   "source": [
    "# 설정\n",
    "app_key = \"h378OZ68lH4U8fIl3Htou9WCfyggLHLdaxj4HwIE\"\n",
    "address_col = 'dutyAddr'     # 변환 대상 열 이름"
   ]
  },
  {
   "cell_type": "code",
   "execution_count": null,
   "id": "4ea7acf5",
   "metadata": {},
   "outputs": [],
   "source": [
    "# ---------- 1. 미처리 데이터 불러오기 ----------\n",
    "df = pd.read_excel(\"미처리.xlsx\")"
   ]
  },
  {
   "cell_type": "code",
   "execution_count": 6,
   "id": "cfbf6874",
   "metadata": {},
   "outputs": [],
   "source": [
    "# ---------- 2. 지번 주소 변환 함수 ----------\n",
    "def convert_to_jibun(road_address, app_key):\n",
    "    url = \"http://apis.openapi.sk.com/tmap/geo/convertAddress\"\n",
    "    params = {\n",
    "        \"version\": 1,\n",
    "        \"addr\": road_address,\n",
    "        \"appKey\": app_key\n",
    "    }\n",
    "    response = requests.get(url, params=params)\n",
    "    data = response.json()\n",
    "    try:\n",
    "        return data['addressInfo']['jibunAddr']\n",
    "    except:\n",
    "        return None"
   ]
  },
  {
   "cell_type": "code",
   "execution_count": null,
   "id": "b65320fc",
   "metadata": {},
   "outputs": [],
   "source": [
    "# ---------- 3. 최대 2만건까지 처리 ----------\n",
    "count = 0\n",
    "max_count = 20000\n",
    "unprocessed_idx = []\n",
    "\n",
    "for i in range(len(df)):\n",
    "    address = df.loc[i, address_col]\n",
    "    if pd.isna(address):\n",
    "        continue\n",
    "    if count >= max_count:\n",
    "        unprocessed_idx.append(i)\n",
    "        continue\n",
    "\n",
    "    jibun = convert_to_jibun(address, app_key)\n",
    "    df.loc[i, address_col] = jibun\n",
    "    count += 1\n",
    "    time.sleep(0.2)  # 과도한 요청 방지\n",
    "\n",
    "print(f\"✅ 오늘 {count}건 처리 완료\")"
   ]
  },
  {
   "cell_type": "code",
   "execution_count": null,
   "id": "2b8d7d7b",
   "metadata": {},
   "outputs": [],
   "source": [
    "# ---------- 4. 기존 파일 있으면 이어붙이고 없으면 새로 저장 ----------\n",
    "processed_today = df.drop(index=unprocessed_idx)\n",
    "\n",
    "if os.path.exists(\"C:/Users/hk522/Desktop/병원 풀데이터 지번 주소.xlsx\"):\n",
    "    processed_prev = pd.read_excel(\"C:/Users/hk522/Desktop/병원 풀데이터 지번 주소.xlsx\")\n",
    "    updated_df = pd.concat([processed_prev, processed_today], ignore_index=True)\n",
    "else:\n",
    "    updated_df = processed_today\n",
    "\n",
    "updated_df.to_excel(\"C:/Users/hk522/Desktop/병원 풀데이터 지번 주소.xlsx\", index=False)\n",
    "print(\"📄 '병원 풀데이터 지번 주소.xlsx'에 저장 완료\")"
   ]
  },
  {
   "cell_type": "code",
   "execution_count": null,
   "id": "eacaa330",
   "metadata": {},
   "outputs": [],
   "source": [
    "# ---------- 5. 남은 미처리 저장 ----------\n",
    "if unprocessed_idx:\n",
    "    df.iloc[unprocessed_idx].to_excel(\"C:/Users/hk522/Desktop/미처리.xlsx\", index=False)\n",
    "    print(f\"📂 {len(unprocessed_idx)}건은 '미처리.xlsx'로 저장됨 (내일 처리)\")\n",
    "else:\n",
    "    print(\"🎉 전체 데이터 변환 완료! 더 이상 미처리 없음.\")"
   ]
  }
 ],
 "metadata": {
  "kernelspec": {
   "display_name": "base",
   "language": "python",
   "name": "python3"
  },
  "language_info": {
   "codemirror_mode": {
    "name": "ipython",
    "version": 3
   },
   "file_extension": ".py",
   "mimetype": "text/x-python",
   "name": "python",
   "nbconvert_exporter": "python",
   "pygments_lexer": "ipython3",
   "version": "3.11.7"
  }
 },
 "nbformat": 4,
 "nbformat_minor": 5
}
