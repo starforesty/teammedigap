{
 "cells": [
  {
   "cell_type": "code",
   "execution_count": 1,
   "id": "ff2fc7bd",
   "metadata": {},
   "outputs": [],
   "source": [
    "import requests\n",
    "import time\n",
    "import pandas as pd\n",
    "import os"
   ]
  },
  {
   "cell_type": "code",
   "execution_count": null,
   "id": "f5d7c2e2",
   "metadata": {},
   "outputs": [],
   "source": [
    "# 엑셀 파일 불러오기\n",
    "df = pd.read_excel(\"C:/Path/병원 풀데이터.xlsx\", sheet_name=\"Sheet1\")\n",
    "#pharmacy_df = pd.read_excel(\"C:/Path/약국 풀 데이터.xlsx\")"
   ]
  },
  {
   "cell_type": "code",
   "execution_count": null,
   "id": "cf18fe02",
   "metadata": {},
   "outputs": [],
   "source": [
    "# 설정\n",
    "app_key = \"SK open API app key\"\n",
    "address_col = 'dutyAddr'     # 변환 대상 열 이름"
   ]
  },
  {
   "cell_type": "code",
   "execution_count": 4,
   "id": "4ea7acf5",
   "metadata": {},
   "outputs": [],
   "source": [
    "# ---------- 1. 미처리 데이터 불러오기 ----------\n",
    "#df = pd.read_excel(\"미처리.xlsx\")"
   ]
  },
  {
   "cell_type": "code",
   "execution_count": 17,
   "id": "cfbf6874",
   "metadata": {},
   "outputs": [],
   "source": [
    "# ---------- 2. 지번 주소 변환 함수 ----------\n",
    "def convert_to_jibun(road_address, api_key):\n",
    "    url = f\"https://business.juso.go.kr/addrlink/addrLinkApi.do\"\n",
    "    params = {\n",
    "        \"confmKey\": api_key,\n",
    "        \"currentPage\": \"1\",\n",
    "        \"countPerPage\": \"1\",\n",
    "        \"keyword\": road_address,\n",
    "        \"resultType\": \"json\"\n",
    "    }\n",
    "\n",
    "    try:\n",
    "        response = requests.get(url, params=params)\n",
    "        data = response.json()\n",
    "\n",
    "        if data[\"results\"][\"common\"][\"errorCode\"] == \"0\":\n",
    "            juso_list = data[\"results\"][\"juso\"]\n",
    "            if juso_list:\n",
    "                jibun_addr = juso_list[0].get(\"jibunAddr\", \"\")\n",
    "                return jibun_addr if jibun_addr.strip() else None\n",
    "        else:\n",
    "            print(f\"⚠️ API 오류: {data['results']['common']['errorMessage']}\")\n",
    "            return None\n",
    "    except Exception as e:\n",
    "        print(f\"❌ 요청 실패: {e}\")\n",
    "        return None"
   ]
  },
  {
   "cell_type": "code",
   "execution_count": null,
   "id": "b65320fc",
   "metadata": {},
   "outputs": [],
   "source": [
    "# ---------- 3. 최대 2만건까지 처리 ----------\n",
    "# 1. 지번주소 결과를 담을 Series 생성\n",
    "jibun_series = []\n",
    "\n",
    "# 2. 주소 변환 및 저장\n",
    "count = 0\n",
    "unprocessed_idx = []\n",
    "\n",
    "for i, addr in enumerate(df[address_col]):\n",
    "    if count >= 20000:\n",
    "        jibun_series.append(None)\n",
    "        continue\n",
    "\n",
    "    jibun = convert_to_jibun(addr)\n",
    "\n",
    "    if jibun is not None and jibun.strip() != \"\":\n",
    "        jibun_series.append(jibun)\n",
    "        count += 1\n",
    "    else:\n",
    "        jibun_series.append(None)\n",
    "        unprocessed_idx.append(i)\n",
    "\n",
    "    time.sleep(0.2)\n",
    "\n",
    "print(f\"✅ 오늘 {count}건 처리 완료\")\n",
    "\n",
    "# 3. Jibun 열을 dutyAddr 바로 오른쪽에 삽입\n",
    "insert_at = df.columns.get_loc(address_col) + 1\n",
    "df.insert(insert_at, \"Jibun\", jibun_series)"
   ]
  },
  {
   "cell_type": "code",
   "execution_count": null,
   "id": "2b8d7d7b",
   "metadata": {},
   "outputs": [],
   "source": [
    "# ---------- 4. 기존 파일 있으면 이어붙이고 없으면 새로 저장 ----------\n",
    "processed_today = df.drop(index=unprocessed_idx)\n",
    "\n",
    "if os.path.exists(\"C:/Path/병원 풀데이터 지번 주소.xlsx\"):\n",
    "    processed_prev = pd.read_excel(\"C:/Path/병원 풀데이터 지번 주소.xlsx\")\n",
    "    updated_df = pd.concat([processed_prev, processed_today], ignore_index=True)\n",
    "else:\n",
    "    updated_df = processed_today\n",
    "\n",
    "updated_df.to_excel(\"C:/Path/병원 풀데이터 지번 주소.xlsx\", index=False)\n",
    "print(\"📄 '병원 풀데이터 지번 주소.xlsx'에 저장 완료\")"
   ]
  },
  {
   "cell_type": "code",
   "execution_count": null,
   "id": "b4bd2f65",
   "metadata": {},
   "outputs": [],
   "source": [
    "# ---------- 4. 기존 처리 완료 파일에 덧붙이기 ----------\n",
    "processed_today = df.drop(index=unprocessed_idx)\n",
    "\n",
    "try:\n",
    "    processed_prev = pd.read_excel(\"C:/Path/병원 풀데이터 지번 주소.xlsx\")\n",
    "    updated_df = pd.concat([processed_prev, processed_today], ignore_index=True)\n",
    "except FileNotFoundError:\n",
    "    updated_df = processed_today\n",
    "\n",
    "updated_df.to_excel(\"C:/Path/병원 풀데이터 지번 주소.xlsx\", index=False)\n",
    "print(\"📄 기존 '병원 풀데이터 지번 주소.xlsx'에 덮어쓰기 저장 완료\")"
   ]
  },
  {
   "cell_type": "code",
   "execution_count": 16,
   "id": "4bbf2705",
   "metadata": {},
   "outputs": [
    {
     "name": "stdout",
     "output_type": "stream",
     "text": [
      "❓ 미처리 인덱스 개수: 0\n"
     ]
    }
   ],
   "source": [
    "print(f\"❓ 미처리 인덱스 개수: {len(unprocessed_idx)}\")\n"
   ]
  },
  {
   "cell_type": "code",
   "execution_count": 15,
   "id": "eacaa330",
   "metadata": {},
   "outputs": [
    {
     "name": "stdout",
     "output_type": "stream",
     "text": [
      "🎉 전체 데이터 변환 완료! 더 이상 미처리 없음.\n"
     ]
    }
   ],
   "source": [
    "# ---------- 5. 남은 미처리 저장 ----------\n",
    "if unprocessed_idx:\n",
    "    chunk_size = 20000\n",
    "    unprocessed_df = df.iloc[unprocessed_idx].reset_index(drop=True)\n",
    "    output_dir = os.getcwd()\n",
    "\n",
    "    for i in range(0, len(unprocessed_df), chunk_size):\n",
    "        chunk = unprocessed_df.iloc[i:i+chunk_size]\n",
    "        file_index = i // chunk_size + 1\n",
    "        file_path = os.path.join(output_dir, f\"미처리_{file_index}.xlsx\")\n",
    "\n",
    "        try:\n",
    "            chunk.to_excel(file_path, index=False)\n",
    "            if os.path.exists(file_path):\n",
    "                print(f\"✅ 저장 완료: {file_path}\")\n",
    "            else:\n",
    "                print(f\"❌ 저장 실패 (파일 없음): {file_path}\")\n",
    "        except Exception as e:\n",
    "            print(f\"❌ 예외 발생: {file_path}\")\n",
    "            print(e)\n",
    "else:\n",
    "    print(\"🎉 전체 데이터 변환 완료! 더 이상 미처리 없음.\")"
   ]
  }
 ],
 "metadata": {
  "kernelspec": {
   "display_name": "base",
   "language": "python",
   "name": "python3"
  },
  "language_info": {
   "codemirror_mode": {
    "name": "ipython",
    "version": 3
   },
   "file_extension": ".py",
   "mimetype": "text/x-python",
   "name": "python",
   "nbconvert_exporter": "python",
   "pygments_lexer": "ipython3",
   "version": "3.11.7"
  }
 },
 "nbformat": 4,
 "nbformat_minor": 5
}
