{
 "cells": [
  {
   "cell_type": "code",
   "execution_count": 1,
   "metadata": {},
   "outputs": [],
   "source": [
    "import requests\n",
    "import time\n",
    "import xml.etree.ElementTree as ET\n",
    "import pandas as pd"
   ]
  },
  {
   "cell_type": "code",
   "execution_count": 2,
   "metadata": {},
   "outputs": [],
   "source": [
    "url_M = \"http://apis.data.go.kr/B552657/ErmctInsttInfoInqireService/getParmacyFullDown\"\n",
    "api_M = 'SOecclsdpfuvGmi+5d/vkz3M5XiRZEpLLLAm6oeRb4lI6TJSEsmP4nOvH6DfEznSzCw8o3+Ktedgq18jQIGUmg=='"
   ]
  },
  {
   "cell_type": "code",
   "execution_count": 3,
   "metadata": {},
   "outputs": [],
   "source": [
    "url_H = 'http://apis.data.go.kr/B552657/HsptlAsembySearchService/getHsptlMdcncFullDown'\n",
    "api_H = 'SOecclsdpfuvGmi+5d/vkz3M5XiRZEpLLLAm6oeRb4lI6TJSEsmP4nOvH6DfEznSzCw8o3+Ktedgq18jQIGUmg=='"
   ]
  },
  {
   "cell_type": "code",
   "execution_count": 5,
   "metadata": {},
   "outputs": [],
   "source": [
    "def fetch_all_data(api_url, api_key, num_of_rows=100, delay=0.05):  # 50ms 대기\n",
    "    \"\"\"\n",
    "    API에서 totalCount를 자동으로 가져와 전체 데이터를 수집하는 함수\n",
    "    :param api_url: API의 기본 URL\n",
    "    :param api_key: API 키\n",
    "    :param num_of_rows: 한 번에 가져올 데이터 개수 (기본 100)\n",
    "    :param delay: 요청 간 대기 시간 (초)\n",
    "    :return: 전체 응답 리스트\n",
    "    \"\"\"\n",
    "    # totalCount 가져오기\n",
    "    params = {\n",
    "        'ServiceKey': api_key,\n",
    "        'pageNo': '1',\n",
    "        'numOfRows': '1'  # 한 개만 요청하여 totalCount 확인\n",
    "    }\n",
    "    response = requests.get(api_url, params=params)\n",
    "    \n",
    "    if response.status_code == 200:\n",
    "        root = ET.fromstring(response.content)\n",
    "        total_count_elem = root.find(\".//totalCount\")\n",
    "        total_count = int(total_count_elem.text) if total_count_elem is not None else 0\n",
    "    else:\n",
    "        print(f\"totalCount 가져오기 실패: 상태 코드 {response.status_code}\")\n",
    "        return []\n",
    "    \n",
    "    all_responses = []\n",
    "    total_pages = (total_count // num_of_rows) + (1 if total_count % num_of_rows else 0)\n",
    "\n",
    "    for page in range(1, total_pages + 1):\n",
    "        params = {\n",
    "            'ServiceKey': api_key,\n",
    "            'pageNo': str(page),\n",
    "            'numOfRows': str(num_of_rows)\n",
    "        }\n",
    "        response = requests.get(api_url, params=params)\n",
    "\n",
    "        if response.status_code == 200:\n",
    "            all_responses.append(response.content)\n",
    "        else:\n",
    "            print(f\"페이지 {page} 요청 실패: 상태 코드 {response.status_code}\")\n",
    "\n",
    "        time.sleep(delay)  # 50ms 대기 (30TPS 제한 맞추기)\n",
    "\n",
    "    return all_responses"
   ]
  },
  {
   "cell_type": "code",
   "execution_count": 6,
   "metadata": {},
   "outputs": [],
   "source": [
    "def convert_xml_to_dataframe(xml_data_list):\n",
    "    \"\"\"fetch_all_data()로 가져온 XML 데이터를 DataFrame으로 변환\"\"\"\n",
    "    parsed_data = []\n",
    "\n",
    "    for xml_data in xml_data_list:\n",
    "        root = ET.fromstring(xml_data)\n",
    "\n",
    "        for item in root.findall(\".//item\"):\n",
    "            data = {child.tag: child.text for child in item}\n",
    "            parsed_data.append(data)\n",
    "\n",
    "    return pd.DataFrame(parsed_data) if parsed_data else None"
   ]
  },
  {
   "cell_type": "code",
   "execution_count": 7,
   "metadata": {},
   "outputs": [],
   "source": [
    "response_M = fetch_all_data(url_M, api_M)"
   ]
  },
  {
   "cell_type": "code",
   "execution_count": 8,
   "metadata": {},
   "outputs": [],
   "source": [
    "response_H = fetch_all_data(url_H, api_H)"
   ]
  },
  {
   "cell_type": "code",
   "execution_count": 27,
   "metadata": {},
   "outputs": [],
   "source": [
    "df_H = convert_xml_to_dataframe(response_H)"
   ]
  },
  {
   "cell_type": "code",
   "execution_count": 18,
   "metadata": {},
   "outputs": [],
   "source": [
    "df_M = convert_xml_to_dataframe(response_M)"
   ]
  },
  {
   "cell_type": "code",
   "execution_count": 22,
   "metadata": {},
   "outputs": [],
   "source": [
    "df_M.to_excel(\"C:/Users/hk522/Desktop/약국 데이터.xlsx\", index=False)"
   ]
  }
 ],
 "metadata": {
  "kernelspec": {
   "display_name": "base",
   "language": "python",
   "name": "python3"
  },
  "language_info": {
   "codemirror_mode": {
    "name": "ipython",
    "version": 3
   },
   "file_extension": ".py",
   "mimetype": "text/x-python",
   "name": "python",
   "nbconvert_exporter": "python",
   "pygments_lexer": "ipython3",
   "version": "3.11.7"
  }
 },
 "nbformat": 4,
 "nbformat_minor": 2
}
