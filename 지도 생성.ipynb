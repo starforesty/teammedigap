{
 "cells": [
  {
   "cell_type": "code",
   "execution_count": 3,
   "id": "2f2c99d0",
   "metadata": {},
   "outputs": [],
   "source": [
    "import pandas as pd\n",
    "import numpy as np\n",
    "import folium\n",
    "import os\n",
    "import zipfile\n",
    "import shutil\n",
    "from sklearn.cluster import DBSCAN\n",
    "from geopy.distance import great_circle\n",
    "from shapely.geometry import Point\n",
    "from shapely.ops import unary_union\n",
    "from folium.vector_layers import Polygon"
   ]
  },
  {
   "cell_type": "code",
   "execution_count": 5,
   "id": "5ac08d49",
   "metadata": {},
   "outputs": [],
   "source": [
    "# 엑셀 파일 불러오기\n",
    "hospital_df = pd.read_excel(\"C:/Users/hk522/Desktop/캡스톤 팀프로젝트/병원 풀데이터 지번주소.xlsx\")\n",
    "pharmacy_df = pd.read_excel(\"C:/Users/hk522/Desktop/캡스톤 팀프로젝트/약국 풀데이터 지번주소.xlsx\")"
   ]
  },
  {
   "cell_type": "code",
   "execution_count": 6,
   "id": "4ab216c1",
   "metadata": {},
   "outputs": [],
   "source": [
    "# 병원/약국 구분 컬럼 추가\n",
    "hospital_df[\"구분\"] = \"병원\"\n",
    "pharmacy_df[\"구분\"] = \"약국\"\n",
    "\n",
    "# 병원 + 약국 데이터 합치기\n",
    "full_df = pd.concat([hospital_df, pharmacy_df], ignore_index=True)"
   ]
  },
  {
   "cell_type": "code",
   "execution_count": 8,
   "id": "91f16b84",
   "metadata": {},
   "outputs": [],
   "source": [
    "# 시간을 \"HHMM\" 형태에서 \"H:MM\" 형식으로 변환하는 함수\n",
    "def format_time(val):\n",
    "    try:\n",
    "        val = int(val)\n",
    "        hours = val // 100\n",
    "        minutes = val % 100\n",
    "        return f\"{hours}:{minutes:02}\"\n",
    "    except:\n",
    "        return None"
   ]
  },
  {
   "cell_type": "code",
   "execution_count": 9,
   "id": "e83706e7",
   "metadata": {},
   "outputs": [],
   "source": [
    "# 마커에 들어갈 팝업 내용 생성 함수\n",
    "def generate_popup(row):\n",
    "    popup_html = f\"<b>{row['dutyName']}</b>\"\n",
    "\n",
    "    if pd.notna(row.get(\"dutyTel1\")) and row[\"dutyTel1\"] != '':\n",
    "        popup_html += f\"<br>☎ {row['dutyTel1']}<br><br>\"\n",
    "    else:\n",
    "        popup_html += \"<br><br>\"\n",
    "\n",
    "    # <요일별 진료시간> 출력\n",
    "    popup_html += \"&lt;요일별 진료시간&gt;<br>\"\n",
    "\n",
    "    days = ['월', '화', '수', '목', '금', '토', '일', '공휴일']\n",
    "\n",
    "    for i, day in enumerate(days, start=1):\n",
    "        start_col = f'dutyTime{i}s'\n",
    "        end_col = f'dutyTime{i}c'\n",
    "\n",
    "        start = row.get(start_col)\n",
    "        end = row.get(end_col)\n",
    "\n",
    "        start_fmt = format_time(start)\n",
    "        end_fmt = format_time(end)\n",
    "\n",
    "        # \"요일\"이라는 접미사는 공휴일에는 붙이지 않음\n",
    "        label = f\"{day}요일\" if day != \"공휴일\" else \"공휴일\"\n",
    "\n",
    "        if start_fmt and end_fmt:\n",
    "            popup_html += f\"{label} : {start_fmt} ~ {end_fmt}<br>\"\n",
    "        else:\n",
    "            popup_html += f\"{label} : 휴진<br>\"\n",
    "\n",
    "    return popup_html"
   ]
  },
  {
   "cell_type": "code",
   "execution_count": 10,
   "id": "38723cd6",
   "metadata": {},
   "outputs": [],
   "source": [
    "# 마커 아이콘 색상과 모양 설정\n",
    "def get_icon(category):\n",
    "    if category == \"병원\":\n",
    "        return folium.Icon(color=\"red\", icon=\"medkit\", prefix='fa')   # 십자가 느낌의 의료 아이콘\n",
    "    else:\n",
    "        return folium.Icon(color=\"green\", icon=\"pills\", prefix='fa')  # 알약 모양 아이콘"
   ]
  },
  {
   "cell_type": "code",
   "execution_count": null,
   "id": "712e6f38",
   "metadata": {},
   "outputs": [],
   "source": [
    "# 지도 생성 함수\n",
    "def create_maps_by_region(df, grouped, output_dir='캡스톤 법정동 지도'):\n",
    "    os.makedirs(output_dir, exist_ok=True)\n",
    "\n",
    "    for region, group in grouped:\n",
    "        valid_group = group.dropna(subset=[\"wgs84Lat\", \"wgs84Lon\"])\n",
    "        if valid_group.empty:\n",
    "            continue\n",
    "\n",
    "        m = folium.Map(\n",
    "            location=[valid_group[\"wgs84Lat\"].mean(), valid_group[\"wgs84Lon\"].mean()],\n",
    "            zoom_start=13\n",
    "        )\n",
    "\n",
    "        # 병원/약국 각각 클러스터링 및 시각화\n",
    "        for category in ['병원', '약국']:\n",
    "            sub = valid_group[valid_group[\"구분\"] == category]\n",
    "            if sub.empty:\n",
    "                continue\n",
    "\n",
    "            coords = sub[[\"wgs84Lat\", \"wgs84Lon\"]].to_numpy()\n",
    "            kms_per_radian = 6371.0088\n",
    "            epsilon = 1.0 / kms_per_radian  # 1km\n",
    "\n",
    "            # DBSCAN으로 500m 내 클러스터 생성\n",
    "            db = DBSCAN(eps=epsilon, min_samples=2, algorithm='ball_tree', metric='haversine').fit(np.radians(coords))\n",
    "            sub[\"cluster\"] = db.labels_\n",
    "\n",
    "            for cluster_id in sub[\"cluster\"].unique():\n",
    "                cluster_points = sub[sub[\"cluster\"] == cluster_id]\n",
    "                cluster_coords = cluster_points[[\"wgs84Lat\", \"wgs84Lon\"]].to_numpy()\n",
    "\n",
    "                # 중심 좌표 계산\n",
    "                center_lat = cluster_coords[:, 0].mean()\n",
    "                center_lon = cluster_coords[:, 1].mean()\n",
    "\n",
    "                # 중심점으로부터 최대 거리 계산\n",
    "                max_dist = max(great_circle((center_lat, center_lon), (lat, lon)).meters for lat, lon in cluster_coords)\n",
    "\n",
    "                # 반경은 최대 거리 + 여유(10km)\n",
    "                radius = max_dist + 10000\n",
    "\n",
    "                folium.Circle(\n",
    "                    location=(center_lat, center_lon),\n",
    "                    radius=radius,\n",
    "                    color='red' if category == '병원' else 'green',\n",
    "                    weight=2,\n",
    "                    fill=True,\n",
    "                    fill_color='red' if category == '병원' else 'green',\n",
    "                    fill_opacity=0.1\n",
    "                ).add_to(m)\n",
    "\n",
    "                # 마커 추가\n",
    "                for _, row in cluster_points.iterrows():\n",
    "                    folium.Marker(\n",
    "                        location=(row[\"wgs84Lat\"], row[\"wgs84Lon\"]),\n",
    "                        popup=folium.Popup(generate_popup(row), max_width=300),\n",
    "                        icon=get_icon(row[\"구분\"])\n",
    "                    ).add_to(m)\n",
    "\n",
    "        m.save(os.path.join(output_dir, f\"{region}.html\"))\n",
    "\n",
    "    zip_path = output_dir + \".zip\"\n",
    "    with zipfile.ZipFile(zip_path, 'w', zipfile.ZIP_DEFLATED) as zipf:\n",
    "        for file in os.listdir(output_dir):\n",
    "            file_path = os.path.join(output_dir, file)\n",
    "            zipf.write(file_path, arcname=file)"
   ]
  },
  {
   "cell_type": "code",
   "execution_count": 11,
   "id": "fb6440f5",
   "metadata": {},
   "outputs": [
    {
     "name": "stdout",
     "output_type": "stream",
     "text": [
      "현재 작업 디렉토리: C:\\Users\\hk522\\Desktop\n"
     ]
    }
   ],
   "source": [
    "os.chdir(r\"C:\\Users\\hk522\\Desktop\")\n",
    "print(\"현재 작업 디렉토리:\", os.getcwd())"
   ]
  },
  {
   "cell_type": "code",
   "execution_count": 9,
   "id": "ded0c1f8",
   "metadata": {},
   "outputs": [],
   "source": [
    "group1 = full_df.groupby(\"Jibun\")"
   ]
  },
  {
   "cell_type": "code",
   "execution_count": 13,
   "id": "297223f3",
   "metadata": {},
   "outputs": [],
   "source": [
    "def create_maps_combined(df, output_dir='캡스톤 대한민국 지도'):\n",
    "    os.makedirs(output_dir, exist_ok=True)\n",
    "\n",
    "    valid_group = df.dropna(subset=[\"wgs84Lat\", \"wgs84Lon\"])\n",
    "    if valid_group.empty:\n",
    "        return\n",
    "\n",
    "    # 대한민국 전체가 보이도록 초기 중심과 줌 설정\n",
    "    m = folium.Map(\n",
    "        location=[36.5, 127.5],\n",
    "        zoom_start=7\n",
    "    )\n",
    "\n",
    "    coords = valid_group[[\"wgs84Lat\", \"wgs84Lon\"]].to_numpy()\n",
    "    kms_per_radian = 6371.0088\n",
    "    epsilon = 0.5 / kms_per_radian  # 500m\n",
    "\n",
    "    # 병원과 약국 통합하여 클러스터링\n",
    "    db = DBSCAN(eps=epsilon, min_samples=2, algorithm='ball_tree', metric='haversine').fit(np.radians(coords))\n",
    "    valid_group[\"cluster\"] = db.labels_\n",
    "\n",
    "    for cluster_id in valid_group[\"cluster\"].unique():\n",
    "        cluster_points = valid_group[valid_group[\"cluster\"] == cluster_id]\n",
    "        cluster_coords = cluster_points[[\"wgs84Lat\", \"wgs84Lon\"]].to_numpy()\n",
    "\n",
    "        center_lat = cluster_coords[:, 0].mean()\n",
    "        center_lon = cluster_coords[:, 1].mean()\n",
    "\n",
    "        max_dist = max(great_circle((center_lat, center_lon), (lat, lon)).meters for lat, lon in cluster_coords)\n",
    "        radius = max_dist + 10000  # 10km 여유\n",
    "\n",
    "        folium.Circle(\n",
    "            location=(center_lat, center_lon),\n",
    "            radius=radius,\n",
    "            color='blue',\n",
    "            weight=2,\n",
    "            fill=True,\n",
    "            fill_color='blue',\n",
    "            fill_opacity=0.1\n",
    "        ).add_to(m)\n",
    "\n",
    "        for _, row in cluster_points.iterrows():\n",
    "            folium.Marker(\n",
    "                location=(row[\"wgs84Lat\"], row[\"wgs84Lon\"]),\n",
    "                popup=folium.Popup(generate_popup(row), max_width=300),\n",
    "                icon=get_icon(row[\"구분\"])\n",
    "            ).add_to(m)\n",
    "\n",
    "    m.save(os.path.join(output_dir, \"전체_지도.html\"))"
   ]
  },
  {
   "cell_type": "code",
   "execution_count": null,
   "id": "d39d750b",
   "metadata": {},
   "outputs": [
    {
     "name": "stderr",
     "output_type": "stream",
     "text": [
      "C:\\Users\\hk522\\AppData\\Local\\Temp\\ipykernel_16092\\3240229690.py:25: SettingWithCopyWarning: \n",
      "A value is trying to be set on a copy of a slice from a DataFrame.\n",
      "Try using .loc[row_indexer,col_indexer] = value instead\n",
      "\n",
      "See the caveats in the documentation: https://pandas.pydata.org/pandas-docs/stable/user_guide/indexing.html#returning-a-view-versus-a-copy\n",
      "  sub[\"cluster\"] = db.labels_\n",
      "C:\\Users\\hk522\\AppData\\Local\\Temp\\ipykernel_16092\\3240229690.py:25: SettingWithCopyWarning: \n",
      "A value is trying to be set on a copy of a slice from a DataFrame.\n",
      "Try using .loc[row_indexer,col_indexer] = value instead\n",
      "\n",
      "See the caveats in the documentation: https://pandas.pydata.org/pandas-docs/stable/user_guide/indexing.html#returning-a-view-versus-a-copy\n",
      "  sub[\"cluster\"] = db.labels_\n"
     ]
    }
   ],
   "source": [
    "create_maps_for_all(full_df)"
   ]
  },
  {
   "cell_type": "code",
   "execution_count": null,
   "id": "cc208feb",
   "metadata": {},
   "outputs": [],
   "source": [
    "create_maps_by_region(full_df, group1)"
   ]
  },
  {
   "cell_type": "code",
   "execution_count": null,
   "id": "b86e525c",
   "metadata": {},
   "outputs": [],
   "source": [
    "create_maps_by_region(full_df, group2, output_dir='캡스톤 시군구 지도')"
   ]
  }
 ],
 "metadata": {
  "kernelspec": {
   "display_name": "base",
   "language": "python",
   "name": "python3"
  },
  "language_info": {
   "codemirror_mode": {
    "name": "ipython",
    "version": 3
   },
   "file_extension": ".py",
   "mimetype": "text/x-python",
   "name": "python",
   "nbconvert_exporter": "python",
   "pygments_lexer": "ipython3",
   "version": "3.11.7"
  }
 },
 "nbformat": 4,
 "nbformat_minor": 5
}
