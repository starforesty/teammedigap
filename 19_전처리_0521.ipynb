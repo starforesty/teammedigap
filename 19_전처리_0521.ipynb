{
 "cells": [
  {
   "cell_type": "code",
   "execution_count": 6,
   "id": "ba9d2f27",
   "metadata": {},
   "outputs": [
    {
     "name": "stdout",
     "output_type": "stream",
     "text": [
      "Requirement already satisfied: geopandas in c:\\users\\qqq\\anaconda3\\lib\\site-packages (1.0.1)\n",
      "Requirement already satisfied: shapely>=2.0.0 in c:\\users\\qqq\\anaconda3\\lib\\site-packages (from geopandas) (2.0.7)\n",
      "Requirement already satisfied: pyproj>=3.3.0 in c:\\users\\qqq\\anaconda3\\lib\\site-packages (from geopandas) (3.6.1)\n",
      "Requirement already satisfied: pyogrio>=0.7.2 in c:\\users\\qqq\\anaconda3\\lib\\site-packages (from geopandas) (0.11.0)\n",
      "Requirement already satisfied: packaging in c:\\users\\qqq\\anaconda3\\lib\\site-packages (from geopandas) (21.3)\n",
      "Requirement already satisfied: numpy>=1.22 in c:\\users\\qqq\\anaconda3\\lib\\site-packages (from geopandas) (2.0.2)\n",
      "Requirement already satisfied: pandas>=1.4.0 in c:\\users\\qqq\\anaconda3\\lib\\site-packages (from geopandas) (1.4.2)\n",
      "Requirement already satisfied: pytz>=2020.1 in c:\\users\\qqq\\anaconda3\\lib\\site-packages (from pandas>=1.4.0->geopandas) (2021.3)\n",
      "Requirement already satisfied: python-dateutil>=2.8.1 in c:\\users\\qqq\\anaconda3\\lib\\site-packages (from pandas>=1.4.0->geopandas) (2.8.2)\n",
      "Requirement already satisfied: certifi in c:\\users\\qqq\\anaconda3\\lib\\site-packages (from pyogrio>=0.7.2->geopandas) (2021.10.8)\n",
      "Requirement already satisfied: six>=1.5 in c:\\users\\qqq\\anaconda3\\lib\\site-packages (from python-dateutil>=2.8.1->pandas>=1.4.0->geopandas) (1.16.0)\n",
      "Requirement already satisfied: pyparsing!=3.0.5,>=2.0.2 in c:\\users\\qqq\\anaconda3\\lib\\site-packages (from packaging->geopandas) (3.0.4)\n"
     ]
    }
   ],
   "source": [
    "import numpy as np\n",
    "import pandas as pd\n",
    "import re\n",
    "import json\n",
    "import requests\n",
    "import time\n",
    "import xml.etree.ElementTree as ET\n",
    "#!pip install folium\n",
    "import folium\n",
    "import os\n",
    "import zipfile\n",
    "from sklearn.cluster import DBSCAN\n",
    "#!pip install geopy\n",
    "from geopy.distance import great_circle\n",
    "#!pip install shapely\n",
    "from shapely.geometry import Point\n",
    "!pip install geopandas\n",
    "import geopandas as gpd\n",
    "import glob\n",
    "import branca.colormap as cm\n",
    "import random\n",
    "from folium.features import GeoJsonTooltip, GeoJsonPopup"
   ]
  },
  {
   "cell_type": "markdown",
   "id": "42c16ba1-1eab-4ca2-91d1-7e91039e2d4a",
   "metadata": {
    "jp-MarkdownHeadingCollapsed": true
   },
   "source": [
    "## 1. API 불러오기_1번만 작동"
   ]
  },
  {
   "cell_type": "code",
   "execution_count": 2,
   "id": "8450b3c8-c54e-4a11-9db8-2b2f41de040e",
   "metadata": {},
   "outputs": [],
   "source": [
    "# 국립중앙의료원_전국 병·의원 찾기 서비스 인증키 불러오기\n",
    "url_H = 'http://apis.data.go.kr/B552657/HsptlAsembySearchService/getHsptlMdcncFullDown'\n",
    "api_H = 'SOecclsdpfuvGmi+5d/vkz3M5XiRZEpLLLAm6oeRb4lI6TJSEsmP4nOvH6DfEznSzCw8o3+Ktedgq18jQIGUmg=='\n",
    "\n",
    "# 국립중앙의료원_전국 약국 정보 조회 서비스 인증키 불러오기\n",
    "url_M = \"http://apis.data.go.kr/B552657/ErmctInsttInfoInqireService/getParmacyFullDown\"\n",
    "api_M = 'SOecclsdpfuvGmi+5d/vkz3M5XiRZEpLLLAm6oeRb4lI6TJSEsmP4nOvH6DfEznSzCw8o3+Ktedgq18jQIGUmg=='"
   ]
  },
  {
   "cell_type": "code",
   "execution_count": 3,
   "id": "c1946580-4ad4-45c5-b3f2-b6bffc4aebac",
   "metadata": {},
   "outputs": [],
   "source": [
    "# API에서 totalCount를 자동으로 가져와 전체 데이터를 수집\n",
    "def fetch_all_data(api_url, api_key, num_of_rows=100, delay=0.05):  # 50ms 대기\n",
    "\n",
    "    # totalCount 가져오기\n",
    "    params = {\n",
    "        'ServiceKey': api_key,\n",
    "        'pageNo': '1',\n",
    "        'numOfRows': '1'  # 한 개만 요청하여 totalCount 확인\n",
    "    }\n",
    "    response = requests.get(api_url, params=params)\n",
    "    \n",
    "    if response.status_code == 200:\n",
    "        root = ET.fromstring(response.content)\n",
    "        total_count_elem = root.find(\".//totalCount\")\n",
    "        total_count = int(total_count_elem.text) if total_count_elem is not None else 0\n",
    "    else:\n",
    "        print(f\"totalCount 가져오기 실패: 상태 코드 {response.status_code}\")\n",
    "        return []\n",
    "    \n",
    "    all_responses = []\n",
    "    total_pages = (total_count // num_of_rows) + (1 if total_count % num_of_rows else 0)\n",
    "\n",
    "    for page in range(1, total_pages + 1):\n",
    "        params = {\n",
    "            'ServiceKey': api_key,\n",
    "            'pageNo': str(page),\n",
    "            'numOfRows': str(num_of_rows)\n",
    "        }\n",
    "        response = requests.get(api_url, params=params)\n",
    "\n",
    "        if response.status_code == 200:\n",
    "            all_responses.append(response.content)\n",
    "        else:\n",
    "            print(f\"페이지 {page} 요청 실패: 상태 코드 {response.status_code}\")\n",
    "\n",
    "        time.sleep(delay)  # 50ms 대기 (30TPS 제한 맞추기)\n",
    "\n",
    "    return all_responses\n",
    "\n",
    "# fetch_all_data()로 가져온 XML 데이터를 DataFrame으로 변환\n",
    "def convert_xml_to_dataframe(xml_data_list):\n",
    "    \n",
    "    parsed_data = []\n",
    "\n",
    "    for xml_data in xml_data_list:\n",
    "        root = ET.fromstring(xml_data)\n",
    "\n",
    "        for item in root.findall(\".//item\"):\n",
    "            data = {child.tag: child.text for child in item}\n",
    "            parsed_data.append(data)\n",
    "\n",
    "    return pd.DataFrame(parsed_data) if parsed_data else None"
   ]
  },
  {
   "cell_type": "code",
   "execution_count": 4,
   "id": "cb2fb53b-95f4-4276-acb4-7e2732242dbe",
   "metadata": {},
   "outputs": [],
   "source": [
    "# fetach_all_data() 적용\n",
    "response_H = fetch_all_data(url_H, api_H)\n",
    "response_M = fetch_all_data(url_M, api_M)\n",
    "\n",
    "# convert_xml_to_dataframe() 적용\n",
    "df_H = convert_xml_to_dataframe(response_H)\n",
    "df_M = convert_xml_to_dataframe(response_M)\n",
    "\n",
    "# 엑셀 파일로 추출\n",
    "df_H.to_excel(\"C:/Users/lglg/OneDrive/캡스톤/병원 풀데이터.xlsx\", index=False)\n",
    "df_M.to_excel(\"C:/Users/lglg/OneDrive/캡스톤/약국 풀데이터.xlsx\", index=False)"
   ]
  },
  {
   "cell_type": "markdown",
   "id": "24433f2c",
   "metadata": {},
   "source": [
    "## 2. 병원 데이터 전처리"
   ]
  },
  {
   "cell_type": "code",
   "execution_count": 2,
   "id": "248ccdcb",
   "metadata": {},
   "outputs": [
    {
     "name": "stdout",
     "output_type": "stream",
     "text": [
      "(77707, 34)\n"
     ]
    }
   ],
   "source": [
    "# 병원 풀데이터 불러오기\n",
    "hos = pd.read_excel(\"C:/Users/lglg/OneDrive/캡스톤/병원 풀데이터.xlsx\")\n",
    "#hos = pd.read_excel(\"C:/Users/Admin/OneDrive/캡스톤/병원 풀데이터.xlsx\")\n",
    "\n",
    "# 데이터프레임 형태로 변경\n",
    "hos_df = pd.DataFrame(hos)\n",
    "print(hos_df.shape)"
   ]
  },
  {
   "cell_type": "code",
   "execution_count": 3,
   "id": "8be30c67",
   "metadata": {},
   "outputs": [
    {
     "name": "stdout",
     "output_type": "stream",
     "text": [
      "dutyAddr      0\n",
      "dutyDiv       0\n",
      "dutyDivNam    0\n",
      "wgs84Lat      0\n",
      "wgs84Lon      0\n",
      "dtype: int64\n"
     ]
    }
   ],
   "source": [
    "# 병원 풀데이터에서 필요 없는 변수제거\n",
    "drop_cols = ['dutyEmcls', 'dutyEmclsName', 'dutyEryn', 'dutyInf', 'dutyMapimg',\n",
    "             'dutyName', 'dutyTel1', 'dutyTime1c', 'dutyTime1s', 'dutyTime2c',\n",
    "             'dutyTime2s', 'dutyTime3c', 'dutyTime3s', 'dutyTime4c', 'dutyTime4s',\n",
    "             'dutyTime5c', 'dutyTime5s', 'hpid', 'postCdn1', 'postCdn2',\n",
    "             'rnum', 'dutyTime6c', 'dutyTime6s', 'dutyTime7c', 'dutyTime7s',\n",
    "             'dutyTime8c', 'dutyTime8s', 'dutyEtc', 'dutyTel3']\n",
    "\n",
    "# 필요한 컬럼만 추려서 삭제\n",
    "drop_cols_exist = [col for col in drop_cols if col in hos_df.columns]\n",
    "hos_df = hos_df.drop(columns=drop_cols_exist)\n",
    "\n",
    "# 각 변수 결측값 개수 확인\n",
    "print(hos_df.isnull().sum())"
   ]
  },
  {
   "cell_type": "code",
   "execution_count": 4,
   "id": "8500af1f",
   "metadata": {},
   "outputs": [],
   "source": [
    "# 'dutyAddr' 열의 이름을 'Jibun'으로 변경\n",
    "hos_df.rename(columns={'dutyAddr': 'Jibun'}, inplace=True)"
   ]
  },
  {
   "cell_type": "markdown",
   "id": "02d6215d",
   "metadata": {},
   "source": [
    "### 시도 매핑"
   ]
  },
  {
   "cell_type": "code",
   "execution_count": 5,
   "id": "2d60c49f",
   "metadata": {},
   "outputs": [
    {
     "name": "stdout",
     "output_type": "stream",
     "text": [
      "Jibun         0\n",
      "Sido          0\n",
      "dutyDiv       0\n",
      "dutyDivNam    0\n",
      "wgs84Lat      0\n",
      "wgs84Lon      0\n",
      "dtype: int64\n"
     ]
    }
   ],
   "source": [
    "# hos_df 복사\n",
    "hos_df_sido = hos_df.copy()\n",
    "\n",
    "# 시도 매핑 딕셔너리\n",
    "sido_mapping = {\n",
    "    '서울': '서울특별시', '부산': '부산광역시', '대구': '대구광역시',\n",
    "    '인천': '인천광역시', '광주': '광주광역시', '대전': '대전광역시',\n",
    "    '울산': '울산광역시', '세종': '세종특별자치시', '경기': '경기도',\n",
    "    '강원': '강원특별자치도', '충북': '충청북도', '충남': '충청남도',\n",
    "    '전북': '전북특별자치도', '전남': '전라남도', '경북': '경상북도',\n",
    "    '경남': '경상남도', '제주': '제주특별자치도', '전라북도': '전북특별자치도'\n",
    "}\n",
    "\n",
    "# 시도 추출 사용자 정의 함수 생성\n",
    "def extract_sido(addr):\n",
    "    if pd.isnull(addr):\n",
    "        return None\n",
    "\n",
    "    # 전체 시도명(풀네임)을 먼저 확인\n",
    "    for full_sido in sido_mapping.values():\n",
    "        if addr.startswith(full_sido):\n",
    "            return full_sido\n",
    "\n",
    "    # 시도 약어 매핑\n",
    "    for short, full in sido_mapping.items():\n",
    "        if addr.startswith(short):\n",
    "            return full\n",
    "\n",
    "    return None  # 매칭되지 않는 경우\n",
    "\n",
    "# 위치 정의 함수 생성\n",
    "def move_column_after(df, target_col, after_col):\n",
    "\n",
    "    cols = df.columns.tolist()\n",
    "\n",
    "    if target_col not in cols or after_col not in cols:\n",
    "        raise ValueError(f\"'{target_col}' 또는 '{after_col}' 컬럼이 존재하지 않습니다.\")\n",
    "\n",
    "    cols.remove(target_col)\n",
    "    idx = cols.index(after_col)\n",
    "    cols.insert(idx + 1, target_col)\n",
    "    return df[cols]\n",
    "\n",
    "# 'Jibun'에서 'Sido' 추출\n",
    "hos_df_sido['Sido'] = hos_df_sido['Jibun'].apply(extract_sido)\n",
    "\n",
    "# 'Sido'를 'Jibun' 다음으로 이동\n",
    "hos_df_sido = move_column_after(hos_df_sido, 'Sido', 'Jibun')\n",
    "\n",
    "# 각 변수 결측값 개수 확인\n",
    "print(hos_df_sido.isnull().sum())"
   ]
  },
  {
   "cell_type": "code",
   "execution_count": 6,
   "id": "a74fbbcf-2bd5-4d05-979b-1004c15fdce7",
   "metadata": {},
   "outputs": [
    {
     "name": "stdout",
     "output_type": "stream",
     "text": [
      "['강원특별자치도', '경기도', '경상남도', '경상북도', '광주광역시', '대구광역시', '대전광역시', '부산광역시', '서울특별시', '세종특별자치시', '울산광역시', '인천광역시', '전라남도', '전북특별자치도', '제주특별자치도', '충청남도', '충청북도']\n"
     ]
    }
   ],
   "source": [
    "sido_list = hos_df_sido['Sido'].dropna().unique().tolist()\n",
    "print(sorted(sido_list))"
   ]
  },
  {
   "cell_type": "markdown",
   "id": "42743b25",
   "metadata": {},
   "source": [
    "### 시군구 매핑"
   ]
  },
  {
   "cell_type": "code",
   "execution_count": 7,
   "id": "9fc64e80-7266-4d60-944d-d66d438ba775",
   "metadata": {},
   "outputs": [
    {
     "name": "stdout",
     "output_type": "stream",
     "text": [
      "8\n"
     ]
    }
   ],
   "source": [
    "# 전국 법정동 파일 불러오기\n",
    "all_df = pd.read_csv(\"C:/Users/lglg/OneDrive/캡스톤/국토교통부_전국 법정동_20250415.csv\",encoding='utf-8')\n",
    "sigungu_list = all_df['시군구명'].dropna().unique().tolist()\n",
    "\n",
    "# 시군구 추출 함수 정의\n",
    "def extract_sigungu(addr, sigungu_list):\n",
    "    if pd.isnull(addr):\n",
    "        return None\n",
    "    words = re.findall(r'\\w+', addr)  # 단어 단위 추출\n",
    "    for word in words:\n",
    "        word = re.sub(r'[^\\w가-힣]', '', word)  # 특수문자 제거\n",
    "        if word in sigungu_list:\n",
    "            return word\n",
    "    return None\n",
    "\n",
    "# hos_df_sido 복사\n",
    "hos_df_sigungu = hos_df_sido.copy()\n",
    "\n",
    "# 데이터프레임에서 'Jibun' 열을 기준으로 시군구 추출\n",
    "hos_df_sigungu['Sigungu'] = hos_df_sigungu['Jibun'].apply(lambda x: extract_sigungu(x, sigungu_list))\n",
    "\n",
    "# 'Sigungu'를 'Sido' 다음으로 이동\n",
    "hos_df_sigungu = move_column_after(hos_df_sigungu, 'Sigungu', 'Sido')\n",
    "\n",
    "# 'Sigungu'가 결측이고 'Sido'가 '세종특별자치시'인 행만 선택하여 보완\n",
    "mask = (hos_df_sigungu['Sigungu'].isnull()) & (hos_df_sigungu['Sido'] == '세종특별자치시')\n",
    "hos_df_sigungu.loc[mask, 'Sigungu'] = '세종시'\n",
    "\n",
    "# 결과 확인\n",
    "print(hos_df_sigungu['Sigungu'].isnull().sum())"
   ]
  },
  {
   "cell_type": "code",
   "execution_count": 8,
   "id": "42bc7ed9-75fb-4dcb-b22a-d112786b5c96",
   "metadata": {},
   "outputs": [
    {
     "name": "stdout",
     "output_type": "stream",
     "text": [
      "16777               경기도 금빛로 24-22 (굿닥터스빌딩 5층)\n",
      "20152    부산광역시 신암로 34, 108동 202호 (범천경남아파트 상가)\n",
      "21317                          부산광역시 중앙대로 786\n",
      "44307            강원특별자치도  금강로 72, 3,5층 (흥만빌딩)\n",
      "52374             경기도 하이파크3로 84, 503호 (신성프라자)\n",
      "52542                 경기도 금빛로 27 (광장프라자 403호)\n",
      "52978                 경기도 중앙로 46 (판타지아 빌딩 4층)\n",
      "56893          대전광역시  진잠로 164 (지하1층, 지상2층~7층)\n",
      "Name: Jibun, dtype: object\n"
     ]
    }
   ],
   "source": [
    "# 병원 데이터의 결측값 확인해보기\n",
    "a = hos_df_sigungu[hos_df_sigungu['Sigungu'].isnull()]\n",
    "print(a['Jibun'].head(10))"
   ]
  },
  {
   "cell_type": "code",
   "execution_count": 9,
   "id": "bf4d9fd3-7bc9-4416-b22c-11d62d8253e6",
   "metadata": {},
   "outputs": [
    {
     "name": "stdout",
     "output_type": "stream",
     "text": [
      "0\n"
     ]
    }
   ],
   "source": [
    "# 시군구가 결측인 행만 추출\n",
    "missing_sigungu_df = hos_df_sigungu[hos_df_sigungu['Sigungu'].isnull()].copy()\n",
    "\n",
    "# 카카오 Map에서 발급받은 REST API KEY\n",
    "KAKAO_API_KEY = \"9c32bb7527635581ea8a635372d899e1\"\n",
    "\n",
    "# 역지오코딩: 위경도 → 주소\n",
    "def reverse_geocode(lat, lon, api_key):\n",
    "    url = \"https://dapi.kakao.com/v2/local/geo/coord2address.json\"\n",
    "    headers = {\"Authorization\": f\"KakaoAK {api_key}\"}\n",
    "    params = {\"x\": lon, \"y\": lat}\n",
    "    try:\n",
    "        res = requests.get(url, headers=headers, params=params)\n",
    "        res.raise_for_status()\n",
    "        result = res.json()\n",
    "        return result['documents'][0]['address']['address_name']\n",
    "    except:\n",
    "        return None\n",
    "\n",
    "# 위경도로부터 주소 추출\n",
    "missing_sigungu_df['역지오코딩_주소'] = missing_sigungu_df.apply(\n",
    "    lambda row: reverse_geocode(row['wgs84Lat'], row['wgs84Lon'], KAKAO_API_KEY),\n",
    "    axis=1\n",
    ")\n",
    "\n",
    "# 역지오코딩된 주소로부터 시군구 재추출\n",
    "missing_sigungu_df['시군구_보완'] = missing_sigungu_df['역지오코딩_주소'].apply(\n",
    "    lambda x: extract_sigungu(x, sigungu_list)\n",
    ")\n",
    "\n",
    "# index 기준으로 원본에 시군구 보완 적용\n",
    "hos_df_sigungu.loc[missing_sigungu_df.index, 'Sigungu'] = missing_sigungu_df['시군구_보완']\n",
    "\n",
    "# 최종 결측값 확인\n",
    "print(hos_df_sigungu['Sigungu'].isnull().sum())"
   ]
  },
  {
   "cell_type": "markdown",
   "id": "85c7d791",
   "metadata": {},
   "source": [
    "#### 시도는 다르지만 시군구 명이 같을때"
   ]
  },
  {
   "cell_type": "code",
   "execution_count": 10,
   "id": "03cbd470",
   "metadata": {},
   "outputs": [
    {
     "name": "stdout",
     "output_type": "stream",
     "text": [
      "Jibun         0\n",
      "Sido          0\n",
      "Sigungu       0\n",
      "dutyDiv       0\n",
      "dutyDivNam    0\n",
      "wgs84Lat      0\n",
      "wgs84Lon      0\n",
      "dtype: int64\n"
     ]
    }
   ],
   "source": [
    "# hos_df_sigungu 복사\n",
    "hos_df_sigungu_1 = hos_df_sigungu.copy()\n",
    "\n",
    "# 시도 축약 매핑 정의\n",
    "sido_abbr = {\n",
    "    '서울특별시': '서울', '부산광역시': '부산', '대구광역시': '대구',\n",
    "    '인천광역시': '인천', '광주광역시': '광주', '대전광역시': '대전',\n",
    "    '울산광역시': '울산', '세종특별자치시': '세종', '경기도': '경기',\n",
    "    '강원특별자치도': '강원', '충청북도': '충북', '충청남도': '충남',\n",
    "    '전북특별자치도': '전북', '전라남도': '전남', '경상북도': '경북',\n",
    "    '경상남도': '경남', '제주특별자치도': '제주'\n",
    "}\n",
    "\n",
    "# 시군구별 중복 확인 (시군구만 기준으로)\n",
    "duplicate_sgg = hos_df_sigungu_1.groupby('Sigungu')['Sido'].nunique()\n",
    "duplicated_sgg_names = duplicate_sgg[duplicate_sgg > 1].index.tolist()\n",
    "\n",
    "# 시군구 보완 함수 정의\n",
    "def revise_sigungu(row):\n",
    "    if pd.isnull(row['Sido']) or pd.isnull(row['Sigungu']):\n",
    "        return row['Sigungu']\n",
    "    \n",
    "    # 중복되는 시군구 이름만 보완\n",
    "    if row['Sigungu'] in duplicated_sgg_names:\n",
    "        short_sido = sido_abbr.get(row['Sido'], row['Sido'])\n",
    "        return f\"{short_sido} {row['Sigungu']}\"\n",
    "    else:\n",
    "        return row['Sigungu']\n",
    "\n",
    "# 적용\n",
    "hos_df_sigungu_1['Sigungu'] = hos_df_sigungu_1.apply(revise_sigungu, axis=1)\n",
    "\n",
    "# 결과 확인\n",
    "print(hos_df_sigungu_1.isnull().sum())"
   ]
  },
  {
   "cell_type": "markdown",
   "id": "626650ca",
   "metadata": {},
   "source": [
    "### 읍면동 매핑"
   ]
  },
  {
   "cell_type": "code",
   "execution_count": 11,
   "id": "3cdf4910",
   "metadata": {},
   "outputs": [
    {
     "name": "stdout",
     "output_type": "stream",
     "text": [
      "1081\n"
     ]
    }
   ],
   "source": [
    "# hos_df_sigungu_1 복사\n",
    "hos_df_eupmywondong = hos_df_sigungu_1.copy()\n",
    "\n",
    "eup_list = all_df['읍면동명'].dropna().unique().tolist()\n",
    "\n",
    "# 주소에서 읍면동 추출 함수\n",
    "def extract_eupmyeondong(addr, eup_list):\n",
    "    if pd.isnull(addr):\n",
    "        return None\n",
    "    words = re.findall(r'\\w+', addr)\n",
    "    for word in words:\n",
    "        word = re.sub(r'[^\\w가-힣]', '', word)\n",
    "        if word in eup_list:\n",
    "            return word\n",
    "    return None\n",
    "\n",
    "# 'Jibun'에서 'Eupmywondong' 추출\n",
    "hos_df_eupmywondong['Eupmywondong'] = hos_df_eupmywondong['Jibun'].apply(lambda x: extract_eupmyeondong(x, eup_list))\n",
    "\n",
    "# 'Eupmywondong'을 'Sigungu' 다음으로 이동\n",
    "hos_df_eupmywondong = move_column_after(hos_df_eupmywondong, 'Eupmywondong', 'Sigungu')\n",
    "\n",
    "# 결과 확인\n",
    "print(hos_df_eupmywondong['Eupmywondong'].isnull().sum())"
   ]
  },
  {
   "cell_type": "code",
   "execution_count": 12,
   "id": "2c4d9213",
   "metadata": {},
   "outputs": [
    {
     "name": "stdout",
     "output_type": "stream",
     "text": [
      "0\n"
     ]
    }
   ],
   "source": [
    "# 읍면동 결측 대상만 추출\n",
    "missing_eup_df = hos_df_eupmywondong[\n",
    "    hos_df_eupmywondong['Eupmywondong'].isnull() & \n",
    "    hos_df_eupmywondong['wgs84Lat'].notnull() & \n",
    "    hos_df_eupmywondong['wgs84Lon'].notnull()\n",
    "].copy()\n",
    "\n",
    "#역지오코딩 주소 가져오기\n",
    "missing_eup_df['역지오코딩_주소'] = missing_eup_df.apply(\n",
    "    lambda row: reverse_geocode(row['wgs84Lat'], row['wgs84Lon'], KAKAO_API_KEY),\n",
    "    axis=1\n",
    ")\n",
    "\n",
    "# 역지오코딩된 주소로부터 읍면동 보완 (eup_list 함께 넘기기)\n",
    "missing_eup_df['읍면동_보완'] = missing_eup_df['역지오코딩_주소'].apply(lambda x: extract_eupmyeondong(x, eup_list))\n",
    "\n",
    "# 원본 hos_df에 읍면동 보완 업데이트\n",
    "hos_df_eupmywondong.loc[missing_eup_df.index, 'Eupmywondong'] = missing_eup_df['읍면동_보완']\n",
    "\n",
    "# 결과 확인\n",
    "print(hos_df_eupmywondong['Eupmywondong'].isnull().sum())"
   ]
  },
  {
   "cell_type": "markdown",
   "id": "3f80799e-0020-4826-a40d-f551c7bbfa3f",
   "metadata": {},
   "source": [
    "### Hang = Sido + Sigungu + Eupmywondong"
   ]
  },
  {
   "cell_type": "code",
   "execution_count": 13,
   "id": "ad1ed5b3-7be1-4a2e-aeff-6f9380a0f372",
   "metadata": {},
   "outputs": [],
   "source": [
    "# hos_df_eupmywondong 복사\n",
    "hos_df_hang = hos_df_eupmywondong.copy()\n",
    "\n",
    "# Sido, Sigungu, Eupmywondong을 혼합한 Hang 변수 생성 함수 정의\n",
    "def update_hang(df, sido_col='Sido', sigungu_col='Sigungu', eup_col='Eupmywondong', hang_col='Hang'):\n",
    "    df[hang_col] = df[sido_col].fillna('') + ' ' + df[sigungu_col].fillna('') + ' ' + df[eup_col].fillna('')\n",
    "    df[hang_col] = df[hang_col].str.replace(r'\\s+', ' ', regex=True).str.strip()\n",
    "    return df\n",
    "\n",
    "# 적용\n",
    "hos_df_hang = update_hang(hos_df_hang)\n",
    "\n",
    "# 'Hang'을 'Jibun' 다음으로 이동\n",
    "hos_df_hang = move_column_after(hos_df_hang, 'Hang', 'Jibun')"
   ]
  },
  {
   "cell_type": "markdown",
   "id": "4cb30026",
   "metadata": {
    "jp-MarkdownHeadingCollapsed": true
   },
   "source": [
    "## 3. 약국 데이터 전처리"
   ]
  },
  {
   "cell_type": "code",
   "execution_count": 14,
   "id": "55732d2f",
   "metadata": {},
   "outputs": [
    {
     "name": "stdout",
     "output_type": "stream",
     "text": [
      "(24938, 29)\n"
     ]
    }
   ],
   "source": [
    "# 약국 풀데이터 불러오기\n",
    "ph = pd.read_excel(\"C:/Users/lglg/OneDrive/캡스톤/약국 풀데이터.xlsx\")\n",
    "#ph = pd.read_excel(\"C:/Users/Admin/OneDrive/캡스톤/약국 풀데이터.xlsx\")\n",
    "\n",
    "# 데이터프레임 형태로 변경\n",
    "ph_df = pd.DataFrame(ph)\n",
    "print(ph_df.shape)"
   ]
  },
  {
   "cell_type": "code",
   "execution_count": 15,
   "id": "3e38ea38",
   "metadata": {},
   "outputs": [
    {
     "name": "stdout",
     "output_type": "stream",
     "text": [
      "dutyAddr    0\n",
      "wgs84Lat    0\n",
      "wgs84Lon    0\n",
      "dtype: int64\n"
     ]
    }
   ],
   "source": [
    "# 약국 풀데이터에서 필요 없는 변수제거\n",
    "drop_cols = ['dutyEtc', 'dutyName', 'dutyFax', 'dutyInf', 'dutyMapimg','dutyTel1', \n",
    "             'dutyTime1c','dutyTime2c','dutyTime3c','dutyTime4c','dutyTime5c','dutyTime6c','dutyTime7c','dutyTime8c',\n",
    "             'dutyTime1s','dutyTime2s','dutyTime3s','dutyTime4s','dutyTime5s','dutyTime6s','dutyTime7s','dutyTime8s',\n",
    "             'rnum','hpid','postCdn1','postCdn2']\n",
    "\n",
    "# 필요한 컬럼만 추려서 삭제\n",
    "drop_cols_exist = [col for col in drop_cols if col in ph_df.columns]\n",
    "ph_df = ph_df.drop(columns=drop_cols_exist)\n",
    "\n",
    "# 각 변수 결측값 개수 확인\n",
    "print(ph_df.isnull().sum())"
   ]
  },
  {
   "cell_type": "code",
   "execution_count": 16,
   "id": "b9e9391d-c58e-48a2-87ed-b88b5100fd49",
   "metadata": {},
   "outputs": [],
   "source": [
    "# 'dutyAddr' 열의 이름을 'Jibun'으로 변경\n",
    "ph_df.rename(columns={'dutyAddr': 'Jibun'}, inplace=True)"
   ]
  },
  {
   "cell_type": "markdown",
   "id": "bb7fec6b-4913-4f87-9ed4-6da88440e057",
   "metadata": {},
   "source": [
    "### 시도 매핑"
   ]
  },
  {
   "cell_type": "code",
   "execution_count": 17,
   "id": "29f198d4-d087-40b0-9cd5-117695f9ee4b",
   "metadata": {},
   "outputs": [
    {
     "name": "stdout",
     "output_type": "stream",
     "text": [
      "Jibun       0\n",
      "Sido        0\n",
      "wgs84Lat    0\n",
      "wgs84Lon    0\n",
      "dtype: int64\n"
     ]
    }
   ],
   "source": [
    "# ph_df 복사\n",
    "ph_df_sido = ph_df.copy()\n",
    "\n",
    "# 열 순서 재배치: 'Jibun' 다음에 'Sido'가 오도록\n",
    "ph_df_sido['Sido'] = ph_df_sido['Jibun'].apply(extract_sido)\n",
    "\n",
    "# 'Sido'를 'Jibun' 다음으로 이동\n",
    "ph_df_sido = move_column_after(ph_df_sido, 'Sido', 'Jibun')\n",
    "\n",
    "# 각 변수 결측값 개수 확인\n",
    "print(ph_df_sido.isnull().sum())"
   ]
  },
  {
   "cell_type": "code",
   "execution_count": 18,
   "id": "bffd483f-e551-4178-90ed-f46be1107211",
   "metadata": {},
   "outputs": [
    {
     "name": "stdout",
     "output_type": "stream",
     "text": [
      "['강원특별자치도', '경기도', '경상남도', '경상북도', '광주광역시', '대구광역시', '대전광역시', '부산광역시', '서울특별시', '세종특별자치시', '울산광역시', '인천광역시', '전라남도', '전북특별자치도', '제주특별자치도', '충청남도', '충청북도']\n"
     ]
    }
   ],
   "source": [
    "# 시도 리스트 확인학\n",
    "sido_list = ph_df_sido['Sido'].dropna().unique().tolist()\n",
    "print(sorted(sido_list))"
   ]
  },
  {
   "cell_type": "markdown",
   "id": "7808f61e-d930-4fb1-9b11-a8cef59ff990",
   "metadata": {},
   "source": [
    "### 시군구 매핑"
   ]
  },
  {
   "cell_type": "code",
   "execution_count": 19,
   "id": "3ad9785d-0c6b-4918-bdc5-949e225288a8",
   "metadata": {},
   "outputs": [
    {
     "name": "stdout",
     "output_type": "stream",
     "text": [
      "0\n"
     ]
    }
   ],
   "source": [
    "# ph_df_sido 복사\n",
    "ph_df_sigungu = ph_df_sido.copy()\n",
    "\n",
    "# 데이터프레임에서 'Jibun' 열을 기준으로 시군구 추출\n",
    "ph_df_sigungu['Sigungu'] = ph_df_sigungu['Jibun'].apply(lambda x: extract_sigungu(x, sigungu_list))\n",
    "\n",
    "# 'Sigungu'를 'Sido' 다음으로 이동\n",
    "ph_df_sigungu = move_column_after(ph_df_sigungu, 'Sigungu', 'Sido')\n",
    "\n",
    "# 'Sigungu'가 결측이고 'Sido'가 '세종특별자치시'인 행만 선택하여 보완\n",
    "mask = (ph_df_sigungu['Sigungu'].isnull()) & (ph_df_sigungu['Sido'] == '세종특별자치시')\n",
    "ph_df_sigungu.loc[mask, 'Sigungu'] = '세종시'\n",
    "\n",
    "# 결과 확인\n",
    "print(ph_df_sigungu['Sigungu'].isnull().sum())"
   ]
  },
  {
   "cell_type": "markdown",
   "id": "7aeed9ee-1f37-41de-80b6-50f0eb5d3b15",
   "metadata": {},
   "source": [
    "#### 시도는 다르지만 시군구 명이 같을 때"
   ]
  },
  {
   "cell_type": "code",
   "execution_count": 20,
   "id": "6766281e-03ec-45dd-bbbc-71187f4f16fc",
   "metadata": {},
   "outputs": [
    {
     "name": "stdout",
     "output_type": "stream",
     "text": [
      "Jibun       0\n",
      "Sido        0\n",
      "Sigungu     0\n",
      "wgs84Lat    0\n",
      "wgs84Lon    0\n",
      "dtype: int64\n"
     ]
    }
   ],
   "source": [
    "# ph_df_sigungu 복사\n",
    "ph_df_sigungu_1 = ph_df_sigungu.copy()\n",
    "\n",
    "# 시군구별 중복 확인 (시군구만 기준으로)\n",
    "duplicate_sgg = ph_df_sigungu_1.groupby('Sigungu')['Sido'].nunique()\n",
    "duplicated_sgg_names = duplicate_sgg[duplicate_sgg > 1].index.tolist()\n",
    "\n",
    "# 적용\n",
    "ph_df_sigungu_1['Sigungu'] = ph_df_sigungu_1.apply(revise_sigungu, axis=1)\n",
    "\n",
    "# 결과 확인\n",
    "print(ph_df_sigungu_1.isnull().sum())"
   ]
  },
  {
   "cell_type": "markdown",
   "id": "e50084c7-df8d-4bc8-99f8-9469a1897398",
   "metadata": {},
   "source": [
    "### 읍면동 매핑"
   ]
  },
  {
   "cell_type": "code",
   "execution_count": 21,
   "id": "64b29953-90a0-40b9-b34a-622874b8f9a9",
   "metadata": {},
   "outputs": [
    {
     "name": "stdout",
     "output_type": "stream",
     "text": [
      "2491\n"
     ]
    }
   ],
   "source": [
    "# ph_df_sigungu_1 복사\n",
    "ph_df_eupmywondong = ph_df_sigungu_1.copy()\n",
    "\n",
    "# 열 순서 재배치: 'Sigungu' 다음에 'Eupmywondong'이 오도록\n",
    "ph_df_eupmywondong['Eupmywondong'] = ph_df_eupmywondong['Jibun'].apply(lambda x: extract_eupmyeondong(x, eup_list))\n",
    "\n",
    "# 'Eupmywondong'을 'Sigungu' 다음으로 이동\n",
    "ph_df_eupmywondong = move_column_after(ph_df_eupmywondong, 'Eupmywondong', 'Sigungu')\n",
    "\n",
    "# 결과 확인\n",
    "print(ph_df_eupmywondong['Eupmywondong'].isnull().sum())"
   ]
  },
  {
   "cell_type": "code",
   "execution_count": 22,
   "id": "61120b64-5a3c-407e-8546-037763695d3d",
   "metadata": {},
   "outputs": [
    {
     "name": "stdout",
     "output_type": "stream",
     "text": [
      "0\n"
     ]
    }
   ],
   "source": [
    "# 읍면동 결측 대상만 추출\n",
    "missing_eup_df = ph_df_eupmywondong[\n",
    "    ph_df_eupmywondong['Eupmywondong'].isnull() & \n",
    "    ph_df_eupmywondong['wgs84Lat'].notnull() & \n",
    "    ph_df_eupmywondong['wgs84Lon'].notnull()\n",
    "].copy()\n",
    "\n",
    "#역지오코딩 주소 가져오기\n",
    "missing_eup_df['역지오코딩_주소'] = missing_eup_df.apply(\n",
    "    lambda row: reverse_geocode(row['wgs84Lat'], row['wgs84Lon'], KAKAO_API_KEY),\n",
    "    axis=1\n",
    ")\n",
    "\n",
    "# 역지오코딩된 주소로부터 읍면동 보완 (eup_list 함께 넘기기)\n",
    "missing_eup_df['읍면동_보완'] = missing_eup_df['역지오코딩_주소'].apply(lambda x: extract_eupmyeondong(x, eup_list))\n",
    "\n",
    "# 원본 ph_df에 읍면동 보완 업데이트\n",
    "ph_df_eupmywondong.loc[missing_eup_df.index, 'Eupmywondong'] = missing_eup_df['읍면동_보완']\n",
    "\n",
    "# 결과 확인\n",
    "print(ph_df_eupmywondong['Eupmywondong'].isnull().sum())"
   ]
  },
  {
   "cell_type": "markdown",
   "id": "04ec9c43-724f-4f27-ba46-4a46b184e9e3",
   "metadata": {},
   "source": [
    "### Hang = Sido + Sigungu + Eupmywondong"
   ]
  },
  {
   "cell_type": "code",
   "execution_count": 23,
   "id": "a596376c-9dab-49a1-9af8-2341a96528bd",
   "metadata": {},
   "outputs": [],
   "source": [
    "# ph_df_eupmywondong 복사\n",
    "ph_df_hang = ph_df_eupmywondong.copy()\n",
    "\n",
    "# 적용\n",
    "ph_df_hang = update_hang(ph_df_hang)\n",
    "\n",
    "# 'Hang'을 'Jibun' 다음으로 이동\n",
    "ph_df_hang = move_column_after(ph_df_hang, 'Hang', 'Jibun')"
   ]
  },
  {
   "cell_type": "markdown",
   "id": "c51ca943",
   "metadata": {
    "jp-MarkdownHeadingCollapsed": true
   },
   "source": [
    "## 4. 인구 데이터 전처리"
   ]
  },
  {
   "cell_type": "code",
   "execution_count": 3,
   "id": "2f9148c8-73d3-454b-bb22-7dfb4f135526",
   "metadata": {},
   "outputs": [
    {
     "name": "stdout",
     "output_type": "stream",
     "text": [
      "(18710, 234)\n"
     ]
    }
   ],
   "source": [
    "# 인구 데이터 불러오기\n",
    "#pl = pd.read_csv(\"C:/Users/lglg/OneDrive/캡스톤/행정안전부_지역별(법정동) 성별 연령별 주민등록 인구수_20250430.csv\",encoding='cp949')\n",
    "pl = pd.read_csv(\"C:/Users/QQQ/Desktop/TeamMG/코드 데이터/캡스톤 코드 전달_0513/캡스톤 코드 전달_0513/사용한 자료/행정안전부_지역별(법정동) 성별 연령별 주민등록 인구수_20250331.csv\",encoding='cp949')\n",
    "\n",
    "# 데이터프레임 형태로 변경\n",
    "pl_df = pd.DataFrame(pl)\n",
    "print(pl_df.shape)"
   ]
  },
  {
   "cell_type": "code",
   "execution_count": 4,
   "id": "f37ef58a-fdf9-443a-991b-3e23c003d0e5",
   "metadata": {},
   "outputs": [
    {
     "name": "stdout",
     "output_type": "stream",
     "text": [
      "법정동코드        0\n",
      "시도명          0\n",
      "시군구명         8\n",
      "읍면동명         0\n",
      "계            0\n",
      "            ..\n",
      "106세여자       0\n",
      "107세여자       0\n",
      "108세여자       0\n",
      "109세여자       0\n",
      "110세이상 여자    0\n",
      "Length: 232, dtype: int64\n"
     ]
    }
   ],
   "source": [
    "# 인구 데이터에서 필요없는 변수제거\n",
    "drop_cols = ['기준연월','리명']\n",
    "pl_df.drop(columns=drop_cols, inplace=True)\n",
    "\n",
    "# 각 변수 결측값 개수 확인\n",
    "print(pl_df.isnull().sum())"
   ]
  },
  {
   "cell_type": "code",
   "execution_count": 5,
   "id": "a31504f5-ebc9-4aed-b474-311f7643d87d",
   "metadata": {},
   "outputs": [
    {
     "name": "stdout",
     "output_type": "stream",
     "text": [
      "1893    세종특별시\n",
      "1894    세종특별시\n",
      "1896    세종특별시\n",
      "1900    세종특별시\n",
      "1901    세종특별시\n",
      "1909    세종특별시\n",
      "1910    세종특별시\n",
      "1914    세종특별시\n",
      "Name: 시도명, dtype: object\n"
     ]
    }
   ],
   "source": [
    "# 시군구명 결측값 확인하기\n",
    "a = pl_df[pl_df['시군구명'].isnull()]\n",
    "print(a['시도명'].head(10))"
   ]
  },
  {
   "cell_type": "code",
   "execution_count": 6,
   "id": "215e2ec4-dacb-443a-a9ec-3291407b8cb9",
   "metadata": {},
   "outputs": [
    {
     "name": "stdout",
     "output_type": "stream",
     "text": [
      "0\n"
     ]
    }
   ],
   "source": [
    "# 세종특별자치시인 행의 시군구명을 시도명으로 통일\n",
    "pl_df.loc[pl_df['시도명'] == '세종특별시', '시군구명'] = '세종시'\n",
    "\n",
    "# 시군구명 변수 결측값 개수 확인\n",
    "print(pl_df['시군구명'].isnull().sum())"
   ]
  },
  {
   "cell_type": "code",
   "execution_count": 7,
   "id": "c25a986a-e6fb-4e13-8b8e-57fa86cea17f",
   "metadata": {},
   "outputs": [
    {
     "ename": "NameError",
     "evalue": "name 'move_column_after' is not defined",
     "output_type": "error",
     "traceback": [
      "\u001b[1;31m---------------------------------------------------------------------------\u001b[0m",
      "\u001b[1;31mNameError\u001b[0m                                 Traceback (most recent call last)",
      "Cell \u001b[1;32mIn[7], line 12\u001b[0m\n\u001b[0;32m      5\u001b[0m pl_df_jibun[\u001b[38;5;124m'\u001b[39m\u001b[38;5;124mJibun\u001b[39m\u001b[38;5;124m'\u001b[39m] \u001b[38;5;241m=\u001b[39m (\n\u001b[0;32m      6\u001b[0m     pl_df_jibun[\u001b[38;5;124m'\u001b[39m\u001b[38;5;124m시도명\u001b[39m\u001b[38;5;124m'\u001b[39m]\u001b[38;5;241m+\u001b[39m \u001b[38;5;124m'\u001b[39m\u001b[38;5;124m \u001b[39m\u001b[38;5;124m'\u001b[39m \u001b[38;5;241m+\u001b[39m\n\u001b[0;32m      7\u001b[0m     pl_df_jibun[\u001b[38;5;124m'\u001b[39m\u001b[38;5;124m시군구명\u001b[39m\u001b[38;5;124m'\u001b[39m]\u001b[38;5;241m+\u001b[39m \u001b[38;5;124m'\u001b[39m\u001b[38;5;124m \u001b[39m\u001b[38;5;124m'\u001b[39m \u001b[38;5;241m+\u001b[39m\n\u001b[0;32m      8\u001b[0m     pl_df_jibun[\u001b[38;5;124m'\u001b[39m\u001b[38;5;124m읍면동명\u001b[39m\u001b[38;5;124m'\u001b[39m]\n\u001b[0;32m      9\u001b[0m )\u001b[38;5;241m.\u001b[39mstr\u001b[38;5;241m.\u001b[39mstrip()\n\u001b[0;32m     11\u001b[0m \u001b[38;5;66;03m# 'Jibun'을 '법정도코드' 다음으로 이동\u001b[39;00m\n\u001b[1;32m---> 12\u001b[0m pl_df_jibun \u001b[38;5;241m=\u001b[39m \u001b[43mmove_column_after\u001b[49m(pl_df_jibun, \u001b[38;5;124m'\u001b[39m\u001b[38;5;124mJibun\u001b[39m\u001b[38;5;124m'\u001b[39m, \u001b[38;5;124m'\u001b[39m\u001b[38;5;124m법정동코드\u001b[39m\u001b[38;5;124m'\u001b[39m)\n\u001b[0;32m     14\u001b[0m \u001b[38;5;66;03m# 각 변수 결측값 개수 확인\u001b[39;00m\n\u001b[0;32m     15\u001b[0m \u001b[38;5;28mprint\u001b[39m(pl_df_jibun\u001b[38;5;241m.\u001b[39misnull()\u001b[38;5;241m.\u001b[39msum())\n",
      "\u001b[1;31mNameError\u001b[0m: name 'move_column_after' is not defined"
     ]
    }
   ],
   "source": [
    "# pl_df 복사\n",
    "pl_df_jibun = pl_df.copy()\n",
    "\n",
    "# 시도명, 시군구명, 읍면동명을 혼합한 Jibun 변수 생성\n",
    "pl_df_jibun['Jibun'] = (\n",
    "    pl_df_jibun['시도명']+ ' ' +\n",
    "    pl_df_jibun['시군구명']+ ' ' +\n",
    "    pl_df_jibun['읍면동명']\n",
    ").str.strip()\n",
    "\n",
    "# 'Jibun'을 '법정도코드' 다음으로 이동\n",
    "pl_df_jibun = move_column_after(pl_df_jibun, 'Jibun', '법정동코드')\n",
    "\n",
    "# 각 변수 결측값 개수 확인\n",
    "print(pl_df_jibun.isnull().sum())"
   ]
  },
  {
   "cell_type": "markdown",
   "id": "482e6eb4-12d6-4db6-a4b3-1e3988026126",
   "metadata": {},
   "source": [
    "### 시도 매핑"
   ]
  },
  {
   "cell_type": "code",
   "execution_count": 8,
   "id": "ea460527-7934-486c-9e1e-7d0f2298edcf",
   "metadata": {},
   "outputs": [
    {
     "ename": "NameError",
     "evalue": "name 'sido_mapping' is not defined",
     "output_type": "error",
     "traceback": [
      "\u001b[1;31m---------------------------------------------------------------------------\u001b[0m",
      "\u001b[1;31mNameError\u001b[0m                                 Traceback (most recent call last)",
      "Cell \u001b[1;32mIn[8], line 21\u001b[0m\n\u001b[0;32m     18\u001b[0m     \u001b[38;5;28;01mreturn\u001b[39;00m sido_raw\n\u001b[0;32m     20\u001b[0m \u001b[38;5;66;03m# 표준화 함수 적용\u001b[39;00m\n\u001b[1;32m---> 21\u001b[0m pl_df_jibun[\u001b[38;5;124m'\u001b[39m\u001b[38;5;124m시도명\u001b[39m\u001b[38;5;124m'\u001b[39m] \u001b[38;5;241m=\u001b[39m \u001b[43mpl_df_jibun\u001b[49m\u001b[43m[\u001b[49m\u001b[38;5;124;43m'\u001b[39;49m\u001b[38;5;124;43m시도명\u001b[39;49m\u001b[38;5;124;43m'\u001b[39;49m\u001b[43m]\u001b[49m\u001b[38;5;241;43m.\u001b[39;49m\u001b[43mapply\u001b[49m\u001b[43m(\u001b[49m\u001b[43mstandardize_sido\u001b[49m\u001b[43m)\u001b[49m\n\u001b[0;32m     23\u001b[0m \u001b[38;5;66;03m# 컬럼명 변경\u001b[39;00m\n\u001b[0;32m     24\u001b[0m pl_df_jibun\u001b[38;5;241m.\u001b[39mrename(columns\u001b[38;5;241m=\u001b[39m{\u001b[38;5;124m'\u001b[39m\u001b[38;5;124m시도명\u001b[39m\u001b[38;5;124m'\u001b[39m: \u001b[38;5;124m'\u001b[39m\u001b[38;5;124mSido\u001b[39m\u001b[38;5;124m'\u001b[39m}, inplace\u001b[38;5;241m=\u001b[39m\u001b[38;5;28;01mTrue\u001b[39;00m)\n",
      "File \u001b[1;32mc:\\Users\\QQQ\\AppData\\Local\\Programs\\Python\\Python39\\lib\\site-packages\\pandas\\core\\series.py:4917\u001b[0m, in \u001b[0;36mSeries.apply\u001b[1;34m(self, func, convert_dtype, args, by_row, **kwargs)\u001b[0m\n\u001b[0;32m   4789\u001b[0m \u001b[38;5;28;01mdef\u001b[39;00m \u001b[38;5;21mapply\u001b[39m(\n\u001b[0;32m   4790\u001b[0m     \u001b[38;5;28mself\u001b[39m,\n\u001b[0;32m   4791\u001b[0m     func: AggFuncType,\n\u001b[1;32m   (...)\u001b[0m\n\u001b[0;32m   4796\u001b[0m     \u001b[38;5;241m*\u001b[39m\u001b[38;5;241m*\u001b[39mkwargs,\n\u001b[0;32m   4797\u001b[0m ) \u001b[38;5;241m-\u001b[39m\u001b[38;5;241m>\u001b[39m DataFrame \u001b[38;5;241m|\u001b[39m Series:\n\u001b[0;32m   4798\u001b[0m \u001b[38;5;250m    \u001b[39m\u001b[38;5;124;03m\"\"\"\u001b[39;00m\n\u001b[0;32m   4799\u001b[0m \u001b[38;5;124;03m    Invoke function on values of Series.\u001b[39;00m\n\u001b[0;32m   4800\u001b[0m \n\u001b[1;32m   (...)\u001b[0m\n\u001b[0;32m   4915\u001b[0m \u001b[38;5;124;03m    dtype: float64\u001b[39;00m\n\u001b[0;32m   4916\u001b[0m \u001b[38;5;124;03m    \"\"\"\u001b[39;00m\n\u001b[1;32m-> 4917\u001b[0m     \u001b[38;5;28;01mreturn\u001b[39;00m \u001b[43mSeriesApply\u001b[49m\u001b[43m(\u001b[49m\n\u001b[0;32m   4918\u001b[0m \u001b[43m        \u001b[49m\u001b[38;5;28;43mself\u001b[39;49m\u001b[43m,\u001b[49m\n\u001b[0;32m   4919\u001b[0m \u001b[43m        \u001b[49m\u001b[43mfunc\u001b[49m\u001b[43m,\u001b[49m\n\u001b[0;32m   4920\u001b[0m \u001b[43m        \u001b[49m\u001b[43mconvert_dtype\u001b[49m\u001b[38;5;241;43m=\u001b[39;49m\u001b[43mconvert_dtype\u001b[49m\u001b[43m,\u001b[49m\n\u001b[0;32m   4921\u001b[0m \u001b[43m        \u001b[49m\u001b[43mby_row\u001b[49m\u001b[38;5;241;43m=\u001b[39;49m\u001b[43mby_row\u001b[49m\u001b[43m,\u001b[49m\n\u001b[0;32m   4922\u001b[0m \u001b[43m        \u001b[49m\u001b[43margs\u001b[49m\u001b[38;5;241;43m=\u001b[39;49m\u001b[43margs\u001b[49m\u001b[43m,\u001b[49m\n\u001b[0;32m   4923\u001b[0m \u001b[43m        \u001b[49m\u001b[43mkwargs\u001b[49m\u001b[38;5;241;43m=\u001b[39;49m\u001b[43mkwargs\u001b[49m\u001b[43m,\u001b[49m\n\u001b[0;32m   4924\u001b[0m \u001b[43m    \u001b[49m\u001b[43m)\u001b[49m\u001b[38;5;241;43m.\u001b[39;49m\u001b[43mapply\u001b[49m\u001b[43m(\u001b[49m\u001b[43m)\u001b[49m\n",
      "File \u001b[1;32mc:\\Users\\QQQ\\AppData\\Local\\Programs\\Python\\Python39\\lib\\site-packages\\pandas\\core\\apply.py:1427\u001b[0m, in \u001b[0;36mSeriesApply.apply\u001b[1;34m(self)\u001b[0m\n\u001b[0;32m   1424\u001b[0m     \u001b[38;5;28;01mreturn\u001b[39;00m \u001b[38;5;28mself\u001b[39m\u001b[38;5;241m.\u001b[39mapply_compat()\n\u001b[0;32m   1426\u001b[0m \u001b[38;5;66;03m# self.func is Callable\u001b[39;00m\n\u001b[1;32m-> 1427\u001b[0m \u001b[38;5;28;01mreturn\u001b[39;00m \u001b[38;5;28;43mself\u001b[39;49m\u001b[38;5;241;43m.\u001b[39;49m\u001b[43mapply_standard\u001b[49m\u001b[43m(\u001b[49m\u001b[43m)\u001b[49m\n",
      "File \u001b[1;32mc:\\Users\\QQQ\\AppData\\Local\\Programs\\Python\\Python39\\lib\\site-packages\\pandas\\core\\apply.py:1507\u001b[0m, in \u001b[0;36mSeriesApply.apply_standard\u001b[1;34m(self)\u001b[0m\n\u001b[0;32m   1501\u001b[0m \u001b[38;5;66;03m# row-wise access\u001b[39;00m\n\u001b[0;32m   1502\u001b[0m \u001b[38;5;66;03m# apply doesn't have a `na_action` keyword and for backward compat reasons\u001b[39;00m\n\u001b[0;32m   1503\u001b[0m \u001b[38;5;66;03m# we need to give `na_action=\"ignore\"` for categorical data.\u001b[39;00m\n\u001b[0;32m   1504\u001b[0m \u001b[38;5;66;03m# TODO: remove the `na_action=\"ignore\"` when that default has been changed in\u001b[39;00m\n\u001b[0;32m   1505\u001b[0m \u001b[38;5;66;03m#  Categorical (GH51645).\u001b[39;00m\n\u001b[0;32m   1506\u001b[0m action \u001b[38;5;241m=\u001b[39m \u001b[38;5;124m\"\u001b[39m\u001b[38;5;124mignore\u001b[39m\u001b[38;5;124m\"\u001b[39m \u001b[38;5;28;01mif\u001b[39;00m \u001b[38;5;28misinstance\u001b[39m(obj\u001b[38;5;241m.\u001b[39mdtype, CategoricalDtype) \u001b[38;5;28;01melse\u001b[39;00m \u001b[38;5;28;01mNone\u001b[39;00m\n\u001b[1;32m-> 1507\u001b[0m mapped \u001b[38;5;241m=\u001b[39m \u001b[43mobj\u001b[49m\u001b[38;5;241;43m.\u001b[39;49m\u001b[43m_map_values\u001b[49m\u001b[43m(\u001b[49m\n\u001b[0;32m   1508\u001b[0m \u001b[43m    \u001b[49m\u001b[43mmapper\u001b[49m\u001b[38;5;241;43m=\u001b[39;49m\u001b[43mcurried\u001b[49m\u001b[43m,\u001b[49m\u001b[43m \u001b[49m\u001b[43mna_action\u001b[49m\u001b[38;5;241;43m=\u001b[39;49m\u001b[43maction\u001b[49m\u001b[43m,\u001b[49m\u001b[43m \u001b[49m\u001b[43mconvert\u001b[49m\u001b[38;5;241;43m=\u001b[39;49m\u001b[38;5;28;43mself\u001b[39;49m\u001b[38;5;241;43m.\u001b[39;49m\u001b[43mconvert_dtype\u001b[49m\n\u001b[0;32m   1509\u001b[0m \u001b[43m\u001b[49m\u001b[43m)\u001b[49m\n\u001b[0;32m   1511\u001b[0m \u001b[38;5;28;01mif\u001b[39;00m \u001b[38;5;28mlen\u001b[39m(mapped) \u001b[38;5;129;01mand\u001b[39;00m \u001b[38;5;28misinstance\u001b[39m(mapped[\u001b[38;5;241m0\u001b[39m], ABCSeries):\n\u001b[0;32m   1512\u001b[0m     \u001b[38;5;66;03m# GH#43986 Need to do list(mapped) in order to get treated as nested\u001b[39;00m\n\u001b[0;32m   1513\u001b[0m     \u001b[38;5;66;03m#  See also GH#25959 regarding EA support\u001b[39;00m\n\u001b[0;32m   1514\u001b[0m     \u001b[38;5;28;01mreturn\u001b[39;00m obj\u001b[38;5;241m.\u001b[39m_constructor_expanddim(\u001b[38;5;28mlist\u001b[39m(mapped), index\u001b[38;5;241m=\u001b[39mobj\u001b[38;5;241m.\u001b[39mindex)\n",
      "File \u001b[1;32mc:\\Users\\QQQ\\AppData\\Local\\Programs\\Python\\Python39\\lib\\site-packages\\pandas\\core\\base.py:921\u001b[0m, in \u001b[0;36mIndexOpsMixin._map_values\u001b[1;34m(self, mapper, na_action, convert)\u001b[0m\n\u001b[0;32m    918\u001b[0m \u001b[38;5;28;01mif\u001b[39;00m \u001b[38;5;28misinstance\u001b[39m(arr, ExtensionArray):\n\u001b[0;32m    919\u001b[0m     \u001b[38;5;28;01mreturn\u001b[39;00m arr\u001b[38;5;241m.\u001b[39mmap(mapper, na_action\u001b[38;5;241m=\u001b[39mna_action)\n\u001b[1;32m--> 921\u001b[0m \u001b[38;5;28;01mreturn\u001b[39;00m \u001b[43malgorithms\u001b[49m\u001b[38;5;241;43m.\u001b[39;49m\u001b[43mmap_array\u001b[49m\u001b[43m(\u001b[49m\u001b[43marr\u001b[49m\u001b[43m,\u001b[49m\u001b[43m \u001b[49m\u001b[43mmapper\u001b[49m\u001b[43m,\u001b[49m\u001b[43m \u001b[49m\u001b[43mna_action\u001b[49m\u001b[38;5;241;43m=\u001b[39;49m\u001b[43mna_action\u001b[49m\u001b[43m,\u001b[49m\u001b[43m \u001b[49m\u001b[43mconvert\u001b[49m\u001b[38;5;241;43m=\u001b[39;49m\u001b[43mconvert\u001b[49m\u001b[43m)\u001b[49m\n",
      "File \u001b[1;32mc:\\Users\\QQQ\\AppData\\Local\\Programs\\Python\\Python39\\lib\\site-packages\\pandas\\core\\algorithms.py:1743\u001b[0m, in \u001b[0;36mmap_array\u001b[1;34m(arr, mapper, na_action, convert)\u001b[0m\n\u001b[0;32m   1741\u001b[0m values \u001b[38;5;241m=\u001b[39m arr\u001b[38;5;241m.\u001b[39mastype(\u001b[38;5;28mobject\u001b[39m, copy\u001b[38;5;241m=\u001b[39m\u001b[38;5;28;01mFalse\u001b[39;00m)\n\u001b[0;32m   1742\u001b[0m \u001b[38;5;28;01mif\u001b[39;00m na_action \u001b[38;5;129;01mis\u001b[39;00m \u001b[38;5;28;01mNone\u001b[39;00m:\n\u001b[1;32m-> 1743\u001b[0m     \u001b[38;5;28;01mreturn\u001b[39;00m \u001b[43mlib\u001b[49m\u001b[38;5;241;43m.\u001b[39;49m\u001b[43mmap_infer\u001b[49m\u001b[43m(\u001b[49m\u001b[43mvalues\u001b[49m\u001b[43m,\u001b[49m\u001b[43m \u001b[49m\u001b[43mmapper\u001b[49m\u001b[43m,\u001b[49m\u001b[43m \u001b[49m\u001b[43mconvert\u001b[49m\u001b[38;5;241;43m=\u001b[39;49m\u001b[43mconvert\u001b[49m\u001b[43m)\u001b[49m\n\u001b[0;32m   1744\u001b[0m \u001b[38;5;28;01melse\u001b[39;00m:\n\u001b[0;32m   1745\u001b[0m     \u001b[38;5;28;01mreturn\u001b[39;00m lib\u001b[38;5;241m.\u001b[39mmap_infer_mask(\n\u001b[0;32m   1746\u001b[0m         values, mapper, mask\u001b[38;5;241m=\u001b[39misna(values)\u001b[38;5;241m.\u001b[39mview(np\u001b[38;5;241m.\u001b[39muint8), convert\u001b[38;5;241m=\u001b[39mconvert\n\u001b[0;32m   1747\u001b[0m     )\n",
      "File \u001b[1;32mlib.pyx:2972\u001b[0m, in \u001b[0;36mpandas._libs.lib.map_infer\u001b[1;34m()\u001b[0m\n",
      "Cell \u001b[1;32mIn[8], line 9\u001b[0m, in \u001b[0;36mstandardize_sido\u001b[1;34m(sido_raw)\u001b[0m\n\u001b[0;32m      6\u001b[0m sido_raw \u001b[38;5;241m=\u001b[39m \u001b[38;5;28mstr\u001b[39m(sido_raw)\u001b[38;5;241m.\u001b[39mstrip()  \u001b[38;5;66;03m# 공백 제거 및 문자열화\u001b[39;00m\n\u001b[0;32m      8\u001b[0m \u001b[38;5;66;03m# 정확히 일치하는 경우 우선 처리\u001b[39;00m\n\u001b[1;32m----> 9\u001b[0m \u001b[38;5;28;01mif\u001b[39;00m sido_raw \u001b[38;5;129;01min\u001b[39;00m \u001b[43msido_mapping\u001b[49m\u001b[38;5;241m.\u001b[39mvalues():\n\u001b[0;32m     10\u001b[0m     \u001b[38;5;28;01mreturn\u001b[39;00m sido_raw\n\u001b[0;32m     12\u001b[0m \u001b[38;5;66;03m# 축약어로 시작하는 경우 변환\u001b[39;00m\n",
      "\u001b[1;31mNameError\u001b[0m: name 'sido_mapping' is not defined"
     ]
    }
   ],
   "source": [
    "# 시도명을 표준화하는 함수 정의\n",
    "def standardize_sido(sido_raw):\n",
    "    if pd.isnull(sido_raw):\n",
    "        return None  # 결측값 처리\n",
    "\n",
    "    sido_raw = str(sido_raw).strip()  # 공백 제거 및 문자열화\n",
    "\n",
    "    # 정확히 일치하는 경우 우선 처리\n",
    "    if sido_raw in sido_mapping.values():\n",
    "        return sido_raw\n",
    "\n",
    "    # 축약어로 시작하는 경우 변환\n",
    "    for short, full in sido_mapping.items():\n",
    "        if sido_raw.startswith(short):\n",
    "            return full\n",
    "\n",
    "    # 변환 불가능한 경우 원본 유지\n",
    "    return sido_raw\n",
    "\n",
    "# 표준화 함수 적용\n",
    "pl_df_jibun['시도명'] = pl_df_jibun['시도명'].apply(standardize_sido)\n",
    "\n",
    "# 컬럼명 변경\n",
    "pl_df_jibun.rename(columns={'시도명': 'Sido'}, inplace=True)\n",
    "\n",
    "# 결과 확인\n",
    "print(\"표준화 후 결측값 수:\", pl_df_jibun['Sido'].isnull().sum())\n",
    "print(\"시도명 목록:\", sorted(pl_df_jibun['Sido'].unique()))"
   ]
  },
  {
   "cell_type": "markdown",
   "id": "2f8bc0fe-d25e-4741-a5fc-164d5bbc529b",
   "metadata": {},
   "source": [
    "### 시군구 매핑"
   ]
  },
  {
   "cell_type": "code",
   "execution_count": 9,
   "id": "15fb6816-e97c-4f08-8f13-523a73c7437a",
   "metadata": {},
   "outputs": [
    {
     "ename": "NameError",
     "evalue": "name 'extract_sigungu' is not defined",
     "output_type": "error",
     "traceback": [
      "\u001b[1;31m---------------------------------------------------------------------------\u001b[0m",
      "\u001b[1;31mNameError\u001b[0m                                 Traceback (most recent call last)",
      "Cell \u001b[1;32mIn[9], line 8\u001b[0m\n\u001b[0;32m      5\u001b[0m pl_df_sigungu\u001b[38;5;241m.\u001b[39mrename(columns\u001b[38;5;241m=\u001b[39m{\u001b[38;5;124m'\u001b[39m\u001b[38;5;124m시군구명\u001b[39m\u001b[38;5;124m'\u001b[39m: \u001b[38;5;124m'\u001b[39m\u001b[38;5;124mSigungu\u001b[39m\u001b[38;5;124m'\u001b[39m}, inplace\u001b[38;5;241m=\u001b[39m\u001b[38;5;28;01mTrue\u001b[39;00m)\n\u001b[0;32m      7\u001b[0m \u001b[38;5;66;03m# 데이터프레임에서 'Jibun' 열을 기준으로 시군구 추출\u001b[39;00m\n\u001b[1;32m----> 8\u001b[0m pl_df_sigungu[\u001b[38;5;124m'\u001b[39m\u001b[38;5;124mSigungu\u001b[39m\u001b[38;5;124m'\u001b[39m] \u001b[38;5;241m=\u001b[39m \u001b[43mpl_df_sigungu\u001b[49m\u001b[43m[\u001b[49m\u001b[38;5;124;43m'\u001b[39;49m\u001b[38;5;124;43mJibun\u001b[39;49m\u001b[38;5;124;43m'\u001b[39;49m\u001b[43m]\u001b[49m\u001b[38;5;241;43m.\u001b[39;49m\u001b[43mapply\u001b[49m\u001b[43m(\u001b[49m\u001b[38;5;28;43;01mlambda\u001b[39;49;00m\u001b[43m \u001b[49m\u001b[43mx\u001b[49m\u001b[43m:\u001b[49m\u001b[43m \u001b[49m\u001b[43mextract_sigungu\u001b[49m\u001b[43m(\u001b[49m\u001b[43mx\u001b[49m\u001b[43m,\u001b[49m\u001b[43m \u001b[49m\u001b[43msigungu_list\u001b[49m\u001b[43m)\u001b[49m\u001b[43m)\u001b[49m\n\u001b[0;32m     10\u001b[0m \u001b[38;5;66;03m# 'Sigungu'를 'Sido' 다음으로 이동\u001b[39;00m\n\u001b[0;32m     11\u001b[0m pl_df_sigungu \u001b[38;5;241m=\u001b[39m move_column_after(pl_df_sigungu, \u001b[38;5;124m'\u001b[39m\u001b[38;5;124mSigungu\u001b[39m\u001b[38;5;124m'\u001b[39m, \u001b[38;5;124m'\u001b[39m\u001b[38;5;124mSido\u001b[39m\u001b[38;5;124m'\u001b[39m)\n",
      "File \u001b[1;32mc:\\Users\\QQQ\\AppData\\Local\\Programs\\Python\\Python39\\lib\\site-packages\\pandas\\core\\series.py:4917\u001b[0m, in \u001b[0;36mSeries.apply\u001b[1;34m(self, func, convert_dtype, args, by_row, **kwargs)\u001b[0m\n\u001b[0;32m   4789\u001b[0m \u001b[38;5;28;01mdef\u001b[39;00m \u001b[38;5;21mapply\u001b[39m(\n\u001b[0;32m   4790\u001b[0m     \u001b[38;5;28mself\u001b[39m,\n\u001b[0;32m   4791\u001b[0m     func: AggFuncType,\n\u001b[1;32m   (...)\u001b[0m\n\u001b[0;32m   4796\u001b[0m     \u001b[38;5;241m*\u001b[39m\u001b[38;5;241m*\u001b[39mkwargs,\n\u001b[0;32m   4797\u001b[0m ) \u001b[38;5;241m-\u001b[39m\u001b[38;5;241m>\u001b[39m DataFrame \u001b[38;5;241m|\u001b[39m Series:\n\u001b[0;32m   4798\u001b[0m \u001b[38;5;250m    \u001b[39m\u001b[38;5;124;03m\"\"\"\u001b[39;00m\n\u001b[0;32m   4799\u001b[0m \u001b[38;5;124;03m    Invoke function on values of Series.\u001b[39;00m\n\u001b[0;32m   4800\u001b[0m \n\u001b[1;32m   (...)\u001b[0m\n\u001b[0;32m   4915\u001b[0m \u001b[38;5;124;03m    dtype: float64\u001b[39;00m\n\u001b[0;32m   4916\u001b[0m \u001b[38;5;124;03m    \"\"\"\u001b[39;00m\n\u001b[1;32m-> 4917\u001b[0m     \u001b[38;5;28;01mreturn\u001b[39;00m \u001b[43mSeriesApply\u001b[49m\u001b[43m(\u001b[49m\n\u001b[0;32m   4918\u001b[0m \u001b[43m        \u001b[49m\u001b[38;5;28;43mself\u001b[39;49m\u001b[43m,\u001b[49m\n\u001b[0;32m   4919\u001b[0m \u001b[43m        \u001b[49m\u001b[43mfunc\u001b[49m\u001b[43m,\u001b[49m\n\u001b[0;32m   4920\u001b[0m \u001b[43m        \u001b[49m\u001b[43mconvert_dtype\u001b[49m\u001b[38;5;241;43m=\u001b[39;49m\u001b[43mconvert_dtype\u001b[49m\u001b[43m,\u001b[49m\n\u001b[0;32m   4921\u001b[0m \u001b[43m        \u001b[49m\u001b[43mby_row\u001b[49m\u001b[38;5;241;43m=\u001b[39;49m\u001b[43mby_row\u001b[49m\u001b[43m,\u001b[49m\n\u001b[0;32m   4922\u001b[0m \u001b[43m        \u001b[49m\u001b[43margs\u001b[49m\u001b[38;5;241;43m=\u001b[39;49m\u001b[43margs\u001b[49m\u001b[43m,\u001b[49m\n\u001b[0;32m   4923\u001b[0m \u001b[43m        \u001b[49m\u001b[43mkwargs\u001b[49m\u001b[38;5;241;43m=\u001b[39;49m\u001b[43mkwargs\u001b[49m\u001b[43m,\u001b[49m\n\u001b[0;32m   4924\u001b[0m \u001b[43m    \u001b[49m\u001b[43m)\u001b[49m\u001b[38;5;241;43m.\u001b[39;49m\u001b[43mapply\u001b[49m\u001b[43m(\u001b[49m\u001b[43m)\u001b[49m\n",
      "File \u001b[1;32mc:\\Users\\QQQ\\AppData\\Local\\Programs\\Python\\Python39\\lib\\site-packages\\pandas\\core\\apply.py:1427\u001b[0m, in \u001b[0;36mSeriesApply.apply\u001b[1;34m(self)\u001b[0m\n\u001b[0;32m   1424\u001b[0m     \u001b[38;5;28;01mreturn\u001b[39;00m \u001b[38;5;28mself\u001b[39m\u001b[38;5;241m.\u001b[39mapply_compat()\n\u001b[0;32m   1426\u001b[0m \u001b[38;5;66;03m# self.func is Callable\u001b[39;00m\n\u001b[1;32m-> 1427\u001b[0m \u001b[38;5;28;01mreturn\u001b[39;00m \u001b[38;5;28;43mself\u001b[39;49m\u001b[38;5;241;43m.\u001b[39;49m\u001b[43mapply_standard\u001b[49m\u001b[43m(\u001b[49m\u001b[43m)\u001b[49m\n",
      "File \u001b[1;32mc:\\Users\\QQQ\\AppData\\Local\\Programs\\Python\\Python39\\lib\\site-packages\\pandas\\core\\apply.py:1507\u001b[0m, in \u001b[0;36mSeriesApply.apply_standard\u001b[1;34m(self)\u001b[0m\n\u001b[0;32m   1501\u001b[0m \u001b[38;5;66;03m# row-wise access\u001b[39;00m\n\u001b[0;32m   1502\u001b[0m \u001b[38;5;66;03m# apply doesn't have a `na_action` keyword and for backward compat reasons\u001b[39;00m\n\u001b[0;32m   1503\u001b[0m \u001b[38;5;66;03m# we need to give `na_action=\"ignore\"` for categorical data.\u001b[39;00m\n\u001b[0;32m   1504\u001b[0m \u001b[38;5;66;03m# TODO: remove the `na_action=\"ignore\"` when that default has been changed in\u001b[39;00m\n\u001b[0;32m   1505\u001b[0m \u001b[38;5;66;03m#  Categorical (GH51645).\u001b[39;00m\n\u001b[0;32m   1506\u001b[0m action \u001b[38;5;241m=\u001b[39m \u001b[38;5;124m\"\u001b[39m\u001b[38;5;124mignore\u001b[39m\u001b[38;5;124m\"\u001b[39m \u001b[38;5;28;01mif\u001b[39;00m \u001b[38;5;28misinstance\u001b[39m(obj\u001b[38;5;241m.\u001b[39mdtype, CategoricalDtype) \u001b[38;5;28;01melse\u001b[39;00m \u001b[38;5;28;01mNone\u001b[39;00m\n\u001b[1;32m-> 1507\u001b[0m mapped \u001b[38;5;241m=\u001b[39m \u001b[43mobj\u001b[49m\u001b[38;5;241;43m.\u001b[39;49m\u001b[43m_map_values\u001b[49m\u001b[43m(\u001b[49m\n\u001b[0;32m   1508\u001b[0m \u001b[43m    \u001b[49m\u001b[43mmapper\u001b[49m\u001b[38;5;241;43m=\u001b[39;49m\u001b[43mcurried\u001b[49m\u001b[43m,\u001b[49m\u001b[43m \u001b[49m\u001b[43mna_action\u001b[49m\u001b[38;5;241;43m=\u001b[39;49m\u001b[43maction\u001b[49m\u001b[43m,\u001b[49m\u001b[43m \u001b[49m\u001b[43mconvert\u001b[49m\u001b[38;5;241;43m=\u001b[39;49m\u001b[38;5;28;43mself\u001b[39;49m\u001b[38;5;241;43m.\u001b[39;49m\u001b[43mconvert_dtype\u001b[49m\n\u001b[0;32m   1509\u001b[0m \u001b[43m\u001b[49m\u001b[43m)\u001b[49m\n\u001b[0;32m   1511\u001b[0m \u001b[38;5;28;01mif\u001b[39;00m \u001b[38;5;28mlen\u001b[39m(mapped) \u001b[38;5;129;01mand\u001b[39;00m \u001b[38;5;28misinstance\u001b[39m(mapped[\u001b[38;5;241m0\u001b[39m], ABCSeries):\n\u001b[0;32m   1512\u001b[0m     \u001b[38;5;66;03m# GH#43986 Need to do list(mapped) in order to get treated as nested\u001b[39;00m\n\u001b[0;32m   1513\u001b[0m     \u001b[38;5;66;03m#  See also GH#25959 regarding EA support\u001b[39;00m\n\u001b[0;32m   1514\u001b[0m     \u001b[38;5;28;01mreturn\u001b[39;00m obj\u001b[38;5;241m.\u001b[39m_constructor_expanddim(\u001b[38;5;28mlist\u001b[39m(mapped), index\u001b[38;5;241m=\u001b[39mobj\u001b[38;5;241m.\u001b[39mindex)\n",
      "File \u001b[1;32mc:\\Users\\QQQ\\AppData\\Local\\Programs\\Python\\Python39\\lib\\site-packages\\pandas\\core\\base.py:921\u001b[0m, in \u001b[0;36mIndexOpsMixin._map_values\u001b[1;34m(self, mapper, na_action, convert)\u001b[0m\n\u001b[0;32m    918\u001b[0m \u001b[38;5;28;01mif\u001b[39;00m \u001b[38;5;28misinstance\u001b[39m(arr, ExtensionArray):\n\u001b[0;32m    919\u001b[0m     \u001b[38;5;28;01mreturn\u001b[39;00m arr\u001b[38;5;241m.\u001b[39mmap(mapper, na_action\u001b[38;5;241m=\u001b[39mna_action)\n\u001b[1;32m--> 921\u001b[0m \u001b[38;5;28;01mreturn\u001b[39;00m \u001b[43malgorithms\u001b[49m\u001b[38;5;241;43m.\u001b[39;49m\u001b[43mmap_array\u001b[49m\u001b[43m(\u001b[49m\u001b[43marr\u001b[49m\u001b[43m,\u001b[49m\u001b[43m \u001b[49m\u001b[43mmapper\u001b[49m\u001b[43m,\u001b[49m\u001b[43m \u001b[49m\u001b[43mna_action\u001b[49m\u001b[38;5;241;43m=\u001b[39;49m\u001b[43mna_action\u001b[49m\u001b[43m,\u001b[49m\u001b[43m \u001b[49m\u001b[43mconvert\u001b[49m\u001b[38;5;241;43m=\u001b[39;49m\u001b[43mconvert\u001b[49m\u001b[43m)\u001b[49m\n",
      "File \u001b[1;32mc:\\Users\\QQQ\\AppData\\Local\\Programs\\Python\\Python39\\lib\\site-packages\\pandas\\core\\algorithms.py:1743\u001b[0m, in \u001b[0;36mmap_array\u001b[1;34m(arr, mapper, na_action, convert)\u001b[0m\n\u001b[0;32m   1741\u001b[0m values \u001b[38;5;241m=\u001b[39m arr\u001b[38;5;241m.\u001b[39mastype(\u001b[38;5;28mobject\u001b[39m, copy\u001b[38;5;241m=\u001b[39m\u001b[38;5;28;01mFalse\u001b[39;00m)\n\u001b[0;32m   1742\u001b[0m \u001b[38;5;28;01mif\u001b[39;00m na_action \u001b[38;5;129;01mis\u001b[39;00m \u001b[38;5;28;01mNone\u001b[39;00m:\n\u001b[1;32m-> 1743\u001b[0m     \u001b[38;5;28;01mreturn\u001b[39;00m \u001b[43mlib\u001b[49m\u001b[38;5;241;43m.\u001b[39;49m\u001b[43mmap_infer\u001b[49m\u001b[43m(\u001b[49m\u001b[43mvalues\u001b[49m\u001b[43m,\u001b[49m\u001b[43m \u001b[49m\u001b[43mmapper\u001b[49m\u001b[43m,\u001b[49m\u001b[43m \u001b[49m\u001b[43mconvert\u001b[49m\u001b[38;5;241;43m=\u001b[39;49m\u001b[43mconvert\u001b[49m\u001b[43m)\u001b[49m\n\u001b[0;32m   1744\u001b[0m \u001b[38;5;28;01melse\u001b[39;00m:\n\u001b[0;32m   1745\u001b[0m     \u001b[38;5;28;01mreturn\u001b[39;00m lib\u001b[38;5;241m.\u001b[39mmap_infer_mask(\n\u001b[0;32m   1746\u001b[0m         values, mapper, mask\u001b[38;5;241m=\u001b[39misna(values)\u001b[38;5;241m.\u001b[39mview(np\u001b[38;5;241m.\u001b[39muint8), convert\u001b[38;5;241m=\u001b[39mconvert\n\u001b[0;32m   1747\u001b[0m     )\n",
      "File \u001b[1;32mlib.pyx:2972\u001b[0m, in \u001b[0;36mpandas._libs.lib.map_infer\u001b[1;34m()\u001b[0m\n",
      "Cell \u001b[1;32mIn[9], line 8\u001b[0m, in \u001b[0;36m<lambda>\u001b[1;34m(x)\u001b[0m\n\u001b[0;32m      5\u001b[0m pl_df_sigungu\u001b[38;5;241m.\u001b[39mrename(columns\u001b[38;5;241m=\u001b[39m{\u001b[38;5;124m'\u001b[39m\u001b[38;5;124m시군구명\u001b[39m\u001b[38;5;124m'\u001b[39m: \u001b[38;5;124m'\u001b[39m\u001b[38;5;124mSigungu\u001b[39m\u001b[38;5;124m'\u001b[39m}, inplace\u001b[38;5;241m=\u001b[39m\u001b[38;5;28;01mTrue\u001b[39;00m)\n\u001b[0;32m      7\u001b[0m \u001b[38;5;66;03m# 데이터프레임에서 'Jibun' 열을 기준으로 시군구 추출\u001b[39;00m\n\u001b[1;32m----> 8\u001b[0m pl_df_sigungu[\u001b[38;5;124m'\u001b[39m\u001b[38;5;124mSigungu\u001b[39m\u001b[38;5;124m'\u001b[39m] \u001b[38;5;241m=\u001b[39m pl_df_sigungu[\u001b[38;5;124m'\u001b[39m\u001b[38;5;124mJibun\u001b[39m\u001b[38;5;124m'\u001b[39m]\u001b[38;5;241m.\u001b[39mapply(\u001b[38;5;28;01mlambda\u001b[39;00m x: \u001b[43mextract_sigungu\u001b[49m(x, sigungu_list))\n\u001b[0;32m     10\u001b[0m \u001b[38;5;66;03m# 'Sigungu'를 'Sido' 다음으로 이동\u001b[39;00m\n\u001b[0;32m     11\u001b[0m pl_df_sigungu \u001b[38;5;241m=\u001b[39m move_column_after(pl_df_sigungu, \u001b[38;5;124m'\u001b[39m\u001b[38;5;124mSigungu\u001b[39m\u001b[38;5;124m'\u001b[39m, \u001b[38;5;124m'\u001b[39m\u001b[38;5;124mSido\u001b[39m\u001b[38;5;124m'\u001b[39m)\n",
      "\u001b[1;31mNameError\u001b[0m: name 'extract_sigungu' is not defined"
     ]
    }
   ],
   "source": [
    "# pl_df_jibun 복사\n",
    "pl_df_sigungu = pl_df_jibun.copy()\n",
    "\n",
    "# '시군구명' 열의 이름을 'Sigungu'으로 변경\n",
    "pl_df_sigungu.rename(columns={'시군구명': 'Sigungu'}, inplace=True)\n",
    "\n",
    "# 데이터프레임에서 'Jibun' 열을 기준으로 시군구 추출\n",
    "pl_df_sigungu['Sigungu'] = pl_df_sigungu['Jibun'].apply(lambda x: extract_sigungu(x, sigungu_list))\n",
    "\n",
    "# 'Sigungu'를 'Sido' 다음으로 이동\n",
    "pl_df_sigungu = move_column_after(pl_df_sigungu, 'Sigungu', 'Sido')\n",
    "\n",
    "# 결과 확인\n",
    "print(pl_df_sigungu['Sigungu'].isnull().sum())"
   ]
  },
  {
   "cell_type": "markdown",
   "id": "3569d9ab-f448-471f-a96a-49c59b32edd9",
   "metadata": {},
   "source": [
    "#### 시도는 다르지만 시군구는 다를 때"
   ]
  },
  {
   "cell_type": "code",
   "execution_count": 10,
   "id": "b3e6aa8d-5741-43fb-8fea-3ca984f2ab30",
   "metadata": {},
   "outputs": [
    {
     "ename": "KeyError",
     "evalue": "'Column not found: Sido'",
     "output_type": "error",
     "traceback": [
      "\u001b[1;31m---------------------------------------------------------------------------\u001b[0m",
      "\u001b[1;31mKeyError\u001b[0m                                  Traceback (most recent call last)",
      "Cell \u001b[1;32mIn[10], line 2\u001b[0m\n\u001b[0;32m      1\u001b[0m \u001b[38;5;66;03m# 시군구별 중복 확인 (시군구만 기준으로)\u001b[39;00m\n\u001b[1;32m----> 2\u001b[0m duplicate_sgg \u001b[38;5;241m=\u001b[39m \u001b[43mpl_df_sigungu\u001b[49m\u001b[38;5;241;43m.\u001b[39;49m\u001b[43mgroupby\u001b[49m\u001b[43m(\u001b[49m\u001b[38;5;124;43m'\u001b[39;49m\u001b[38;5;124;43mSigungu\u001b[39;49m\u001b[38;5;124;43m'\u001b[39;49m\u001b[43m)\u001b[49m\u001b[43m[\u001b[49m\u001b[38;5;124;43m'\u001b[39;49m\u001b[38;5;124;43mSido\u001b[39;49m\u001b[38;5;124;43m'\u001b[39;49m\u001b[43m]\u001b[49m\u001b[38;5;241m.\u001b[39mnunique()\n\u001b[0;32m      3\u001b[0m duplicated_sgg_names \u001b[38;5;241m=\u001b[39m duplicate_sgg[duplicate_sgg \u001b[38;5;241m>\u001b[39m \u001b[38;5;241m1\u001b[39m]\u001b[38;5;241m.\u001b[39mindex\u001b[38;5;241m.\u001b[39mtolist()\n\u001b[0;32m      5\u001b[0m \u001b[38;5;66;03m# 적용\u001b[39;00m\n",
      "File \u001b[1;32mc:\\Users\\QQQ\\AppData\\Local\\Programs\\Python\\Python39\\lib\\site-packages\\pandas\\core\\groupby\\generic.py:1951\u001b[0m, in \u001b[0;36mDataFrameGroupBy.__getitem__\u001b[1;34m(self, key)\u001b[0m\n\u001b[0;32m   1944\u001b[0m \u001b[38;5;28;01mif\u001b[39;00m \u001b[38;5;28misinstance\u001b[39m(key, \u001b[38;5;28mtuple\u001b[39m) \u001b[38;5;129;01mand\u001b[39;00m \u001b[38;5;28mlen\u001b[39m(key) \u001b[38;5;241m>\u001b[39m \u001b[38;5;241m1\u001b[39m:\n\u001b[0;32m   1945\u001b[0m     \u001b[38;5;66;03m# if len == 1, then it becomes a SeriesGroupBy and this is actually\u001b[39;00m\n\u001b[0;32m   1946\u001b[0m     \u001b[38;5;66;03m# valid syntax, so don't raise\u001b[39;00m\n\u001b[0;32m   1947\u001b[0m     \u001b[38;5;28;01mraise\u001b[39;00m \u001b[38;5;167;01mValueError\u001b[39;00m(\n\u001b[0;32m   1948\u001b[0m         \u001b[38;5;124m\"\u001b[39m\u001b[38;5;124mCannot subset columns with a tuple with more than one element. \u001b[39m\u001b[38;5;124m\"\u001b[39m\n\u001b[0;32m   1949\u001b[0m         \u001b[38;5;124m\"\u001b[39m\u001b[38;5;124mUse a list instead.\u001b[39m\u001b[38;5;124m\"\u001b[39m\n\u001b[0;32m   1950\u001b[0m     )\n\u001b[1;32m-> 1951\u001b[0m \u001b[38;5;28;01mreturn\u001b[39;00m \u001b[38;5;28;43msuper\u001b[39;49m\u001b[43m(\u001b[49m\u001b[43m)\u001b[49m\u001b[38;5;241;43m.\u001b[39;49m\u001b[38;5;21;43m__getitem__\u001b[39;49m\u001b[43m(\u001b[49m\u001b[43mkey\u001b[49m\u001b[43m)\u001b[49m\n",
      "File \u001b[1;32mc:\\Users\\QQQ\\AppData\\Local\\Programs\\Python\\Python39\\lib\\site-packages\\pandas\\core\\base.py:244\u001b[0m, in \u001b[0;36mSelectionMixin.__getitem__\u001b[1;34m(self, key)\u001b[0m\n\u001b[0;32m    242\u001b[0m \u001b[38;5;28;01melse\u001b[39;00m:\n\u001b[0;32m    243\u001b[0m     \u001b[38;5;28;01mif\u001b[39;00m key \u001b[38;5;129;01mnot\u001b[39;00m \u001b[38;5;129;01min\u001b[39;00m \u001b[38;5;28mself\u001b[39m\u001b[38;5;241m.\u001b[39mobj:\n\u001b[1;32m--> 244\u001b[0m         \u001b[38;5;28;01mraise\u001b[39;00m \u001b[38;5;167;01mKeyError\u001b[39;00m(\u001b[38;5;124mf\u001b[39m\u001b[38;5;124m\"\u001b[39m\u001b[38;5;124mColumn not found: \u001b[39m\u001b[38;5;132;01m{\u001b[39;00mkey\u001b[38;5;132;01m}\u001b[39;00m\u001b[38;5;124m\"\u001b[39m)\n\u001b[0;32m    245\u001b[0m     ndim \u001b[38;5;241m=\u001b[39m \u001b[38;5;28mself\u001b[39m\u001b[38;5;241m.\u001b[39mobj[key]\u001b[38;5;241m.\u001b[39mndim\n\u001b[0;32m    246\u001b[0m     \u001b[38;5;28;01mreturn\u001b[39;00m \u001b[38;5;28mself\u001b[39m\u001b[38;5;241m.\u001b[39m_gotitem(key, ndim\u001b[38;5;241m=\u001b[39mndim)\n",
      "\u001b[1;31mKeyError\u001b[0m: 'Column not found: Sido'"
     ]
    }
   ],
   "source": [
    "# 시군구별 중복 확인 (시군구만 기준으로)\n",
    "duplicate_sgg = pl_df_sigungu.groupby('Sigungu')['Sido'].nunique()\n",
    "duplicated_sgg_names = duplicate_sgg[duplicate_sgg > 1].index.tolist()\n",
    "\n",
    "# 적용\n",
    "pl_df_sigungu['Sigungu'] = pl_df_sigungu.apply(revise_sigungu, axis=1)\n",
    "\n",
    "# 결과 확인\n",
    "print(pl_df_sigungu.isnull().sum())"
   ]
  },
  {
   "cell_type": "markdown",
   "id": "2762a3ab-cd3b-465d-a11c-47209a22e0cf",
   "metadata": {},
   "source": [
    "### 읍면동 매핑"
   ]
  },
  {
   "cell_type": "code",
   "execution_count": 32,
   "id": "9e9794a1-d698-4ff7-81c8-25f01719ece0",
   "metadata": {},
   "outputs": [
    {
     "name": "stdout",
     "output_type": "stream",
     "text": [
      "0\n"
     ]
    }
   ],
   "source": [
    "# pl_df_sigungu 복사\n",
    "pl_df_eupmywondong = pl_df_sigungu.copy()\n",
    "\n",
    "# '읍면동명' 열의 이름을 'Eupmywondong'으로 변경\n",
    "pl_df_eupmywondong.rename(columns={'읍면동명': 'Eupmywondong'}, inplace=True)\n",
    "\n",
    "# 열 순서 재배치: 'Sigungu' 다음에 'Eupmywondong'이 오도록\n",
    "pl_df_eupmywondong['Eupmywondong'] = pl_df_eupmywondong['Jibun'].apply(lambda x: extract_eupmyeondong(x, eup_list))\n",
    "\n",
    "# 'Eupmywondong'를 'Sigungu' 다음으로 이동\n",
    "pl_df_eupmywondong = move_column_after(pl_df_eupmywondong, 'Eupmywondong', 'Sigungu')\n",
    "\n",
    "# 결과 확인\n",
    "print(pl_df_eupmywondong['Eupmywondong'].isnull().sum())"
   ]
  },
  {
   "cell_type": "markdown",
   "id": "459ccb8a-ab5f-4415-a2f3-6f245ccdab28",
   "metadata": {},
   "source": [
    "### Hang = Sido + Sigungu + Eupmywondong"
   ]
  },
  {
   "cell_type": "code",
   "execution_count": 33,
   "id": "6159d171-aeaa-4407-a1b7-24bdbaadd148",
   "metadata": {},
   "outputs": [],
   "source": [
    "# pl_df_eupmywondong 복사\n",
    "pl_df_hang = pl_df_eupmywondong.copy()\n",
    "\n",
    "# 적용\n",
    "pl_df_hang = update_hang(pl_df_hang)\n",
    "\n",
    "# 'Hang'을 'Jibun' 다음으로 이동\n",
    "pl_df_hang = move_column_after(pl_df_hang, 'Hang', 'Jibun')"
   ]
  },
  {
   "cell_type": "markdown",
   "id": "9b83e7fe-3f11-42a8-8c70-335ee675c5d2",
   "metadata": {},
   "source": [
    "### 표준화 처리 확인하기"
   ]
  },
  {
   "cell_type": "code",
   "execution_count": 34,
   "id": "8c9052e4-2c44-4f98-8b21-5c6f0569c2fa",
   "metadata": {},
   "outputs": [
    {
     "name": "stdout",
     "output_type": "stream",
     "text": [
      "True\n",
      "False\n",
      "False\n"
     ]
    }
   ],
   "source": [
    "# 각 데이터 복사\n",
    "hos_df = hos_df_hang.copy()\n",
    "ph_df = ph_df_hang.copy()\n",
    "pl_df = pl_df_hang.copy()\n",
    "\n",
    "# 시도 표준화가 잘 되었는지 확인하기\n",
    "print(set(hos_df['Sido']) == set(ph_df['Sido']) == set(pl_df['Sido']))\n",
    "\n",
    "# 시군구 표준화가 잘 되었는지 확인하기\n",
    "print(set(hos_df['Sigungu']) == set(ph_df['Sigungu']) == set(pl_df['Sigungu']))\n",
    "\n",
    "# 읍면동은 너무 많이 존재하기에 생략\n",
    "# 시군구 표준화가 잘 되었는지 확인하기\n",
    "print(set(hos_df['Eupmywondong']) == set(ph_df['Eupmywondong']) == set(pl_df['Eupmywondong']))"
   ]
  },
  {
   "cell_type": "markdown",
   "id": "6136ddf3-28de-439d-9e05-c97412b3e401",
   "metadata": {},
   "source": [
    "#### 시군구 표준화 확인 및 처리"
   ]
  },
  {
   "cell_type": "code",
   "execution_count": 35,
   "id": "a2864a8f-3c3b-4495-9796-2c55800f19b7",
   "metadata": {},
   "outputs": [
    {
     "name": "stdout",
     "output_type": "stream",
     "text": [
      "공통 (pl & hos): 229\n",
      "pl에만 있는 시군구: set()\n",
      "hos에만 있는 시군구: {'인천 남구'}\n"
     ]
    }
   ],
   "source": [
    "# pl_df vs hos_df의 시군구 비교\n",
    "pl_set = set(pl_df['Sigungu'])\n",
    "hos_set = set(hos_df['Sigungu'])\n",
    "\n",
    "print(\"공통 (pl & hos):\", len(pl_set & hos_set))\n",
    "print(\"pl에만 있는 시군구:\", pl_set - hos_set)\n",
    "print(\"hos에만 있는 시군구:\", hos_set - pl_set)"
   ]
  },
  {
   "cell_type": "code",
   "execution_count": 36,
   "id": "79ed14f6-fcc4-48d9-8e5b-7c1b0bdc9590",
   "metadata": {},
   "outputs": [
    {
     "name": "stdout",
     "output_type": "stream",
     "text": [
      "0\n",
      "                역지오코딩_주소 시군구_보완\n",
      "44835  인천 미추홀구 주안동 989-1   미추홀구\n"
     ]
    }
   ],
   "source": [
    "# 인천의 남구는 미추홀구로 변경됨. 더 확실한 검정을 위해 역지오 코딩 활용\n",
    "# 인천 남구만 필터링\n",
    "namgu_df = hos_df[\n",
    "    (hos_df['Sigungu'] == '인천 남구') &\n",
    "    (hos_df['wgs84Lat'].notnull()) &\n",
    "    (hos_df['wgs84Lon'].notnull())\n",
    "].copy()\n",
    "\n",
    "namgu_df['역지오코딩_주소'] = namgu_df.apply(\n",
    "    lambda row: reverse_geocode(row['wgs84Lat'], row['wgs84Lon'], KAKAO_API_KEY),\n",
    "    axis=1\n",
    ")\n",
    "\n",
    "# 시군구명 보완 함수 정의\n",
    "def extract_sigungu_from_address(addr, sigungu_list):\n",
    "    if pd.isnull(addr):\n",
    "        return None\n",
    "    for sigungu in sigungu_list:\n",
    "        if sigungu in addr:\n",
    "            return sigungu\n",
    "    return None\n",
    "\n",
    "# 역지오코딩된 주소로부터 시군구 보완\n",
    "namgu_df['시군구_보완'] = namgu_df['역지오코딩_주소'].apply(lambda x: extract_sigungu_from_address(x, sigungu_list))\n",
    "\n",
    "# 원본 hos_df에 시군구 보완 업데이트\n",
    "hos_df.loc[namgu_df.index, 'Sigungu'] = namgu_df['시군구_보완']\n",
    "\n",
    "# 결과 확인\n",
    "print(hos_df['Sigungu'].value_counts().get('인천 남구', 0))\n",
    "\n",
    "# 변경 전후 테이블 확인\n",
    "print(namgu_df[['역지오코딩_주소', '시군구_보완']].drop_duplicates())"
   ]
  },
  {
   "cell_type": "code",
   "execution_count": 37,
   "id": "e6990253-739e-473d-bfda-85367004ec44",
   "metadata": {},
   "outputs": [
    {
     "name": "stdout",
     "output_type": "stream",
     "text": [
      "공통 (pl & ph): 229\n",
      "pl에만 있는 시군구: set()\n",
      "ph에만 있는 시군구: {'인천 남구'}\n"
     ]
    }
   ],
   "source": [
    "# pl_df vs ph_df의 시군구 비교\n",
    "ph_set = set(ph_df['Sigungu'])\n",
    "\n",
    "print(\"공통 (pl & ph):\", len(pl_set & ph_set))\n",
    "print(\"pl에만 있는 시군구:\", pl_set - ph_set)\n",
    "print(\"ph에만 있는 시군구:\", ph_set - pl_set)"
   ]
  },
  {
   "cell_type": "code",
   "execution_count": 38,
   "id": "105eb299-9187-401a-a68a-1356bb28abe5",
   "metadata": {},
   "outputs": [
    {
     "name": "stdout",
     "output_type": "stream",
     "text": [
      "0\n",
      "                 역지오코딩_주소 시군구_보완\n",
      "17038  인천 미추홀구 주안동 473-20   미추홀구\n"
     ]
    }
   ],
   "source": [
    "# 인천 남구만 필터링\n",
    "namgu_df = ph_df[\n",
    "    (ph_df['Sigungu'] == '인천 남구') &\n",
    "    (ph_df['wgs84Lat'].notnull()) &\n",
    "    (ph_df['wgs84Lon'].notnull())\n",
    "].copy()\n",
    "\n",
    "namgu_df['역지오코딩_주소'] = namgu_df.apply(\n",
    "    lambda row: reverse_geocode(row['wgs84Lat'], row['wgs84Lon'], KAKAO_API_KEY),\n",
    "    axis=1\n",
    ")\n",
    "\n",
    "# 역지오코딩된 주소로부터 시군구 보완\n",
    "namgu_df['시군구_보완'] = namgu_df['역지오코딩_주소'].apply(lambda x: extract_sigungu_from_address(x, sigungu_list))\n",
    "\n",
    "# 원본 ph_df에 시군구 보완 업데이트\n",
    "ph_df.loc[namgu_df.index, 'Sigungu'] = namgu_df['시군구_보완']\n",
    "\n",
    "# 결과 확인\n",
    "print(ph_df['Sigungu'].value_counts().get('인천 남구', 0))\n",
    "\n",
    "# 변경 전후 테이블 확인\n",
    "print(namgu_df[['역지오코딩_주소', '시군구_보완']].drop_duplicates())"
   ]
  },
  {
   "cell_type": "code",
   "execution_count": 39,
   "id": "a64b5499-6934-48e3-a328-92bf528d1423",
   "metadata": {},
   "outputs": [
    {
     "name": "stdout",
     "output_type": "stream",
     "text": [
      "공통 (hos & ph): 230\n",
      "hos에만 있는 시군구: set()\n",
      "ph에만 있는 시군구: set()\n"
     ]
    }
   ],
   "source": [
    "# hos_df vs ph_df의 시군구 비교\n",
    "print(\"공통 (hos & ph):\", len(hos_set & ph_set))\n",
    "print(\"hos에만 있는 시군구:\", hos_set - ph_set)\n",
    "print(\"ph에만 있는 시군구:\", ph_set - hos_set)"
   ]
  },
  {
   "cell_type": "code",
   "execution_count": 40,
   "id": "4019f3a6-bf2d-4123-9db6-a7c0e09d1df0",
   "metadata": {},
   "outputs": [
    {
     "name": "stdout",
     "output_type": "stream",
     "text": [
      "True\n"
     ]
    }
   ],
   "source": [
    "# 시군구 표준화 확인하기\n",
    "print(set(hos_df['Sigungu']) == set(ph_df['Sigungu']) == set(pl_df['Sigungu']))"
   ]
  },
  {
   "cell_type": "markdown",
   "id": "5a0bc3d3-5205-4152-a4df-098d414f9984",
   "metadata": {},
   "source": [
    "#### 읍면동 표준화 확인 및 처리"
   ]
  },
  {
   "cell_type": "code",
   "execution_count": 41,
   "id": "4a99770a-c223-4d03-b8a3-33120d3609b5",
   "metadata": {},
   "outputs": [],
   "source": [
    "# 각 데이터 복사\n",
    "hos_df = hos_df_hang.copy()\n",
    "ph_df = ph_df_hang.copy()\n",
    "pl_df = pl_df_hang.copy()"
   ]
  },
  {
   "cell_type": "code",
   "execution_count": 42,
   "id": "4f379d0a-57ba-4fc7-8157-72eb7c7dee64",
   "metadata": {},
   "outputs": [
    {
     "name": "stdout",
     "output_type": "stream",
     "text": [
      "공통 읍면동 수 (hos & pl): 3106\n",
      "hos_df에만 있는 읍면동: ['가운동', '고로면', '과해동', '금능동', '금수면', '남사면', '능서면', '동탄면', '모현면', '미아7동', '부동면', '비산5동', '사벌면', '산곡2동', '삼남면', '상계6동', '상봉1동', '세종로', '송림2동', '안석동', '압량면', '양북면', '연희3동', '오포읍', '옥포면', '용산동6가', '용진면', '우리', '유가면', '일광면', '정관면', '중부면', '청량면', '청북면', '충정로1가', '칠원면', '퇴계원면', '하리면', '현풍면', '호명면']\n"
     ]
    }
   ],
   "source": [
    "# hos_df vs pl_df의 읍면동 비교\n",
    "hos_set = set(hos_df['Eupmywondong'])  # 병원 데이터\n",
    "pl_set = set(pl_df['Eupmywondong'])    # 인구 데이터\n",
    "\n",
    "print(\"공통 읍면동 수 (hos & pl):\", len(pl_set & hos_set))\n",
    "\n",
    "#차집합 추출\n",
    "only_in_hos = hos_set - pl_set\n",
    "print(\"hos_df에만 있는 읍면동:\", sorted(only_in_hos))"
   ]
  },
  {
   "cell_type": "code",
   "execution_count": 43,
   "id": "0ade2af0-c589-40e9-9b2e-a48471af4ec1",
   "metadata": {},
   "outputs": [
    {
     "name": "stdout",
     "output_type": "stream",
     "text": [
      "역지오코딩 후 여전히 hos_df에만 있는 읍면동: ['과해동', '세종로', '충정로1가']\n"
     ]
    }
   ],
   "source": [
    "# 해당 행 필터링\n",
    "hos_only_df = hos_df[hos_df['Eupmywondong'].isin(only_in_hos)]\n",
    "\n",
    "# 기준 읍면동 리스트 (pl_df 기준)\n",
    "eup_list = set(pl_df['Eupmywondong'])\n",
    "\n",
    "# 주소에서 읍면동 추출 함수 정의\n",
    "def extract_eupmyeondong_from_address(addr, eup_list, original_eup):\n",
    "    if pd.isnull(addr):\n",
    "        return original_eup  # 주소도 없으면 원래 값 반환\n",
    "    for eup in eup_list:\n",
    "        if eup in addr:\n",
    "            return eup\n",
    "    return original_eup  # 주소는 있지만 매칭 실패 → 원래 값 유지\n",
    "\n",
    "# 좌표 결측 없는 행만 복사\n",
    "hos_only_geo_df = hos_only_df[hos_only_df['wgs84Lat'].notnull() & hos_only_df['wgs84Lon'].notnull()].copy()\n",
    "\n",
    "# 역지오코딩 수행\n",
    "hos_only_geo_df['역지오코딩_주소'] = hos_only_geo_df.apply(\n",
    "    lambda row: reverse_geocode(row['wgs84Lat'], row['wgs84Lon'], KAKAO_API_KEY),\n",
    "    axis=1\n",
    ")\n",
    "\n",
    "# 읍면동 보완\n",
    "hos_only_geo_df['Eupmywondong_보완'] = hos_only_geo_df.apply(\n",
    "    lambda row: extract_eupmyeondong_from_address(row['역지오코딩_주소'], eup_list, row['Eupmywondong']),\n",
    "    axis=1\n",
    ")\n",
    "\n",
    "# 원본에 보완된 읍면동 반영\n",
    "hos_df.loc[hos_only_geo_df.index, 'Eupmywondong'] = hos_only_geo_df['Eupmywondong_보완']\n",
    "\n",
    "# 보완 후 결과 확인\n",
    "print(\"역지오코딩 후 여전히 hos_df에만 있는 읍면동:\",\n",
    "      sorted(set(hos_df['Eupmywondong']) - set(pl_df['Eupmywondong'])))"
   ]
  },
  {
   "cell_type": "code",
   "execution_count": 44,
   "id": "b7e0f8db-5fab-4b21-8f5b-75d786117af7",
   "metadata": {},
   "outputs": [
    {
     "name": "stdout",
     "output_type": "stream",
     "text": [
      "삭제 전 행 수: 77707\n",
      "삭제 후 행 수: 77697\n",
      "삭제된 읍면동: ['과해동', '세종로', '충정로1가']\n"
     ]
    }
   ],
   "source": [
    "# 역지오코딩 이후에도 여전히 pl_df에는 존재하지 않는 Eupmywondong 값들을 hos_df에서 삭제\n",
    "eup_list = set(pl_df['Eupmywondong'].dropna())\n",
    "\n",
    "# 여전히 hos_df에만 있는 읍면동\n",
    "only_in_hos_after_fix = set(hos_df['Eupmywondong'].dropna()) - eup_list\n",
    "\n",
    "# 삭제 전 행 개수\n",
    "print(\"삭제 전 행 수:\", len(hos_df))\n",
    "\n",
    "# 삭제\n",
    "hos_df_drop = hos_df[~hos_df['Eupmywondong'].isin(only_in_hos_after_fix)].copy()\n",
    "\n",
    "# 삭제 후 행 개수\n",
    "print(\"삭제 후 행 수:\", len(hos_df_drop))\n",
    "print(\"삭제된 읍면동:\", sorted(only_in_hos_after_fix))"
   ]
  },
  {
   "cell_type": "code",
   "execution_count": 45,
   "id": "aa9d39dc-bdd3-480e-a777-fb89c221e55c",
   "metadata": {},
   "outputs": [
    {
     "name": "stdout",
     "output_type": "stream",
     "text": [
      "공통 읍면동 수 (ph & pl): 2356\n",
      "ph_df에만 있는 읍면동: ['가운동', '과해동', '남사면', '모현면', '부전1동', '삼남면', '세종로', '압량면', '오포읍', '옥포면', '용산동6가', '우리', '유가면', '정관면', '주월1동', '중앙동7가', '청량면', '청북면', '칠원면', '현풍면', '호명면']\n"
     ]
    }
   ],
   "source": [
    "# ph_df vs pl_df의 읍면동 비교\n",
    "ph_set = set(ph_df['Eupmywondong'])  # 약국 데이터\n",
    "pl_set = set(pl_df['Eupmywondong'])    # 인구 데이터\n",
    "\n",
    "print(\"공통 읍면동 수 (ph & pl):\", len(pl_set & ph_set))\n",
    "\n",
    "#차집합 추출\n",
    "only_in_ph = ph_set - pl_set\n",
    "print(\"ph_df에만 있는 읍면동:\", sorted(only_in_ph))"
   ]
  },
  {
   "cell_type": "code",
   "execution_count": 46,
   "id": "21931af4-1b29-41b7-8737-1824230feae8",
   "metadata": {},
   "outputs": [
    {
     "name": "stdout",
     "output_type": "stream",
     "text": [
      "역지오코딩 후 여전히 ph_df에만 있는 읍면동: ['과해동', '세종로']\n"
     ]
    }
   ],
   "source": [
    "# 해당 행 필터링\n",
    "ph_only_df = ph_df[ph_df['Eupmywondong'].isin(only_in_ph)]\n",
    "\n",
    "# 좌표 결측 없는 행만 복사\n",
    "ph_only_geo_df = ph_only_df[ph_only_df['wgs84Lat'].notnull() & ph_only_df['wgs84Lon'].notnull()].copy()\n",
    "\n",
    "# 역지오코딩 수행\n",
    "ph_only_geo_df['역지오코딩_주소'] = ph_only_geo_df.apply(\n",
    "    lambda row: reverse_geocode(row['wgs84Lat'], row['wgs84Lon'], KAKAO_API_KEY),\n",
    "    axis=1\n",
    ")\n",
    "\n",
    "# 읍면동 보완\n",
    "ph_only_geo_df['Eupmywondong_보완'] = ph_only_geo_df.apply(\n",
    "    lambda row: extract_eupmyeondong_from_address(row['역지오코딩_주소'], eup_list, row['Eupmywondong']),\n",
    "    axis=1\n",
    ")\n",
    "\n",
    "\n",
    "# 원본에 보완된 읍면동 반영\n",
    "ph_df.loc[ph_only_geo_df.index, 'Eupmywondong'] = ph_only_geo_df['Eupmywondong_보완']\n",
    "\n",
    "# 보완 후 결과 확인\n",
    "print(\"역지오코딩 후 여전히 ph_df에만 있는 읍면동:\",\n",
    "      sorted(set(ph_df['Eupmywondong']) - set(pl_df['Eupmywondong'])))"
   ]
  },
  {
   "cell_type": "code",
   "execution_count": 47,
   "id": "5334cb28-dc62-4cde-9db4-c0920db308c7",
   "metadata": {},
   "outputs": [
    {
     "name": "stdout",
     "output_type": "stream",
     "text": [
      "삭제 전 행 수: 24938\n",
      "삭제 후 행 수: 24936\n",
      "삭제된 읍면동: ['과해동', '세종로']\n"
     ]
    }
   ],
   "source": [
    "# 역지오코딩 이후에도 여전히 pl_df에는 존재하지 않는 Eupmywondong 값들을 ph_df에서 삭제\n",
    "# 여전히 ph_df에만 있는 읍면동\n",
    "only_in_ph_after_fix = set(ph_df['Eupmywondong'].dropna()) - eup_list\n",
    "\n",
    "# 삭제 전 행 개수\n",
    "print(\"삭제 전 행 수:\", len(ph_df))\n",
    "\n",
    "# 삭제\n",
    "ph_df_drop = ph_df[~ph_df['Eupmywondong'].isin(only_in_ph_after_fix)].copy()\n",
    "\n",
    "# 삭제 후 행 개수\n",
    "print(\"삭제 후 행 수:\", len(ph_df_drop))\n",
    "print(\"삭제된 읍면동:\", sorted(only_in_ph_after_fix))"
   ]
  },
  {
   "cell_type": "code",
   "execution_count": 48,
   "id": "26801dc6-2ed8-42bb-9871-7ac31175c555",
   "metadata": {},
   "outputs": [
    {
     "name": "stdout",
     "output_type": "stream",
     "text": [
      "hos_df_drop에만 있는 읍면동: []\n",
      "ph_df_drop에만 있는 읍면동: []\n"
     ]
    }
   ],
   "source": [
    "# hos_df_drop에는 있지만 pl_df에는 없는 읍면동\n",
    "print(\"hos_df_drop에만 있는 읍면동:\", sorted(set(hos_df_drop['Eupmywondong']) - set(pl_df['Eupmywondong'])))\n",
    "\n",
    "# ph_df_drop에는 있지만 pl_df에는 없는 읍면동\n",
    "print(\"ph_df_drop에만 있는 읍면동:\", sorted(set(ph_df_drop['Eupmywondong']) - set(pl_df['Eupmywondong'])))"
   ]
  },
  {
   "cell_type": "code",
   "execution_count": 49,
   "id": "b511f811-df7a-43ad-ab6c-ab8e7bc68e45",
   "metadata": {},
   "outputs": [
    {
     "data": {
      "text/plain": [
       "'\\n# Hang 변수 업데이트\\nhos_df = update_hang(hos_df)\\nph_df = update_hang(ph_df)\\n\\n# 엑셀 파일로 저장\\nhos_df.to_excel(\"병원_풀데이터.xlsx\", index=False, encoding=\\'utf-8-sig\\') # 병원 데이터\\nph_df.to_excel(\"약국_풀데이터.xlsx\", index=False, encoding=\\'utf-8-sig\\') # 약국 데이터\\npl_df.to_excel(\"인구_풀데이터.xlsx\", index=False, encoding=\\'utf-8-sig\\') # 인구 데이터\\n'"
      ]
     },
     "execution_count": 49,
     "metadata": {},
     "output_type": "execute_result"
    }
   ],
   "source": [
    "'''\n",
    "# Hang 변수 업데이트\n",
    "hos_df = update_hang(hos_df)\n",
    "ph_df = update_hang(ph_df)\n",
    "\n",
    "# 엑셀 파일로 저장\n",
    "hos_df.to_excel(\"병원_풀데이터.xlsx\", index=False, encoding='utf-8-sig') # 병원 데이터\n",
    "ph_df.to_excel(\"약국_풀데이터.xlsx\", index=False, encoding='utf-8-sig') # 약국 데이터\n",
    "pl_df.to_excel(\"인구_풀데이터.xlsx\", index=False, encoding='utf-8-sig') # 인구 데이터\n",
    "'''"
   ]
  },
  {
   "cell_type": "markdown",
   "id": "c654d3b2",
   "metadata": {},
   "source": [
    "## 5. Feature engineering_진행중"
   ]
  },
  {
   "cell_type": "code",
   "execution_count": 42,
   "id": "8a872a36",
   "metadata": {},
   "outputs": [],
   "source": [
    "# 지도에 인구 표시해보기, 히트맵 (folium,히트맵)\n",
    "# 공간회귀분석...?\n",
    "# 의료취약지 자동뷴류\n",
    "# 인구 수 대비 병원,약국 수의 비율 계산"
   ]
  },
  {
   "cell_type": "code",
   "execution_count": 14,
   "id": "4fae4515-c0af-4bc2-947a-eee55a515b99",
   "metadata": {},
   "outputs": [],
   "source": [
    "# 각 데이터프레임 읽기\n",
    "hos_df_f = pd.read_excel(\"C:/Users/QQQ/Desktop/TeamMG/data/병원_풀데이터.xlsx\") # 병원 데이터\n",
    "ph_df_f = pd.read_excel(\"C:/Users/QQQ/Desktop/TeamMG/data/약국_풀데이터.xlsx\") # 약국 데이터\n",
    "pl_df_f = pd.read_excel(\"C:/Users/QQQ/Desktop/TeamMG/data/인구_풀데이터.xlsx\") # 인구 데이터"
   ]
  },
  {
   "cell_type": "code",
   "execution_count": 21,
   "id": "17a97e4e",
   "metadata": {},
   "outputs": [
    {
     "name": "stdout",
     "output_type": "stream",
     "text": [
      "(23491, 9)\n",
      "(6956, 7)\n",
      "(4454, 231)\n"
     ]
    }
   ],
   "source": [
    "# 서울, 전남, 강원도만 선택하기\n",
    "ch_sido = ['서울특별시', '전라남도', '강원특별자치도']\n",
    "hos_filt = hos_df_f[hos_df_f['Sido'].isin(ch_sido)]\n",
    "ph_filt = ph_df_f[ph_df_f['Sido'].isin(ch_sido)]\n",
    "pl_filt = pl_df_f[pl_df_f['Sido'].isin(ch_sido)]\n",
    "\n",
    "# 각 데이터프레임의 형태 확인\n",
    "print(hos_filt.shape)\n",
    "print(ph_filt.shape)\n",
    "print(pl_filt.shape)"
   ]
  },
  {
   "cell_type": "markdown",
   "id": "f7f6dac2-b9be-4d9e-900b-938f60109e51",
   "metadata": {},
   "source": [
    "### 5-1-1) 시도에 대한 병원 수/약국 비율: 인구 10,000명당 병원, 약국수"
   ]
  },
  {
   "cell_type": "code",
   "execution_count": 23,
   "id": "b1d99b35-ddf6-43f3-a3ef-4d0360496ebf",
   "metadata": {},
   "outputs": [
    {
     "name": "stderr",
     "output_type": "stream",
     "text": [
      "C:\\Users\\QQQ\\AppData\\Local\\Temp\\ipykernel_16592\\3329757405.py:9: SettingWithCopyWarning: \n",
      "A value is trying to be set on a copy of a slice from a DataFrame\n",
      "\n",
      "See the caveats in the documentation: https://pandas.pydata.org/pandas-docs/stable/user_guide/indexing.html#returning-a-view-versus-a-copy\n",
      "  pl_filt.rename(columns={'계': 'pl_count'}, inplace=True)\n"
     ]
    }
   ],
   "source": [
    "# 시도별 병원/약국 수, 인구 수 집계\n",
    "# 시도별 병원 수 집계\n",
    "hos_count_by_sido = hos_filt.groupby('Sido').size().reset_index(name='hos_count')\n",
    "\n",
    "# 시도별 약국 수 집계\n",
    "ph_count_by_sido = ph_filt.groupby('Sido').size().reset_index(name='ph_count')\n",
    "\n",
    "# pl_df_f의 '계' 열의 이름을 'Count'로 변경\n",
    "pl_filt.rename(columns={'계': 'pl_count'}, inplace=True)\n",
    "\n",
    "# 시도별 인구 수 집계\n",
    "pop_by_sido = pl_filt.groupby('Sido')['pl_count'].sum().reset_index()"
   ]
  },
  {
   "cell_type": "code",
   "execution_count": null,
   "id": "b16a9685-f608-4fd7-be4f-1081393aadbf",
   "metadata": {},
   "outputs": [
    {
     "data": {
      "text/html": [
       "<div>\n",
       "<style scoped>\n",
       "    .dataframe tbody tr th:only-of-type {\n",
       "        vertical-align: middle;\n",
       "    }\n",
       "\n",
       "    .dataframe tbody tr th {\n",
       "        vertical-align: top;\n",
       "    }\n",
       "\n",
       "    .dataframe thead th {\n",
       "        text-align: right;\n",
       "    }\n",
       "</style>\n",
       "<table border=\"1\" class=\"dataframe\">\n",
       "  <thead>\n",
       "    <tr style=\"text-align: right;\">\n",
       "      <th></th>\n",
       "      <th>Sido</th>\n",
       "      <th>hos_count</th>\n",
       "      <th>ph_count</th>\n",
       "      <th>pl_count</th>\n",
       "    </tr>\n",
       "  </thead>\n",
       "  <tbody>\n",
       "    <tr>\n",
       "      <th>0</th>\n",
       "      <td>강원특별자치도</td>\n",
       "      <td>1947</td>\n",
       "      <td>702</td>\n",
       "      <td>1512088</td>\n",
       "    </tr>\n",
       "    <tr>\n",
       "      <th>1</th>\n",
       "      <td>서울특별시</td>\n",
       "      <td>18950</td>\n",
       "      <td>5417</td>\n",
       "      <td>9331860</td>\n",
       "    </tr>\n",
       "    <tr>\n",
       "      <th>2</th>\n",
       "      <td>전라남도</td>\n",
       "      <td>2594</td>\n",
       "      <td>837</td>\n",
       "      <td>1785003</td>\n",
       "    </tr>\n",
       "  </tbody>\n",
       "</table>\n",
       "</div>"
      ],
      "text/plain": [
       "      Sido  hos_count  ph_count  pl_count\n",
       "0  강원특별자치도       1947       702   1512088\n",
       "1    서울특별시      18950      5417   9331860\n",
       "2     전라남도       2594       837   1785003"
      ]
     },
     "execution_count": 26,
     "metadata": {},
     "output_type": "execute_result"
    }
   ],
   "source": [
    "# 병원/약국/인구 데이터 병합\n",
    "# 병원 + 약국 병합\n",
    "facility_by_sido = pd.merge(hos_count_by_sido, ph_count_by_sido, on='Sido', how='outer')\n",
    "\n",
    "# 인구와 병합\n",
    "merged_by_sido = pd.merge(facility_by_sido, pop_by_sido, on='Sido', how='left')\n",
    "\n",
    "# 병합데이터 확인\n",
    "print(merged_by_sido)"
   ]
  },
  {
   "cell_type": "markdown",
   "id": "b0ec63dd-91de-4d77-8b9f-5378166c4f9a",
   "metadata": {},
   "source": [
    "#### 병원 비율 기준으로 내림차순 정렬"
   ]
  },
  {
   "cell_type": "code",
   "execution_count": 27,
   "id": "325b68c0-b655-4f51-9ffd-b43fd33a19bb",
   "metadata": {},
   "outputs": [
    {
     "data": {
      "text/html": [
       "<div>\n",
       "<style scoped>\n",
       "    .dataframe tbody tr th:only-of-type {\n",
       "        vertical-align: middle;\n",
       "    }\n",
       "\n",
       "    .dataframe tbody tr th {\n",
       "        vertical-align: top;\n",
       "    }\n",
       "\n",
       "    .dataframe thead th {\n",
       "        text-align: right;\n",
       "    }\n",
       "</style>\n",
       "<table border=\"1\" class=\"dataframe\">\n",
       "  <thead>\n",
       "    <tr style=\"text-align: right;\">\n",
       "      <th></th>\n",
       "      <th>Sido</th>\n",
       "      <th>pl_count</th>\n",
       "      <th>hos_count</th>\n",
       "      <th>hos_rate</th>\n",
       "    </tr>\n",
       "  </thead>\n",
       "  <tbody>\n",
       "    <tr>\n",
       "      <th>0</th>\n",
       "      <td>강원특별자치도</td>\n",
       "      <td>1512088</td>\n",
       "      <td>1947</td>\n",
       "      <td>12.88</td>\n",
       "    </tr>\n",
       "    <tr>\n",
       "      <th>2</th>\n",
       "      <td>전라남도</td>\n",
       "      <td>1785003</td>\n",
       "      <td>2594</td>\n",
       "      <td>14.53</td>\n",
       "    </tr>\n",
       "    <tr>\n",
       "      <th>1</th>\n",
       "      <td>서울특별시</td>\n",
       "      <td>9331860</td>\n",
       "      <td>18950</td>\n",
       "      <td>20.31</td>\n",
       "    </tr>\n",
       "  </tbody>\n",
       "</table>\n",
       "</div>"
      ],
      "text/plain": [
       "      Sido  pl_count  hos_count  hos_rate\n",
       "0  강원특별자치도   1512088       1947     12.88\n",
       "2     전라남도   1785003       2594     14.53\n",
       "1    서울특별시   9331860      18950     20.31"
      ]
     },
     "execution_count": 27,
     "metadata": {},
     "output_type": "execute_result"
    }
   ],
   "source": [
    "# 비율계산: 인구 1000명당 병원/약국 수 rate: 비율\n",
    "merged_by_sido['hos_rate'] = (merged_by_sido['hos_count'] / merged_by_sido['pl_count'] * 10000).round(2)\n",
    "merged_by_sido['ph_rate'] = (merged_by_sido['ph_count'] / merged_by_sido['pl_count'] * 10000).round(2)\n",
    "\n",
    "# 병원 비율 기준으로 내림차순 정렬\n",
    "result_by_sido = merged_by_sido.sort_values(by='hos_rate', ascending=True)\n",
    "\n",
    "df_result = result_by_sido[['Sido', 'pl_count', 'hos_count', 'hos_rate']].copy()\n",
    "df_result"
   ]
  },
  {
   "cell_type": "markdown",
   "id": "d0dc624e-e664-4d41-a71b-38f243d5de1c",
   "metadata": {},
   "source": [
    "#### 약국 비율 기준으로 내림차순 정렬"
   ]
  },
  {
   "cell_type": "code",
   "execution_count": 28,
   "id": "46a1de7c-718b-4888-9b0c-7652102b8452",
   "metadata": {},
   "outputs": [
    {
     "data": {
      "text/html": [
       "<div>\n",
       "<style scoped>\n",
       "    .dataframe tbody tr th:only-of-type {\n",
       "        vertical-align: middle;\n",
       "    }\n",
       "\n",
       "    .dataframe tbody tr th {\n",
       "        vertical-align: top;\n",
       "    }\n",
       "\n",
       "    .dataframe thead th {\n",
       "        text-align: right;\n",
       "    }\n",
       "</style>\n",
       "<table border=\"1\" class=\"dataframe\">\n",
       "  <thead>\n",
       "    <tr style=\"text-align: right;\">\n",
       "      <th></th>\n",
       "      <th>Sido</th>\n",
       "      <th>pl_count</th>\n",
       "      <th>ph_count</th>\n",
       "      <th>ph_rate</th>\n",
       "    </tr>\n",
       "  </thead>\n",
       "  <tbody>\n",
       "    <tr>\n",
       "      <th>0</th>\n",
       "      <td>강원특별자치도</td>\n",
       "      <td>1512088</td>\n",
       "      <td>702</td>\n",
       "      <td>4.64</td>\n",
       "    </tr>\n",
       "    <tr>\n",
       "      <th>2</th>\n",
       "      <td>전라남도</td>\n",
       "      <td>1785003</td>\n",
       "      <td>837</td>\n",
       "      <td>4.69</td>\n",
       "    </tr>\n",
       "    <tr>\n",
       "      <th>1</th>\n",
       "      <td>서울특별시</td>\n",
       "      <td>9331860</td>\n",
       "      <td>5417</td>\n",
       "      <td>5.80</td>\n",
       "    </tr>\n",
       "  </tbody>\n",
       "</table>\n",
       "</div>"
      ],
      "text/plain": [
       "      Sido  pl_count  ph_count  ph_rate\n",
       "0  강원특별자치도   1512088       702     4.64\n",
       "2     전라남도   1785003       837     4.69\n",
       "1    서울특별시   9331860      5417     5.80"
      ]
     },
     "execution_count": 28,
     "metadata": {},
     "output_type": "execute_result"
    }
   ],
   "source": [
    "# 약국 비율 기준으로 내림차순 정렬\n",
    "result_by_sido = merged_by_sido.sort_values(by='ph_rate', ascending=True)\n",
    "\n",
    "df_result = result_by_sido[['Sido', 'pl_count', 'ph_count', 'ph_rate']].copy()\n",
    "df_result"
   ]
  },
  {
   "cell_type": "markdown",
   "id": "a239e145-7d41-429b-8328-d521bb20179f",
   "metadata": {
    "jp-MarkdownHeadingCollapsed": true
   },
   "source": [
    "### 5-1-2) 시군구에 대한 병원 수/약국 비율: 인구 10,000명당 병원, 약국수"
   ]
  },
  {
   "cell_type": "code",
   "execution_count": 29,
   "id": "8954e2fc-a13f-423d-8eda-9c5bdd0e7a6d",
   "metadata": {},
   "outputs": [],
   "source": [
    "# 시도 + 시군구 단위 병원 수 집계\n",
    "hos_count_by_sigungu = hos_filt.groupby(['Sido', 'Sigungu']).size().reset_index(name='hos_count')\n",
    "\n",
    "# 시도 + 시군구 단위 약국 수 집계\n",
    "ph_count_by_sigungu = ph_filt.groupby(['Sido', 'Sigungu']).size().reset_index(name='ph_count')\n",
    " \n",
    "# 시도 + 시군구 단위 인구 수 집계\n",
    "pop_by_sigungu = pl_filt.groupby(['Sido', 'Sigungu'])['pl_count'].sum().reset_index()"
   ]
  },
  {
   "cell_type": "code",
   "execution_count": 33,
   "id": "bc3ab23b-7291-488d-9910-31187ec25ce8",
   "metadata": {},
   "outputs": [
    {
     "name": "stdout",
     "output_type": "stream",
     "text": [
      "     Sido_x Sigungu  hos_count   Sido_y  ph_count     Sido  pl_count\n",
      "0   강원특별자치도     강릉시        275  강원특별자치도        95  강원특별자치도    207108\n",
      "1   강원특별자치도  강원 고성군         32  강원특별자치도        11  강원특별자치도     26810\n",
      "2   강원특별자치도     동해시        102  강원특별자치도        39  강원특별자치도     86997\n",
      "3   강원특별자치도     삼척시         67  강원특별자치도        25  강원특별자치도     61485\n",
      "4   강원특별자치도     속초시        126  강원특별자치도        42  강원특별자치도     80265\n",
      "..      ...     ...        ...      ...       ...      ...       ...\n",
      "60     전라남도     장흥군         62     전라남도        16     전라남도     34322\n",
      "61     전라남도     진도군         53     전라남도        13     전라남도     28358\n",
      "62     전라남도     함평군         56     전라남도        14     전라남도     29813\n",
      "63     전라남도     해남군        104     전라남도        33     전라남도     62744\n",
      "64     전라남도     화순군        105     전라남도        31     전라남도     60600\n",
      "\n",
      "[65 rows x 7 columns]\n"
     ]
    }
   ],
   "source": [
    "# 병원/약국/인구 데이터 병합\n",
    "# 병원 + 약국 병합\n",
    "facility_by_sigungu = pd.merge(hos_count_by_sigungu, ph_count_by_sigungu, on='Sigungu', how='outer')\n",
    "\n",
    "# 인구와 병합\n",
    "merged_by_sigungu = pd.merge(facility_by_sigungu, pop_by_sigungu, on='Sigungu', how='left')\n",
    "print(merged_by_sigungu)"
   ]
  },
  {
   "cell_type": "markdown",
   "id": "a436a5fd-d616-4f77-abbd-7eabf4269727",
   "metadata": {},
   "source": [
    "#### 병원 비율 기준으로 내림차순 정렬"
   ]
  },
  {
   "cell_type": "code",
   "execution_count": 31,
   "id": "41aab8f5-eee8-4f76-a0ba-1eaa39940ac8",
   "metadata": {},
   "outputs": [
    {
     "data": {
      "text/html": [
       "<div>\n",
       "<style scoped>\n",
       "    .dataframe tbody tr th:only-of-type {\n",
       "        vertical-align: middle;\n",
       "    }\n",
       "\n",
       "    .dataframe tbody tr th {\n",
       "        vertical-align: top;\n",
       "    }\n",
       "\n",
       "    .dataframe thead th {\n",
       "        text-align: right;\n",
       "    }\n",
       "</style>\n",
       "<table border=\"1\" class=\"dataframe\">\n",
       "  <thead>\n",
       "    <tr style=\"text-align: right;\">\n",
       "      <th></th>\n",
       "      <th>Sido</th>\n",
       "      <th>Sigungu</th>\n",
       "      <th>pl_count</th>\n",
       "      <th>hos_count</th>\n",
       "      <th>hos_rate</th>\n",
       "    </tr>\n",
       "  </thead>\n",
       "  <tbody>\n",
       "    <tr>\n",
       "      <th>9</th>\n",
       "      <td>강원특별자치도</td>\n",
       "      <td>인제군</td>\n",
       "      <td>31131</td>\n",
       "      <td>28</td>\n",
       "      <td>8.99</td>\n",
       "    </tr>\n",
       "    <tr>\n",
       "      <th>6</th>\n",
       "      <td>강원특별자치도</td>\n",
       "      <td>양양군</td>\n",
       "      <td>27398</td>\n",
       "      <td>26</td>\n",
       "      <td>9.49</td>\n",
       "    </tr>\n",
       "    <tr>\n",
       "      <th>46</th>\n",
       "      <td>전라남도</td>\n",
       "      <td>광양시</td>\n",
       "      <td>155073</td>\n",
       "      <td>159</td>\n",
       "      <td>10.25</td>\n",
       "    </tr>\n",
       "    <tr>\n",
       "      <th>7</th>\n",
       "      <td>강원특별자치도</td>\n",
       "      <td>영월군</td>\n",
       "      <td>36442</td>\n",
       "      <td>38</td>\n",
       "      <td>10.43</td>\n",
       "    </tr>\n",
       "    <tr>\n",
       "      <th>3</th>\n",
       "      <td>강원특별자치도</td>\n",
       "      <td>삼척시</td>\n",
       "      <td>61485</td>\n",
       "      <td>67</td>\n",
       "      <td>10.90</td>\n",
       "    </tr>\n",
       "    <tr>\n",
       "      <th>17</th>\n",
       "      <td>강원특별자치도</td>\n",
       "      <td>횡성군</td>\n",
       "      <td>46010</td>\n",
       "      <td>51</td>\n",
       "      <td>11.08</td>\n",
       "    </tr>\n",
       "    <tr>\n",
       "      <th>10</th>\n",
       "      <td>강원특별자치도</td>\n",
       "      <td>정선군</td>\n",
       "      <td>33381</td>\n",
       "      <td>39</td>\n",
       "      <td>11.68</td>\n",
       "    </tr>\n",
       "    <tr>\n",
       "      <th>13</th>\n",
       "      <td>강원특별자치도</td>\n",
       "      <td>태백시</td>\n",
       "      <td>37642</td>\n",
       "      <td>44</td>\n",
       "      <td>11.69</td>\n",
       "    </tr>\n",
       "    <tr>\n",
       "      <th>5</th>\n",
       "      <td>강원특별자치도</td>\n",
       "      <td>양구군</td>\n",
       "      <td>20510</td>\n",
       "      <td>24</td>\n",
       "      <td>11.70</td>\n",
       "    </tr>\n",
       "    <tr>\n",
       "      <th>2</th>\n",
       "      <td>강원특별자치도</td>\n",
       "      <td>동해시</td>\n",
       "      <td>86997</td>\n",
       "      <td>102</td>\n",
       "      <td>11.72</td>\n",
       "    </tr>\n",
       "  </tbody>\n",
       "</table>\n",
       "</div>"
      ],
      "text/plain": [
       "       Sido Sigungu  pl_count  hos_count  hos_rate\n",
       "9   강원특별자치도     인제군     31131         28      8.99\n",
       "6   강원특별자치도     양양군     27398         26      9.49\n",
       "46     전라남도     광양시    155073        159     10.25\n",
       "7   강원특별자치도     영월군     36442         38     10.43\n",
       "3   강원특별자치도     삼척시     61485         67     10.90\n",
       "17  강원특별자치도     횡성군     46010         51     11.08\n",
       "10  강원특별자치도     정선군     33381         39     11.68\n",
       "13  강원특별자치도     태백시     37642         44     11.69\n",
       "5   강원특별자치도     양구군     20510         24     11.70\n",
       "2   강원특별자치도     동해시     86997        102     11.72"
      ]
     },
     "execution_count": 31,
     "metadata": {},
     "output_type": "execute_result"
    }
   ],
   "source": [
    "# 비율계산: 인구 1000명당 병원/약국 수\n",
    "merged_by_sigungu['hos_rate'] = (merged_by_sigungu['hos_count'] / merged_by_sigungu['pl_count'] * 10000).round(2)\n",
    "merged_by_sigungu['ph_rate'] = (merged_by_sigungu['ph_count'] / merged_by_sigungu['pl_count'] * 10000).round(2)\n",
    "\n",
    "# 병원 비율 기준으로 내림차순 정렬\n",
    "result_by_sigungu = merged_by_sigungu.sort_values(by='hos_rate', ascending=True)\n",
    "\n",
    "df_result = result_by_sigungu[['Sido', 'Sigungu', 'pl_count', 'hos_count', 'hos_rate']].copy()\n",
    "df_result.head(10)"
   ]
  },
  {
   "cell_type": "markdown",
   "id": "430b81e8-039e-468d-b3d1-a281b2915242",
   "metadata": {},
   "source": [
    "#### 약국 비율 기준으로 내림차순 정렬"
   ]
  },
  {
   "cell_type": "code",
   "execution_count": 39,
   "id": "f74f4aac-ee7a-4a09-aa27-3b932bb1344c",
   "metadata": {},
   "outputs": [
    {
     "data": {
      "text/html": [
       "<div>\n",
       "<style scoped>\n",
       "    .dataframe tbody tr th:only-of-type {\n",
       "        vertical-align: middle;\n",
       "    }\n",
       "\n",
       "    .dataframe tbody tr th {\n",
       "        vertical-align: top;\n",
       "    }\n",
       "\n",
       "    .dataframe thead th {\n",
       "        text-align: right;\n",
       "    }\n",
       "</style>\n",
       "<table border=\"1\" class=\"dataframe\">\n",
       "  <thead>\n",
       "    <tr style=\"text-align: right;\">\n",
       "      <th></th>\n",
       "      <th>Sido</th>\n",
       "      <th>Sigungu</th>\n",
       "      <th>pl_count</th>\n",
       "      <th>ph_count</th>\n",
       "      <th>ph_rate</th>\n",
       "    </tr>\n",
       "  </thead>\n",
       "  <tbody>\n",
       "    <tr>\n",
       "      <th>123</th>\n",
       "      <td>전라남도</td>\n",
       "      <td>신안군</td>\n",
       "      <td>38835</td>\n",
       "      <td>7</td>\n",
       "      <td>0.18</td>\n",
       "    </tr>\n",
       "    <tr>\n",
       "      <th>154</th>\n",
       "      <td>인천광역시</td>\n",
       "      <td>옹진군</td>\n",
       "      <td>19820</td>\n",
       "      <td>4</td>\n",
       "      <td>0.20</td>\n",
       "    </tr>\n",
       "    <tr>\n",
       "      <th>159</th>\n",
       "      <td>경상북도</td>\n",
       "      <td>울릉군</td>\n",
       "      <td>9017</td>\n",
       "      <td>2</td>\n",
       "      <td>0.22</td>\n",
       "    </tr>\n",
       "    <tr>\n",
       "      <th>146</th>\n",
       "      <td>경상북도</td>\n",
       "      <td>영양군</td>\n",
       "      <td>15281</td>\n",
       "      <td>4</td>\n",
       "      <td>0.26</td>\n",
       "    </tr>\n",
       "    <tr>\n",
       "      <th>162</th>\n",
       "      <td>울산광역시</td>\n",
       "      <td>울산 북구</td>\n",
       "      <td>215684</td>\n",
       "      <td>58</td>\n",
       "      <td>0.27</td>\n",
       "    </tr>\n",
       "    <tr>\n",
       "      <th>86</th>\n",
       "      <td>부산광역시</td>\n",
       "      <td>부산 강서구</td>\n",
       "      <td>142620</td>\n",
       "      <td>44</td>\n",
       "      <td>0.31</td>\n",
       "    </tr>\n",
       "    <tr>\n",
       "      <th>164</th>\n",
       "      <td>울산광역시</td>\n",
       "      <td>울주군</td>\n",
       "      <td>218392</td>\n",
       "      <td>68</td>\n",
       "      <td>0.31</td>\n",
       "    </tr>\n",
       "    <tr>\n",
       "      <th>172</th>\n",
       "      <td>경기도</td>\n",
       "      <td>의왕시</td>\n",
       "      <td>153974</td>\n",
       "      <td>47</td>\n",
       "      <td>0.31</td>\n",
       "    </tr>\n",
       "    <tr>\n",
       "      <th>151</th>\n",
       "      <td>경상북도</td>\n",
       "      <td>예천군</td>\n",
       "      <td>54214</td>\n",
       "      <td>17</td>\n",
       "      <td>0.31</td>\n",
       "    </tr>\n",
       "    <tr>\n",
       "      <th>38</th>\n",
       "      <td>대구광역시</td>\n",
       "      <td>군위군</td>\n",
       "      <td>22428</td>\n",
       "      <td>7</td>\n",
       "      <td>0.31</td>\n",
       "    </tr>\n",
       "  </tbody>\n",
       "</table>\n",
       "</div>"
      ],
      "text/plain": [
       "      Sido Sigungu  pl_count  ph_count  ph_rate\n",
       "123   전라남도     신안군     38835         7     0.18\n",
       "154  인천광역시     옹진군     19820         4     0.20\n",
       "159   경상북도     울릉군      9017         2     0.22\n",
       "146   경상북도     영양군     15281         4     0.26\n",
       "162  울산광역시   울산 북구    215684        58     0.27\n",
       "86   부산광역시  부산 강서구    142620        44     0.31\n",
       "164  울산광역시     울주군    218392        68     0.31\n",
       "172    경기도     의왕시    153974        47     0.31\n",
       "151   경상북도     예천군     54214        17     0.31\n",
       "38   대구광역시     군위군     22428         7     0.31"
      ]
     },
     "execution_count": 39,
     "metadata": {},
     "output_type": "execute_result"
    }
   ],
   "source": [
    "# 약국 비율 기준으로 내림차순 정렬\n",
    "result_by_sigungu = merged_by_sigungu.sort_values(by='ph_rate', ascending=True)\n",
    "\n",
    "df_result = result_by_sigungu[['Sido', 'Sigungu', 'pl_count', 'ph_count', 'ph_rate']].copy()\n",
    "df_result.head(10)"
   ]
  },
  {
   "cell_type": "code",
   "execution_count": 24,
   "id": "a07d725a-3c1c-4c5f-9ccd-d7a70a37198f",
   "metadata": {},
   "outputs": [],
   "source": [
    "#추가로 포함하면 좋은 내용\n",
    "#의료취약지 플래그 변수 추가: 병원 또는 약국이 하나도 존재하지 않는 읍면동은 1, 존재할 경우 0으로 플래깅\n",
    "#표준화 지표(Z-score)**로 밀도 분포 해석"
   ]
  },
  {
   "cell_type": "markdown",
   "id": "d98f90c5-38b1-4522-b6a5-8c428cfcb063",
   "metadata": {
    "jp-MarkdownHeadingCollapsed": true
   },
   "source": [
    "## 6. 모델링_진행해야 함"
   ]
  },
  {
   "cell_type": "markdown",
   "id": "feb7e09a-88ef-4976-83e9-c64134a80e5d",
   "metadata": {},
   "source": [
    "## 7. 이미지 시각화_권혁규 코드"
   ]
  },
  {
   "cell_type": "markdown",
   "id": "121d1c17-2a11-4a0b-8517-ebb7b57c9e46",
   "metadata": {},
   "source": [
    "### 1) 지도 생성"
   ]
  },
  {
   "cell_type": "code",
   "execution_count": 42,
   "id": "8c2ddb21-1f58-4bd3-bf92-3dd2b919061f",
   "metadata": {},
   "outputs": [],
   "source": [
    "# 각 데이터 복사\n",
    "hos_df = hos_df_f.copy() # 병원 데이터\n",
    "ph_df = ph_df_f.copy() # 약국 데이터\n",
    "pl_df = pl_df_f.copy() # 인구 데이터\n",
    "\n",
    "# 병원/약국/보건소에 'type' 열 추가\n",
    "hos_df['type'] = '병원'\n",
    "ph_df['type'] = '약국'\n",
    "\n",
    "# 세로 결합을 위해 필요한 열만 선택\n",
    "common_cols = ['Jibun', 'Hang', 'Sido', 'Sigungu', 'Eupmywondong', 'wgs84Lat', 'wgs84Lon', 'type']\n",
    "\n",
    "hos_sel = hos_df[common_cols]\n",
    "ph_sel = ph_df[common_cols]\n",
    "\n",
    "# 세로 방향으로 결합\n",
    "full_df = pd.concat([hos_sel, ph_sel], ignore_index=True)"
   ]
  },
  {
   "cell_type": "code",
   "execution_count": 43,
   "id": "f0c2f18e-ef74-47f9-942e-49140f5957d9",
   "metadata": {},
   "outputs": [],
   "source": [
    "# 아이콘 설정 함수\n",
    "def get_icon(category):\n",
    "\n",
    "    # 병원과 약국에 따라 아이콘 색상과 모양이 다르게 설정\n",
    "    color = \"red\" if category == \"병원\" else \"green\"\n",
    "    icon = \"medkit\" if category == \"병원\" else \"pills\"\n",
    "    return folium.Icon(color=color, icon=icon, prefix='fa')\n",
    "\n",
    "# 지도 생성 함수\n",
    "def create_maps_by_region(df, grouped, output_dir='캡스톤 법정동 지도'):\n",
    "    os.makedirs(output_dir, exist_ok=True)\n",
    "\n",
    "    # 각 지역 단위로 그룹화된 데이터를 순회\n",
    "    for region, group in grouped:\n",
    "\n",
    "        # 위도나 경도가 없는 행 제거\n",
    "        valid_group = group.dropna(subset=[\"wgs84Lat\", \"wgs84Lon\"])\n",
    "        if valid_group.empty:\n",
    "            continue\n",
    "\n",
    "        # 지도 초기화: 해당 지역의 중심 좌표로 생성\n",
    "        m = folium.Map(\n",
    "            location=[valid_group[\"wgs84Lat\"].mean(), valid_group[\"wgs84Lon\"].mean()],\n",
    "            zoom_start=13\n",
    "        )\n",
    "\n",
    "        # 병원과 약국 각각에 대한 처리\n",
    "        for category in ['병원', '약국']:\n",
    "            sub = valid_group[valid_group[\"type\"] == category]\n",
    "            if sub.empty:\n",
    "                continue\n",
    "\n",
    "            # 병원 또는 약국의 위도/경도 배열 추출\n",
    "            coords = sub[[\"wgs84Lat\", \"wgs84Lon\"]].to_numpy()\n",
    "\n",
    "            # DBSCAN 파라미터: 1km 이내의 클러스터 찾기\n",
    "            epsilon = 1.0 / 6371.0088  # 지구 반지름을 이용한 라디안 거리\n",
    "\n",
    "            # DBSCAN 클러스터링 (하버사인 거리 기준)\n",
    "            db = DBSCAN(eps=epsilon, min_samples=2, algorithm='ball_tree', metric='haversine').fit(np.radians(coords))\n",
    "            \n",
    "            sub = sub.copy()\n",
    "            sub[\"cluster\"] = db.labels_\n",
    "\n",
    "            # 각 클러스터에 대해 처리\n",
    "            for cluster_id in sub[\"cluster\"].unique():\n",
    "                cluster_points = sub[sub[\"cluster\"] == cluster_id]\n",
    "                cluster_coords = cluster_points[[\"wgs84Lat\", \"wgs84Lon\"]].to_numpy()\n",
    "\n",
    "                # 클러스터 중심 계산\n",
    "                center_lat = cluster_coords[:, 0].mean()\n",
    "                center_lon = cluster_coords[:, 1].mean()\n",
    "                max_dist = max(great_circle((center_lat, center_lon), (lat, lon)).meters for lat, lon in cluster_coords)\n",
    "                radius = max_dist + 10000\n",
    "\n",
    "                # 클러스터 중심으로 원 그리기\n",
    "                folium.Circle(\n",
    "                    location=(center_lat, center_lon),\n",
    "                    radius=radius,\n",
    "                    color='red' if category == '병원' else 'green',\n",
    "                    weight=2,\n",
    "                    fill=True,\n",
    "                    fill_color='red' if category == '병원' else 'green',\n",
    "                    fill_opacity=0.1\n",
    "                ).add_to(m)\n",
    "\n",
    "                # 각 기관 위치에 마커 추가\n",
    "                for _, row in cluster_points.iterrows():\n",
    "                    popup_text = f\"주소: {row.get('Jibun', 'N/A')}\"\n",
    "                    folium.Marker(\n",
    "                        location=(row[\"wgs84Lat\"], row[\"wgs84Lon\"]),\n",
    "                        popup=folium.Popup(popup_text, max_width=300),\n",
    "                        icon=get_icon(category)\n",
    "                    ).add_to(m)\n",
    "\n",
    "        # HTML 파일로 지도 저장\n",
    "        m.save(os.path.join(output_dir, f\"{region}.html\"))\n",
    "\n",
    "    # 전체 지도 HTML 파일들을 ZIP으로 압축\n",
    "    zip_path = output_dir + \".zip\"\n",
    "    with zipfile.ZipFile(zip_path, 'w', zipfile.ZIP_DEFLATED) as zipf:\n",
    "        for file in os.listdir(output_dir):\n",
    "            zipf.write(os.path.join(output_dir, file), arcname=file)"
   ]
  },
  {
   "cell_type": "code",
   "execution_count": 44,
   "id": "30b4d1d4-3ea8-453e-968e-08f110a88611",
   "metadata": {},
   "outputs": [
    {
     "ename": "FileNotFoundError",
     "evalue": "[Errno 2] No such file or directory: '캡스톤 법정동 지도\\\\경기도.html'",
     "output_type": "error",
     "traceback": [
      "\u001b[1;31m---------------------------------------------------------------------------\u001b[0m",
      "\u001b[1;31mFileNotFoundError\u001b[0m                         Traceback (most recent call last)",
      "Cell \u001b[1;32mIn[44], line 2\u001b[0m\n\u001b[0;32m      1\u001b[0m \u001b[38;5;66;03m# Sido를 기준으로 지도 생성\u001b[39;00m\n\u001b[1;32m----> 2\u001b[0m \u001b[43mcreate_maps_by_region\u001b[49m\u001b[43m(\u001b[49m\u001b[43mfull_df\u001b[49m\u001b[43m,\u001b[49m\u001b[43m \u001b[49m\u001b[43mfull_df\u001b[49m\u001b[38;5;241;43m.\u001b[39;49m\u001b[43mgroupby\u001b[49m\u001b[43m(\u001b[49m\u001b[38;5;124;43m'\u001b[39;49m\u001b[38;5;124;43mSido\u001b[39;49m\u001b[38;5;124;43m'\u001b[39;49m\u001b[43m)\u001b[49m\u001b[43m)\u001b[49m\n",
      "Cell \u001b[1;32mIn[43], line 77\u001b[0m, in \u001b[0;36mcreate_maps_by_region\u001b[1;34m(df, grouped, output_dir)\u001b[0m\n\u001b[0;32m     70\u001b[0m                 folium\u001b[38;5;241m.\u001b[39mMarker(\n\u001b[0;32m     71\u001b[0m                     location\u001b[38;5;241m=\u001b[39m(row[\u001b[38;5;124m\"\u001b[39m\u001b[38;5;124mwgs84Lat\u001b[39m\u001b[38;5;124m\"\u001b[39m], row[\u001b[38;5;124m\"\u001b[39m\u001b[38;5;124mwgs84Lon\u001b[39m\u001b[38;5;124m\"\u001b[39m]),\n\u001b[0;32m     72\u001b[0m                     popup\u001b[38;5;241m=\u001b[39mfolium\u001b[38;5;241m.\u001b[39mPopup(popup_text, max_width\u001b[38;5;241m=\u001b[39m\u001b[38;5;241m300\u001b[39m),\n\u001b[0;32m     73\u001b[0m                     icon\u001b[38;5;241m=\u001b[39mget_icon(category)\n\u001b[0;32m     74\u001b[0m                 )\u001b[38;5;241m.\u001b[39madd_to(m)\n\u001b[0;32m     76\u001b[0m     \u001b[38;5;66;03m# HTML 파일로 지도 저장\u001b[39;00m\n\u001b[1;32m---> 77\u001b[0m     \u001b[43mm\u001b[49m\u001b[38;5;241;43m.\u001b[39;49m\u001b[43msave\u001b[49m\u001b[43m(\u001b[49m\u001b[43mos\u001b[49m\u001b[38;5;241;43m.\u001b[39;49m\u001b[43mpath\u001b[49m\u001b[38;5;241;43m.\u001b[39;49m\u001b[43mjoin\u001b[49m\u001b[43m(\u001b[49m\u001b[43moutput_dir\u001b[49m\u001b[43m,\u001b[49m\u001b[43m \u001b[49m\u001b[38;5;124;43mf\u001b[39;49m\u001b[38;5;124;43m\"\u001b[39;49m\u001b[38;5;132;43;01m{\u001b[39;49;00m\u001b[43mregion\u001b[49m\u001b[38;5;132;43;01m}\u001b[39;49;00m\u001b[38;5;124;43m.html\u001b[39;49m\u001b[38;5;124;43m\"\u001b[39;49m\u001b[43m)\u001b[49m\u001b[43m)\u001b[49m\n\u001b[0;32m     79\u001b[0m \u001b[38;5;66;03m# 전체 지도 HTML 파일들을 ZIP으로 압축\u001b[39;00m\n\u001b[0;32m     80\u001b[0m zip_path \u001b[38;5;241m=\u001b[39m output_dir \u001b[38;5;241m+\u001b[39m \u001b[38;5;124m\"\u001b[39m\u001b[38;5;124m.zip\u001b[39m\u001b[38;5;124m\"\u001b[39m\n",
      "File \u001b[1;32mc:\\Users\\QQQ\\AppData\\Local\\Programs\\Python\\Python39\\lib\\site-packages\\branca\\element.py:223\u001b[0m, in \u001b[0;36mElement.save\u001b[1;34m(self, outfile, close_file, **kwargs)\u001b[0m\n\u001b[0;32m    221\u001b[0m fid: BinaryIO\n\u001b[0;32m    222\u001b[0m \u001b[38;5;28;01mif\u001b[39;00m \u001b[38;5;28misinstance\u001b[39m(outfile, (\u001b[38;5;28mstr\u001b[39m, \u001b[38;5;28mbytes\u001b[39m, Path)):\n\u001b[1;32m--> 223\u001b[0m     fid \u001b[38;5;241m=\u001b[39m \u001b[38;5;28;43mopen\u001b[39;49m\u001b[43m(\u001b[49m\u001b[43moutfile\u001b[49m\u001b[43m,\u001b[49m\u001b[43m \u001b[49m\u001b[38;5;124;43m\"\u001b[39;49m\u001b[38;5;124;43mwb\u001b[39;49m\u001b[38;5;124;43m\"\u001b[39;49m\u001b[43m)\u001b[49m\n\u001b[0;32m    224\u001b[0m \u001b[38;5;28;01melse\u001b[39;00m:\n\u001b[0;32m    225\u001b[0m     fid \u001b[38;5;241m=\u001b[39m outfile\n",
      "\u001b[1;31mFileNotFoundError\u001b[0m: [Errno 2] No such file or directory: '캡스톤 법정동 지도\\\\경기도.html'"
     ]
    }
   ],
   "source": [
    "# Sido를 기준으로 지도 생성\n",
    "create_maps_by_region(full_df, full_df.groupby('Sido'))"
   ]
  },
  {
   "cell_type": "markdown",
   "id": "8f93a159-f2d1-4aa6-b456-1d45d51c6b7b",
   "metadata": {},
   "source": [
    "### 2) 인구수 시각화"
   ]
  },
  {
   "cell_type": "code",
   "execution_count": 49,
   "id": "7c5ee713-6991-44e5-9a7a-280d12a50f53",
   "metadata": {},
   "outputs": [],
   "source": [
    "# 법정동 지도 폴더 경로\n",
    "root_folder = r\"C:/Users/QQQ/Desktop/TeamMG/캡스톤 법정동 지도\"\n",
    "\n",
    "# 저장할 폴더 만들기\n",
    "os.makedirs('C:/Users/QQQ/Desktop/TeamMG/캡스톤 시도별 지도', exist_ok=True)\n",
    "\n",
    "# 시도별 폴더 목록 가져오기\n",
    "sido_folders = [f.path for f in os.scandir(root_folder) if f.is_dir()]"
   ]
  },
  {
   "cell_type": "code",
   "execution_count": 50,
   "id": "cb29a2d3-b738-424e-b31a-ccaf763e9e20",
   "metadata": {},
   "outputs": [],
   "source": [
    "# 인구수 시각화를 위한 색상 지정\n",
    "colormap_list = [\n",
    "    cm.linear.Blues_09,   # 파랑 계열\n",
    "    cm.linear.Greens_09,  # 초록 계열\n",
    "    cm.linear.Purples_09, # 보라 계열\n",
    "    cm.linear.Reds_09,    # 빨강 계열\n",
    "    cm.linear.Oranges_09  # 주황 계열\n",
    "]\n",
    "\n",
    "# 지도 생성 함수\n",
    "def create_map(geo_df, output_path):\n",
    "    \n",
    "    # 지도 초기화 - 전체 중심 좌표로 지도 생성\n",
    "    center = geo_df.geometry.centroid.unary_union.centroid\n",
    "    m = folium.Map(location=[center.y, center.x], zoom_start=7)\n",
    "\n",
    "    # 시군구별로 반복하여 GeoJson 층 생성\n",
    "    for sigungu in geo_df['Sigungu'].unique():\n",
    "        \n",
    "        # 해당 시군구만 필터링\n",
    "        subset = geo_df[geo_df['Sigungu'] == sigungu]\n",
    "\n",
    "        # 인구수가 0인 격자(읍면동)는 제외\n",
    "        subset = subset[subset['계'] > 0]\n",
    "        if subset.empty:\n",
    "            continue  # 해당 시군구에 인구가 없으면 건너뜀\n",
    "\n",
    "        # 랜덤 색상 맵 선택 후, 해당 시군구의 인구 min/max에 맞춰 색상 스케일 조정\n",
    "        cmap = random.choice(colormap_list).scale(\n",
    "            subset['계'].min(), subset['계'].max()\n",
    "        )\n",
    "\n",
    "        # 각 읍면동의 인구수에 따라 색상을 지정하는 스타일 함수 정의\n",
    "        def style_fn(feat, cmap=cmap):\n",
    "            val = feat['properties']['계']\n",
    "            return {\n",
    "                'fillColor': cmap(val),       # 인구수에 따른 색상\n",
    "                'color': 'black',             # 외곽선 색 (시군구 경계선)\n",
    "                'weight': 1,                  # 외곽선 두께\n",
    "                'fillOpacity': 0.7            # 채우기 투명도\n",
    "            }\n",
    "\n",
    "        # folium GeoJson 객체로 시각화, 툴팁 및 팝업 포함\n",
    "        folium.GeoJson(\n",
    "            subset.to_json(),                # GeoDataFrame을 GeoJSON 형식으로 변환\n",
    "            style_function=style_fn,        # 스타일 지정\n",
    "            tooltip=GeoJsonTooltip(         # 마우스 오버 시 툴팁 표시\n",
    "                fields=['EMD_NM','계','Sigungu'],\n",
    "                aliases=['Eupmywondong','count','Sigungu'],\n",
    "                localize=True, sticky=True, labels=True, toLocaleString=True\n",
    "            ),\n",
    "            popup=GeoJsonPopup(             # 클릭 시 팝업 표시\n",
    "                fields=['EMD_NM','계','시군구명'],\n",
    "                aliases=['Eupmywondong','count','Sigungu'],\n",
    "                localize=True, labels=True, toLocaleString=True\n",
    "            )\n",
    "        ).add_to(m)\n",
    "    \n",
    "    # 지도 저장\n",
    "    m.save(output_path)"
   ]
  },
  {
   "cell_type": "code",
   "execution_count": 52,
   "id": "d159c8e5-c5c5-4bec-8619-7609494a6382",
   "metadata": {},
   "outputs": [],
   "source": [
    "# 시도별 지도 생성 및 저장\n",
    "merged_list = []  # 시도별 병합 데이터를 저장할 리스트\n",
    "\n",
    "# 시도별 폴더 반복\n",
    "for sido_folder in sido_folders:\n",
    "    folder_name = os.path.basename(sido_folder)        # 폴더명 추출 (예: 'LSMD_ADM_SECT_UMD_강원')\n",
    "    folder_short = folder_name[-2:]                    # 폴더명 끝 2글자 (예: '강원')\n",
    "    sido_name = sido_mapping.get(folder_short)         # 시도명 매핑 (예: '강원특별자치도' → '강원도')\n",
    "\n",
    "    # 해당 폴더 내의 shp 파일 찾기\n",
    "    shp_files = glob.glob(os.path.join(sido_folder, '*.shp'))\n",
    "    shp_file = shp_files[0]                            # 첫 번째 shp 파일 사용\n",
    "    geo_df = gpd.read_file(shp_file, encoding='euc-kr')  # 공간 정보 불러오기\n",
    "\n",
    "    # 인구 데이터에서 해당 시도만 필터링\n",
    "    pl_sido_df = pl_df[pl_df['Sido'] == sido_name].copy()\n",
    "\n",
    "    # 읍면동 코드 추출 (법정동코드 앞 8자리)\n",
    "    pl_sido_df['읍면동코드'] = pl_sido_df['법정동코드'].astype(str).str[:8]\n",
    "\n",
    "    # 시군구, 읍면동코드 기준으로 인구수 합산\n",
    "    pl_grouped = pl_sido_df.groupby(['시군구명', '읍면동코드'])['계'].sum().reset_index()\n",
    "\n",
    "    # 시도명 컬럼 추가\n",
    "    pl_grouped['시도명'] = sido_name\n",
    "\n",
    "    # 공간정보(geo_df)와 인구 데이터(pl_grouped) 병합\n",
    "    merged = geo_df.merge(pl_grouped, left_on='EMD_CD', right_on='읍면동코드')\n",
    "\n",
    "    # 좌표계를 EPSG:4326 (WGS 84)로 변환 (지도 시각화용)\n",
    "    merged = merged.to_crs(epsg=4326)\n",
    "\n",
    "    # 병합된 결과를 리스트에 저장\n",
    "    merged_list.append(merged)\n",
    "\n",
    "    # 해당 시도의 인구 지도를 저장\n",
    "    create_map(merged, f'C:/Users/QQQ/Desktop/TeamMG/캡스톤 시도별 지도/{sido_name}_인구_지도.html')"
   ]
  },
  {
   "cell_type": "code",
   "execution_count": null,
   "id": "c1d5630f",
   "metadata": {},
   "outputs": [],
   "source": []
  },
  {
   "cell_type": "code",
   "execution_count": null,
   "id": "96ae19e4",
   "metadata": {},
   "outputs": [],
   "source": []
  }
 ],
 "metadata": {
  "kernelspec": {
   "display_name": "base",
   "language": "python",
   "name": "python3"
  },
  "language_info": {
   "codemirror_mode": {
    "name": "ipython",
    "version": 3
   },
   "file_extension": ".py",
   "mimetype": "text/x-python",
   "name": "python",
   "nbconvert_exporter": "python",
   "pygments_lexer": "ipython3",
   "version": "3.9.12"
  }
 },
 "nbformat": 4,
 "nbformat_minor": 5
}
