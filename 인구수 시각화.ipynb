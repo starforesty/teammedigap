{
 "cells": [
  {
   "cell_type": "code",
   "execution_count": 3,
   "id": "4d794382",
   "metadata": {},
   "outputs": [],
   "source": [
    "import pandas as pd\n",
    "import geopandas as gpd\n",
    "import folium\n",
    "import os\n",
    "import glob\n",
    "import branca.colormap as cm\n",
    "import random\n",
    "from folium.features import GeoJsonTooltip, GeoJsonPopup"
   ]
  },
  {
   "cell_type": "markdown",
   "id": "25a8893b",
   "metadata": {},
   "source": [
    "#### 1. 인구 데이터 불러오기"
   ]
  },
  {
   "cell_type": "code",
   "execution_count": 4,
   "id": "e3c70c9c",
   "metadata": {},
   "outputs": [],
   "source": [
    "pop_df = pd.read_csv(\"C:/Users/hk522/Desktop/캡스톤 팀프로젝트/행정안전부_지역별(법정동) 성별 연령별 주민등록 인구수_20250331.csv\", encoding='euc-kr')"
   ]
  },
  {
   "cell_type": "markdown",
   "id": "f8da1ff0",
   "metadata": {},
   "source": [
    "### 2. 2글자 시도명 → 법정동 시도명 매핑"
   ]
  },
  {
   "cell_type": "code",
   "execution_count": 5,
   "id": "872ca6c1",
   "metadata": {},
   "outputs": [],
   "source": [
    "sido_mapping = {\n",
    "    '서울': '서울특별시',\n",
    "    '부산': '부산광역시',\n",
    "    '대구': '대구광역시',\n",
    "    '인천': '인천광역시',\n",
    "    '광주': '광주광역시',\n",
    "    '대전': '대전광역시',\n",
    "    '울산': '울산광역시',\n",
    "    '세종': '세종특별시',\n",
    "    '경기': '경기도',\n",
    "    '강원': '강원도',\n",
    "    '충북': '충청북도',\n",
    "    '충남': '충청남도',\n",
    "    '전북': '전라북도',\n",
    "    '전남': '전라남도',\n",
    "    '경북': '경상북도',\n",
    "    '경남': '경상남도',\n",
    "    '제주': '제주도'\n",
    "}"
   ]
  },
  {
   "cell_type": "markdown",
   "id": "a4e5b741",
   "metadata": {},
   "source": [
    "### 3. 법정동 공간정보 폴더 경로"
   ]
  },
  {
   "cell_type": "code",
   "execution_count": 6,
   "id": "f5b77376",
   "metadata": {},
   "outputs": [],
   "source": [
    "root_folder = r\"C:\\Users\\hk522\\Desktop\\캡스톤 팀프로젝트\\법정동 공간정보\""
   ]
  },
  {
   "cell_type": "markdown",
   "id": "1650658c",
   "metadata": {},
   "source": [
    "### 4. 저장할 폴더 만들기"
   ]
  },
  {
   "cell_type": "code",
   "execution_count": 7,
   "id": "7c7dc262",
   "metadata": {},
   "outputs": [],
   "source": [
    "\n",
    "os.makedirs('C:/Users/hk522/Desktop/캡스톤 팀프로젝트/시도별지도', exist_ok=True)"
   ]
  },
  {
   "cell_type": "markdown",
   "id": "a65fd137",
   "metadata": {},
   "source": [
    "#### 5. 시도별 폴더 목록 가져오기"
   ]
  },
  {
   "cell_type": "code",
   "execution_count": 8,
   "id": "00b75483",
   "metadata": {},
   "outputs": [],
   "source": [
    "sido_folders = [f.path for f in os.scandir(root_folder) if f.is_dir()]"
   ]
  },
  {
   "cell_type": "markdown",
   "id": "e8395fde",
   "metadata": {},
   "source": [
    "\n",
    "### 6. 시도별 shp 파일 처리"
   ]
  },
  {
   "cell_type": "code",
   "execution_count": 9,
   "id": "9942a399",
   "metadata": {},
   "outputs": [],
   "source": [
    "# -----------------------------\n",
    "# 1. 시군구 경계 스타일 (검정색)\n",
    "# -----------------------------\n",
    "def sigungu_border_style(feature):\n",
    "    return {\n",
    "        'fillColor': 'none',\n",
    "        'color': 'black',  # 시군구 경계 검정색\n",
    "        'weight': 1,\n",
    "        'fillOpacity': 0\n",
    "    }\n",
    "\n",
    "# -----------------------------\n",
    "# 2. 시도 경계 스타일 (파란색)\n",
    "# -----------------------------\n",
    "def sido_border_style(feature):\n",
    "    return {\n",
    "        'fillColor': 'none',\n",
    "        'color': 'blue',  # 시도 경계 파란색\n",
    "        'weight': 2,\n",
    "        'fillOpacity': 0\n",
    "    }"
   ]
  },
  {
   "cell_type": "code",
   "execution_count": 10,
   "id": "82242de1",
   "metadata": {},
   "outputs": [],
   "source": [
    "# -----------------------------\n",
    "# 3. 색상 팔레트 (랜덤 색상 선택)\n",
    "# -----------------------------\n",
    "colormap_list = [\n",
    "    cm.linear.Blues_09,   # 파랑 계열\n",
    "    cm.linear.Greens_09,  # 초록 계열\n",
    "    cm.linear.Purples_09, # 보라 계열\n",
    "    cm.linear.Reds_09,    # 빨강 계열\n",
    "    cm.linear.Oranges_09  # 주황 계열\n",
    "]"
   ]
  },
  {
   "cell_type": "code",
   "execution_count": 19,
   "id": "b1ce67bf",
   "metadata": {},
   "outputs": [],
   "source": [
    "# -----------------------------\n",
    "# 4. 지도 생성 함수\n",
    "# -----------------------------\n",
    "def create_map(geo_df, output_path):\n",
    "    # 지도 초기화\n",
    "    center = geo_df.geometry.centroid.unary_union.centroid\n",
    "    m = folium.Map(location=[center.y, center.x], zoom_start=7)\n",
    "\n",
    "    # 4-1. 시군구별 랜덤 색상 적용\n",
    "    for sigungu in geo_df['시군구명'].unique():\n",
    "        subset = geo_df[geo_df['시군구명'] == sigungu]\n",
    "        subset = subset[subset['계'] > 0]        # 인구 0제외\n",
    "        if subset.empty:\n",
    "            continue\n",
    "\n",
    "        # 랜덤 컬러맵 + 해당 시군구 min/max 스케일\n",
    "        cmap = random.choice(colormap_list).scale(\n",
    "            subset['계'].min(), subset['계'].max()\n",
    "        )\n",
    "\n",
    "        def style_fn(feat, cmap=cmap):\n",
    "            val = feat['properties']['계']\n",
    "            return {\n",
    "                'fillColor': cmap(val),\n",
    "                'color': 'black',  # 시군구 경계선\n",
    "                'weight': 1,\n",
    "                'fillOpacity': 0.7\n",
    "            }\n",
    "\n",
    "        folium.GeoJson(\n",
    "            subset.to_json(),\n",
    "            style_function=style_fn,\n",
    "            tooltip=GeoJsonTooltip(\n",
    "                fields=['EMD_NM','계','시군구명'],\n",
    "                aliases=['읍면동명','인구수','시군구'],\n",
    "                localize=True, sticky=True, labels=True, toLocaleString=True\n",
    "            ),\n",
    "            popup=GeoJsonPopup(\n",
    "                fields=['EMD_NM','계','시군구명'],\n",
    "                aliases=['읍면동명','인구수','시군구'],\n",
    "                localize=True, labels=True, toLocaleString=True\n",
    "            )\n",
    "        ).add_to(m)\n",
    "\n",
    "    # 4-2. 시도별 경계 추가\n",
    "    sido_merged = geo_df.dissolve(by='시도명').reset_index()\n",
    "    folium.GeoJson(\n",
    "        sido_merged.to_json(),\n",
    "        style_function=sido_border_style,\n",
    "        tooltip=GeoJsonTooltip(\n",
    "            fields=['시도명'],\n",
    "            aliases=['시도'],\n",
    "            localize=True, sticky=True, labels=True\n",
    "        )\n",
    "    ).add_to(m)\n",
    "\n",
    "    # 4-3. 저장\n",
    "    os.makedirs(os.path.dirname(output_path), exist_ok=True)\n",
    "    m.save(output_path)"
   ]
  },
  {
   "cell_type": "code",
   "execution_count": null,
   "id": "fabd64d0",
   "metadata": {},
   "outputs": [],
   "source": [
    "# -----------------------------\n",
    "# 5. 시도별 지도 생성 및 저장\n",
    "# -----------------------------\n",
    "merged_list = []\n",
    "\n",
    "for sido_folder in sido_folders:\n",
    "    folder_name = os.path.basename(sido_folder)\n",
    "    folder_short = folder_name[-2:]  # 폴더명 끝 2글자\n",
    "    sido_name = sido_mapping.get(folder_short)\n",
    "\n",
    "    shp_files = glob.glob(os.path.join(sido_folder, '*.shp'))\n",
    "    shp_file = shp_files[0]\n",
    "    geo_df = gpd.read_file(shp_file, encoding='euc-kr')\n",
    "\n",
    "    # 인구 데이터 해당 시도만\n",
    "    pop_sido_df = pop_df[pop_df['시도명'] == sido_name].copy()\n",
    "    pop_sido_df['읍면동코드'] = pop_sido_df['법정동코드'].astype(str).str[:8]\n",
    "    pop_grouped = pop_sido_df.groupby(['시군구명', '읍면동코드'])['계'].sum().reset_index()\n",
    "\n",
    "    # 시도명 컬럼 추가\n",
    "    pop_grouped['시도명'] = sido_name  # 시도명 추가\n",
    "\n",
    "    # 공간정보와 인구수 병합\n",
    "    merged = geo_df.merge(pop_grouped, left_on='EMD_CD', right_on='읍면동코드')\n",
    "\n",
    "    # 좌표계 변환 (EPSG:4326)\n",
    "    merged = merged.to_crs(epsg=4326)\n",
    "\n",
    "    merged_list.append(merged)\n",
    "\n",
    "    # 시도별 지도 저장\n",
    "    create_map(merged, 'C:/Users/hk522/Desktop/캡스톤 팀프로젝트/시도별지도/{sido_name}_인구_지도.html')\n",
    "\n",
    "\n",
    "# -----------------------------\n",
    "# 6. 전국 지도 생성 및 저장\n",
    "# -----------------------------\n",
    "all_merged = gpd.GeoDataFrame(pd.concat(merged_list, ignore_index=True))\n",
    "all_merged = all_merged.set_crs(merged_list[0].crs)  # 좌표계 설정\n",
    "\n",
    "# 전체 지도 저장\n",
    "create_map(all_merged, 'C:/Users/hk522/Desktop/캡스톤 팀프로젝트/시도별지도/전국_인구_지도.html')"
   ]
  }
 ],
 "metadata": {
  "kernelspec": {
   "display_name": "base",
   "language": "python",
   "name": "python3"
  },
  "language_info": {
   "codemirror_mode": {
    "name": "ipython",
    "version": 3
   },
   "file_extension": ".py",
   "mimetype": "text/x-python",
   "name": "python",
   "nbconvert_exporter": "python",
   "pygments_lexer": "ipython3",
   "version": "3.11.7"
  }
 },
 "nbformat": 4,
 "nbformat_minor": 5
}
